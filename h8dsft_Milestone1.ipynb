{
 "cells": [
  {
   "cell_type": "markdown",
   "metadata": {},
   "source": [
    "# i. INTRODUCTION\n",
    "\n",
    "    - Nama : Arisha Yenadi Putra\n",
    "    - Kelas : Data Science Fullstack Batch 07\n",
    "\n",
    "MILESTONE 1\n",
    "\n",
    "Gambaran data set yang digunakan adalah Data Frame yang terdiri dari 41.188 rows dan 21 columns. dan tipe data yang terdapat dalam data frame ini :\n",
    "- Float\n",
    "- Integer\n",
    "- Object\n",
    "\n",
    "Description : Sebuah bank melakukan marketing campign terhadap client baru untuk melakukan deposit di Bank Mereka\n",
    "\n",
    "Objective :\n",
    "- Memahami konsep peng-aplikasian model supervised learning untuk memprediksi akankah client akan berlangganan di bank kita\n",
    "- Mempersiapkan data dan megolah data tersebut untuk digunakan dalam model supervised learning\n",
    "- Mengimplementasikan supervised learning dengan data yang diberikan\n",
    "- Melakukan evaluasi model yaitu Logistic Regression, SVM, Decision Tree, Random Forest, KNN, Naive Bayes, Stochastic Gradient Descent\n",
    "- Melakukan model tuning pada model terpilih\n",
    "- Melakukan model inference dengan model terpilih yang sudah di tuning parameternya"
   ]
  },
  {
   "cell_type": "markdown",
   "metadata": {},
   "source": [
    "# ii. IMPORT LIBRARY"
   ]
  },
  {
   "cell_type": "code",
   "execution_count": 112,
   "metadata": {},
   "outputs": [],
   "source": [
    "import pandas as pd\n",
    "import numpy as np\n",
    "import matplotlib.pyplot as plt\n",
    "%matplotlib inline\n",
    "import seaborn as sns\n",
    "import matplotlib.pyplot as plt\n",
    "from sklearn import metrics"
   ]
  },
  {
   "cell_type": "code",
   "execution_count": 113,
   "metadata": {},
   "outputs": [],
   "source": [
    "# Untuk ngilangin warning pada plot\n",
    "\n",
    "import warnings\n",
    "warnings.filterwarnings('ignore') "
   ]
  },
  {
   "cell_type": "code",
   "execution_count": 114,
   "metadata": {},
   "outputs": [],
   "source": [
    "# Classification Report\n",
    "from sklearn.metrics import accuracy_score, classification_report, precision_score, recall_score \n",
    "from sklearn.metrics import confusion_matrix, precision_recall_curve, roc_curve, auc, log_loss\n",
    "\n",
    "# K-fold Cross Validation\n",
    "from sklearn.model_selection import cross_val_score\n",
    "\n",
    "# F1-Score\n",
    "from sklearn.metrics import f1_score\n",
    "\n",
    "# Menditeksi Multicollinearity\n",
    "from statsmodels.stats.outliers_influence import variance_inflation_factor\n",
    "\n",
    "# Random Forest\n",
    "from sklearn.ensemble import RandomForestClassifier\n",
    "\n",
    "# Logistic Regression\n",
    "from sklearn.linear_model import LogisticRegression\n",
    "\n",
    "# Super Vector Machine\n",
    "from sklearn.svm import SVC\n",
    "\n",
    "# Gaussian Naive Bayes\n",
    "from sklearn.naive_bayes import GaussianNB\n",
    "\n",
    "# Decision Tree\n",
    "from sklearn.tree import DecisionTreeClassifier\n",
    "\n",
    "# K-Nearest Neighbours (KNN)\n",
    "from sklearn.neighbors import KNeighborsClassifier\n",
    "\n",
    "# Stochastic Gradient Descent (SGD)\n",
    "from sklearn.linear_model import SGDClassifier\n",
    "\n",
    "# Split Dataset\n",
    "from sklearn.model_selection import train_test_split\n",
    "from sklearn.preprocessing import StandardScaler\n",
    "from sklearn.preprocessing import MinMaxScaler\n",
    "\n",
    "# Laber Encoder\n",
    "from sklearn.preprocessing import LabelEncoder\n",
    "\n",
    "# Ordinal Encoder\n",
    "from sklearn.preprocessing import OrdinalEncoder\n",
    "\n",
    "# Parameter Tunning\n",
    "from sklearn.model_selection import RandomizedSearchCV\n",
    "from sklearn.model_selection import GridSearchCV"
   ]
  },
  {
   "cell_type": "markdown",
   "metadata": {},
   "source": [
    "# iii. DATA LOADING"
   ]
  },
  {
   "cell_type": "code",
   "execution_count": 115,
   "metadata": {},
   "outputs": [],
   "source": [
    "# Menginput Dataset Bank Subscription\n",
    "df = pd.read_csv('bank-additional-full.csv', delimiter=';')"
   ]
  },
  {
   "cell_type": "code",
   "execution_count": 116,
   "metadata": {},
   "outputs": [
    {
     "data": {
      "text/html": [
       "<div>\n",
       "<style scoped>\n",
       "    .dataframe tbody tr th:only-of-type {\n",
       "        vertical-align: middle;\n",
       "    }\n",
       "\n",
       "    .dataframe tbody tr th {\n",
       "        vertical-align: top;\n",
       "    }\n",
       "\n",
       "    .dataframe thead th {\n",
       "        text-align: right;\n",
       "    }\n",
       "</style>\n",
       "<table border=\"1\" class=\"dataframe\">\n",
       "  <thead>\n",
       "    <tr style=\"text-align: right;\">\n",
       "      <th></th>\n",
       "      <th>age</th>\n",
       "      <th>job</th>\n",
       "      <th>marital</th>\n",
       "      <th>education</th>\n",
       "      <th>default</th>\n",
       "      <th>housing</th>\n",
       "      <th>loan</th>\n",
       "      <th>contact</th>\n",
       "      <th>month</th>\n",
       "      <th>day_of_week</th>\n",
       "      <th>...</th>\n",
       "      <th>campaign</th>\n",
       "      <th>pdays</th>\n",
       "      <th>previous</th>\n",
       "      <th>poutcome</th>\n",
       "      <th>emp.var.rate</th>\n",
       "      <th>cons.price.idx</th>\n",
       "      <th>cons.conf.idx</th>\n",
       "      <th>euribor3m</th>\n",
       "      <th>nr.employed</th>\n",
       "      <th>y</th>\n",
       "    </tr>\n",
       "  </thead>\n",
       "  <tbody>\n",
       "    <tr>\n",
       "      <th>0</th>\n",
       "      <td>56</td>\n",
       "      <td>housemaid</td>\n",
       "      <td>married</td>\n",
       "      <td>basic.4y</td>\n",
       "      <td>no</td>\n",
       "      <td>no</td>\n",
       "      <td>no</td>\n",
       "      <td>telephone</td>\n",
       "      <td>may</td>\n",
       "      <td>mon</td>\n",
       "      <td>...</td>\n",
       "      <td>1</td>\n",
       "      <td>999</td>\n",
       "      <td>0</td>\n",
       "      <td>nonexistent</td>\n",
       "      <td>1.1</td>\n",
       "      <td>93.994</td>\n",
       "      <td>-36.4</td>\n",
       "      <td>4.857</td>\n",
       "      <td>5191.0</td>\n",
       "      <td>no</td>\n",
       "    </tr>\n",
       "    <tr>\n",
       "      <th>1</th>\n",
       "      <td>57</td>\n",
       "      <td>services</td>\n",
       "      <td>married</td>\n",
       "      <td>high.school</td>\n",
       "      <td>unknown</td>\n",
       "      <td>no</td>\n",
       "      <td>no</td>\n",
       "      <td>telephone</td>\n",
       "      <td>may</td>\n",
       "      <td>mon</td>\n",
       "      <td>...</td>\n",
       "      <td>1</td>\n",
       "      <td>999</td>\n",
       "      <td>0</td>\n",
       "      <td>nonexistent</td>\n",
       "      <td>1.1</td>\n",
       "      <td>93.994</td>\n",
       "      <td>-36.4</td>\n",
       "      <td>4.857</td>\n",
       "      <td>5191.0</td>\n",
       "      <td>no</td>\n",
       "    </tr>\n",
       "    <tr>\n",
       "      <th>2</th>\n",
       "      <td>37</td>\n",
       "      <td>services</td>\n",
       "      <td>married</td>\n",
       "      <td>high.school</td>\n",
       "      <td>no</td>\n",
       "      <td>yes</td>\n",
       "      <td>no</td>\n",
       "      <td>telephone</td>\n",
       "      <td>may</td>\n",
       "      <td>mon</td>\n",
       "      <td>...</td>\n",
       "      <td>1</td>\n",
       "      <td>999</td>\n",
       "      <td>0</td>\n",
       "      <td>nonexistent</td>\n",
       "      <td>1.1</td>\n",
       "      <td>93.994</td>\n",
       "      <td>-36.4</td>\n",
       "      <td>4.857</td>\n",
       "      <td>5191.0</td>\n",
       "      <td>no</td>\n",
       "    </tr>\n",
       "    <tr>\n",
       "      <th>3</th>\n",
       "      <td>40</td>\n",
       "      <td>admin.</td>\n",
       "      <td>married</td>\n",
       "      <td>basic.6y</td>\n",
       "      <td>no</td>\n",
       "      <td>no</td>\n",
       "      <td>no</td>\n",
       "      <td>telephone</td>\n",
       "      <td>may</td>\n",
       "      <td>mon</td>\n",
       "      <td>...</td>\n",
       "      <td>1</td>\n",
       "      <td>999</td>\n",
       "      <td>0</td>\n",
       "      <td>nonexistent</td>\n",
       "      <td>1.1</td>\n",
       "      <td>93.994</td>\n",
       "      <td>-36.4</td>\n",
       "      <td>4.857</td>\n",
       "      <td>5191.0</td>\n",
       "      <td>no</td>\n",
       "    </tr>\n",
       "    <tr>\n",
       "      <th>4</th>\n",
       "      <td>56</td>\n",
       "      <td>services</td>\n",
       "      <td>married</td>\n",
       "      <td>high.school</td>\n",
       "      <td>no</td>\n",
       "      <td>no</td>\n",
       "      <td>yes</td>\n",
       "      <td>telephone</td>\n",
       "      <td>may</td>\n",
       "      <td>mon</td>\n",
       "      <td>...</td>\n",
       "      <td>1</td>\n",
       "      <td>999</td>\n",
       "      <td>0</td>\n",
       "      <td>nonexistent</td>\n",
       "      <td>1.1</td>\n",
       "      <td>93.994</td>\n",
       "      <td>-36.4</td>\n",
       "      <td>4.857</td>\n",
       "      <td>5191.0</td>\n",
       "      <td>no</td>\n",
       "    </tr>\n",
       "    <tr>\n",
       "      <th>...</th>\n",
       "      <td>...</td>\n",
       "      <td>...</td>\n",
       "      <td>...</td>\n",
       "      <td>...</td>\n",
       "      <td>...</td>\n",
       "      <td>...</td>\n",
       "      <td>...</td>\n",
       "      <td>...</td>\n",
       "      <td>...</td>\n",
       "      <td>...</td>\n",
       "      <td>...</td>\n",
       "      <td>...</td>\n",
       "      <td>...</td>\n",
       "      <td>...</td>\n",
       "      <td>...</td>\n",
       "      <td>...</td>\n",
       "      <td>...</td>\n",
       "      <td>...</td>\n",
       "      <td>...</td>\n",
       "      <td>...</td>\n",
       "      <td>...</td>\n",
       "    </tr>\n",
       "    <tr>\n",
       "      <th>41183</th>\n",
       "      <td>73</td>\n",
       "      <td>retired</td>\n",
       "      <td>married</td>\n",
       "      <td>professional.course</td>\n",
       "      <td>no</td>\n",
       "      <td>yes</td>\n",
       "      <td>no</td>\n",
       "      <td>cellular</td>\n",
       "      <td>nov</td>\n",
       "      <td>fri</td>\n",
       "      <td>...</td>\n",
       "      <td>1</td>\n",
       "      <td>999</td>\n",
       "      <td>0</td>\n",
       "      <td>nonexistent</td>\n",
       "      <td>-1.1</td>\n",
       "      <td>94.767</td>\n",
       "      <td>-50.8</td>\n",
       "      <td>1.028</td>\n",
       "      <td>4963.6</td>\n",
       "      <td>yes</td>\n",
       "    </tr>\n",
       "    <tr>\n",
       "      <th>41184</th>\n",
       "      <td>46</td>\n",
       "      <td>blue-collar</td>\n",
       "      <td>married</td>\n",
       "      <td>professional.course</td>\n",
       "      <td>no</td>\n",
       "      <td>no</td>\n",
       "      <td>no</td>\n",
       "      <td>cellular</td>\n",
       "      <td>nov</td>\n",
       "      <td>fri</td>\n",
       "      <td>...</td>\n",
       "      <td>1</td>\n",
       "      <td>999</td>\n",
       "      <td>0</td>\n",
       "      <td>nonexistent</td>\n",
       "      <td>-1.1</td>\n",
       "      <td>94.767</td>\n",
       "      <td>-50.8</td>\n",
       "      <td>1.028</td>\n",
       "      <td>4963.6</td>\n",
       "      <td>no</td>\n",
       "    </tr>\n",
       "    <tr>\n",
       "      <th>41185</th>\n",
       "      <td>56</td>\n",
       "      <td>retired</td>\n",
       "      <td>married</td>\n",
       "      <td>university.degree</td>\n",
       "      <td>no</td>\n",
       "      <td>yes</td>\n",
       "      <td>no</td>\n",
       "      <td>cellular</td>\n",
       "      <td>nov</td>\n",
       "      <td>fri</td>\n",
       "      <td>...</td>\n",
       "      <td>2</td>\n",
       "      <td>999</td>\n",
       "      <td>0</td>\n",
       "      <td>nonexistent</td>\n",
       "      <td>-1.1</td>\n",
       "      <td>94.767</td>\n",
       "      <td>-50.8</td>\n",
       "      <td>1.028</td>\n",
       "      <td>4963.6</td>\n",
       "      <td>no</td>\n",
       "    </tr>\n",
       "    <tr>\n",
       "      <th>41186</th>\n",
       "      <td>44</td>\n",
       "      <td>technician</td>\n",
       "      <td>married</td>\n",
       "      <td>professional.course</td>\n",
       "      <td>no</td>\n",
       "      <td>no</td>\n",
       "      <td>no</td>\n",
       "      <td>cellular</td>\n",
       "      <td>nov</td>\n",
       "      <td>fri</td>\n",
       "      <td>...</td>\n",
       "      <td>1</td>\n",
       "      <td>999</td>\n",
       "      <td>0</td>\n",
       "      <td>nonexistent</td>\n",
       "      <td>-1.1</td>\n",
       "      <td>94.767</td>\n",
       "      <td>-50.8</td>\n",
       "      <td>1.028</td>\n",
       "      <td>4963.6</td>\n",
       "      <td>yes</td>\n",
       "    </tr>\n",
       "    <tr>\n",
       "      <th>41187</th>\n",
       "      <td>74</td>\n",
       "      <td>retired</td>\n",
       "      <td>married</td>\n",
       "      <td>professional.course</td>\n",
       "      <td>no</td>\n",
       "      <td>yes</td>\n",
       "      <td>no</td>\n",
       "      <td>cellular</td>\n",
       "      <td>nov</td>\n",
       "      <td>fri</td>\n",
       "      <td>...</td>\n",
       "      <td>3</td>\n",
       "      <td>999</td>\n",
       "      <td>1</td>\n",
       "      <td>failure</td>\n",
       "      <td>-1.1</td>\n",
       "      <td>94.767</td>\n",
       "      <td>-50.8</td>\n",
       "      <td>1.028</td>\n",
       "      <td>4963.6</td>\n",
       "      <td>no</td>\n",
       "    </tr>\n",
       "  </tbody>\n",
       "</table>\n",
       "<p>41188 rows × 21 columns</p>\n",
       "</div>"
      ],
      "text/plain": [
       "       age          job  marital            education  default housing loan  \\\n",
       "0       56    housemaid  married             basic.4y       no      no   no   \n",
       "1       57     services  married          high.school  unknown      no   no   \n",
       "2       37     services  married          high.school       no     yes   no   \n",
       "3       40       admin.  married             basic.6y       no      no   no   \n",
       "4       56     services  married          high.school       no      no  yes   \n",
       "...    ...          ...      ...                  ...      ...     ...  ...   \n",
       "41183   73      retired  married  professional.course       no     yes   no   \n",
       "41184   46  blue-collar  married  professional.course       no      no   no   \n",
       "41185   56      retired  married    university.degree       no     yes   no   \n",
       "41186   44   technician  married  professional.course       no      no   no   \n",
       "41187   74      retired  married  professional.course       no     yes   no   \n",
       "\n",
       "         contact month day_of_week  ...  campaign  pdays  previous  \\\n",
       "0      telephone   may         mon  ...         1    999         0   \n",
       "1      telephone   may         mon  ...         1    999         0   \n",
       "2      telephone   may         mon  ...         1    999         0   \n",
       "3      telephone   may         mon  ...         1    999         0   \n",
       "4      telephone   may         mon  ...         1    999         0   \n",
       "...          ...   ...         ...  ...       ...    ...       ...   \n",
       "41183   cellular   nov         fri  ...         1    999         0   \n",
       "41184   cellular   nov         fri  ...         1    999         0   \n",
       "41185   cellular   nov         fri  ...         2    999         0   \n",
       "41186   cellular   nov         fri  ...         1    999         0   \n",
       "41187   cellular   nov         fri  ...         3    999         1   \n",
       "\n",
       "          poutcome emp.var.rate  cons.price.idx  cons.conf.idx  euribor3m  \\\n",
       "0      nonexistent          1.1          93.994          -36.4      4.857   \n",
       "1      nonexistent          1.1          93.994          -36.4      4.857   \n",
       "2      nonexistent          1.1          93.994          -36.4      4.857   \n",
       "3      nonexistent          1.1          93.994          -36.4      4.857   \n",
       "4      nonexistent          1.1          93.994          -36.4      4.857   \n",
       "...            ...          ...             ...            ...        ...   \n",
       "41183  nonexistent         -1.1          94.767          -50.8      1.028   \n",
       "41184  nonexistent         -1.1          94.767          -50.8      1.028   \n",
       "41185  nonexistent         -1.1          94.767          -50.8      1.028   \n",
       "41186  nonexistent         -1.1          94.767          -50.8      1.028   \n",
       "41187      failure         -1.1          94.767          -50.8      1.028   \n",
       "\n",
       "       nr.employed    y  \n",
       "0           5191.0   no  \n",
       "1           5191.0   no  \n",
       "2           5191.0   no  \n",
       "3           5191.0   no  \n",
       "4           5191.0   no  \n",
       "...            ...  ...  \n",
       "41183       4963.6  yes  \n",
       "41184       4963.6   no  \n",
       "41185       4963.6   no  \n",
       "41186       4963.6  yes  \n",
       "41187       4963.6   no  \n",
       "\n",
       "[41188 rows x 21 columns]"
      ]
     },
     "execution_count": 116,
     "metadata": {},
     "output_type": "execute_result"
    }
   ],
   "source": [
    "df"
   ]
  },
  {
   "cell_type": "markdown",
   "metadata": {},
   "source": [
    "- 1 - age\n",
    "- 2 - job : type of job (categorical: 'admin.', 'blue-collar', 'entrepreneur', 'housemaid', 'management', 'retired', 'self-employed', 'services', 'student', 'technician', 'unemployed', 'unknown')\n",
    "- 3 - marital : marital status (categorical: 'divorced','married','single','unknown'; note: 'divorced' means divorced or widowed)\n",
    "- 4 - education (categorical: 'basic.4y','basic.6y','basic.9y','high.school','illiterate','professional.course','university.degree','unknown')\n",
    "- 5 - default: has credit in default? (categorical: 'no','yes','unknown')\n",
    "- 6 - housing: has housing loan? (categorical: 'no','yes','unknown')\n",
    "- 7 - loan: has personal loan? (categorical: 'no','yes','unknown')\n",
    "\n",
    "Related with the last contact of the current campaign:\n",
    "\n",
    "- 8 - contact: contact communication type (categorical: 'cellular','telephone')\n",
    "- 9 - month: last contact month of year (categorical: 'jan', 'feb', 'mar', ..., 'nov', 'dec')\n",
    "- 10 - day_of_week: last contact day of the week (categorical: 'mon','tue','wed','thu','fri')\n",
    "- 11 - duration: last contact duration, in seconds (numeric). Important note: this attribute highly affects the output target (e.g., if duration=0 then y='no'). Yet, the duration is not known before a call is performed. Also, after the end of the call y is obviously known. Thus, this input should only be included for benchmark purposes and should be discarded if the intention is to have a realistic predictive model.\n",
    "\n",
    "Other attributes:\n",
    "\n",
    "- 12 - campaign: number of contacts performed during this campaign and for this client (numeric, includes last contact)\n",
    "- 13 - pdays: number of days that passed by after the client was last contacted from a previous campaign (numeric; 999 means client was not previously contacted)\n",
    "- 14 - previous: number of contacts performed before this campaign and for this client (numeric)\n",
    "- 15 - poutcome: outcome of the previous marketing campaign (categorical: 'failure','nonexistent','success')\n",
    "\n",
    "Social and economic context attributes\n",
    "\n",
    "- 16 - emp.var.rate: employment variation rate - quarterly indicator (numeric)\n",
    "- 17 - cons.price.idx: consumer price index/ Indeks Harga Konsumen - monthly indicator (numeric)\n",
    "- 18 - cons.conf.idx: consumer confidence index/ Indeks Kepercayaan Konsumen - monthly indicator (numeric)\n",
    "- 19 - euribor3m: euribor 3 month rate - daily indicator (numeric)\n",
    "- 20 - nr.employed: number of employees - quarterly indicator (numeric)\n",
    "\n",
    "Output variable (desired target):\n",
    "- 21 - y - has the client subscribed a term deposit? (binary: 'yes','no')"
   ]
  },
  {
   "cell_type": "code",
   "execution_count": 117,
   "metadata": {},
   "outputs": [
    {
     "data": {
      "text/plain": [
       "(41188, 21)"
      ]
     },
     "execution_count": 117,
     "metadata": {},
     "output_type": "execute_result"
    }
   ],
   "source": [
    "df.shape"
   ]
  },
  {
   "cell_type": "markdown",
   "metadata": {},
   "source": [
    "- Pada dataset ini terdapat 41.188 Baris dan 21 Kolom"
   ]
  },
  {
   "cell_type": "code",
   "execution_count": 118,
   "metadata": {},
   "outputs": [
    {
     "data": {
      "text/plain": [
       "Index(['age', 'job', 'marital', 'education', 'default', 'housing', 'loan',\n",
       "       'contact', 'month', 'day_of_week', 'duration', 'campaign', 'pdays',\n",
       "       'previous', 'poutcome', 'emp.var.rate', 'cons.price.idx',\n",
       "       'cons.conf.idx', 'euribor3m', 'nr.employed', 'y'],\n",
       "      dtype='object')"
      ]
     },
     "execution_count": 118,
     "metadata": {},
     "output_type": "execute_result"
    }
   ],
   "source": [
    "# Mengecek kata kunci yang ada pada dataset\n",
    "df.keys()"
   ]
  },
  {
   "cell_type": "code",
   "execution_count": 119,
   "metadata": {},
   "outputs": [
    {
     "data": {
      "text/html": [
       "<div>\n",
       "<style scoped>\n",
       "    .dataframe tbody tr th:only-of-type {\n",
       "        vertical-align: middle;\n",
       "    }\n",
       "\n",
       "    .dataframe tbody tr th {\n",
       "        vertical-align: top;\n",
       "    }\n",
       "\n",
       "    .dataframe thead th {\n",
       "        text-align: right;\n",
       "    }\n",
       "</style>\n",
       "<table border=\"1\" class=\"dataframe\">\n",
       "  <thead>\n",
       "    <tr style=\"text-align: right;\">\n",
       "      <th></th>\n",
       "      <th>count</th>\n",
       "      <th>mean</th>\n",
       "      <th>std</th>\n",
       "      <th>min</th>\n",
       "      <th>25%</th>\n",
       "      <th>50%</th>\n",
       "      <th>75%</th>\n",
       "      <th>max</th>\n",
       "    </tr>\n",
       "  </thead>\n",
       "  <tbody>\n",
       "    <tr>\n",
       "      <th>age</th>\n",
       "      <td>41188.0</td>\n",
       "      <td>40.024060</td>\n",
       "      <td>10.421250</td>\n",
       "      <td>17.000</td>\n",
       "      <td>32.000</td>\n",
       "      <td>38.000</td>\n",
       "      <td>47.000</td>\n",
       "      <td>98.000</td>\n",
       "    </tr>\n",
       "    <tr>\n",
       "      <th>duration</th>\n",
       "      <td>41188.0</td>\n",
       "      <td>258.285010</td>\n",
       "      <td>259.279249</td>\n",
       "      <td>0.000</td>\n",
       "      <td>102.000</td>\n",
       "      <td>180.000</td>\n",
       "      <td>319.000</td>\n",
       "      <td>4918.000</td>\n",
       "    </tr>\n",
       "    <tr>\n",
       "      <th>campaign</th>\n",
       "      <td>41188.0</td>\n",
       "      <td>2.567593</td>\n",
       "      <td>2.770014</td>\n",
       "      <td>1.000</td>\n",
       "      <td>1.000</td>\n",
       "      <td>2.000</td>\n",
       "      <td>3.000</td>\n",
       "      <td>56.000</td>\n",
       "    </tr>\n",
       "    <tr>\n",
       "      <th>pdays</th>\n",
       "      <td>41188.0</td>\n",
       "      <td>962.475454</td>\n",
       "      <td>186.910907</td>\n",
       "      <td>0.000</td>\n",
       "      <td>999.000</td>\n",
       "      <td>999.000</td>\n",
       "      <td>999.000</td>\n",
       "      <td>999.000</td>\n",
       "    </tr>\n",
       "    <tr>\n",
       "      <th>previous</th>\n",
       "      <td>41188.0</td>\n",
       "      <td>0.172963</td>\n",
       "      <td>0.494901</td>\n",
       "      <td>0.000</td>\n",
       "      <td>0.000</td>\n",
       "      <td>0.000</td>\n",
       "      <td>0.000</td>\n",
       "      <td>7.000</td>\n",
       "    </tr>\n",
       "    <tr>\n",
       "      <th>emp.var.rate</th>\n",
       "      <td>41188.0</td>\n",
       "      <td>0.081886</td>\n",
       "      <td>1.570960</td>\n",
       "      <td>-3.400</td>\n",
       "      <td>-1.800</td>\n",
       "      <td>1.100</td>\n",
       "      <td>1.400</td>\n",
       "      <td>1.400</td>\n",
       "    </tr>\n",
       "    <tr>\n",
       "      <th>cons.price.idx</th>\n",
       "      <td>41188.0</td>\n",
       "      <td>93.575664</td>\n",
       "      <td>0.578840</td>\n",
       "      <td>92.201</td>\n",
       "      <td>93.075</td>\n",
       "      <td>93.749</td>\n",
       "      <td>93.994</td>\n",
       "      <td>94.767</td>\n",
       "    </tr>\n",
       "    <tr>\n",
       "      <th>cons.conf.idx</th>\n",
       "      <td>41188.0</td>\n",
       "      <td>-40.502600</td>\n",
       "      <td>4.628198</td>\n",
       "      <td>-50.800</td>\n",
       "      <td>-42.700</td>\n",
       "      <td>-41.800</td>\n",
       "      <td>-36.400</td>\n",
       "      <td>-26.900</td>\n",
       "    </tr>\n",
       "    <tr>\n",
       "      <th>euribor3m</th>\n",
       "      <td>41188.0</td>\n",
       "      <td>3.621291</td>\n",
       "      <td>1.734447</td>\n",
       "      <td>0.634</td>\n",
       "      <td>1.344</td>\n",
       "      <td>4.857</td>\n",
       "      <td>4.961</td>\n",
       "      <td>5.045</td>\n",
       "    </tr>\n",
       "    <tr>\n",
       "      <th>nr.employed</th>\n",
       "      <td>41188.0</td>\n",
       "      <td>5167.035911</td>\n",
       "      <td>72.251528</td>\n",
       "      <td>4963.600</td>\n",
       "      <td>5099.100</td>\n",
       "      <td>5191.000</td>\n",
       "      <td>5228.100</td>\n",
       "      <td>5228.100</td>\n",
       "    </tr>\n",
       "  </tbody>\n",
       "</table>\n",
       "</div>"
      ],
      "text/plain": [
       "                  count         mean         std       min       25%  \\\n",
       "age             41188.0    40.024060   10.421250    17.000    32.000   \n",
       "duration        41188.0   258.285010  259.279249     0.000   102.000   \n",
       "campaign        41188.0     2.567593    2.770014     1.000     1.000   \n",
       "pdays           41188.0   962.475454  186.910907     0.000   999.000   \n",
       "previous        41188.0     0.172963    0.494901     0.000     0.000   \n",
       "emp.var.rate    41188.0     0.081886    1.570960    -3.400    -1.800   \n",
       "cons.price.idx  41188.0    93.575664    0.578840    92.201    93.075   \n",
       "cons.conf.idx   41188.0   -40.502600    4.628198   -50.800   -42.700   \n",
       "euribor3m       41188.0     3.621291    1.734447     0.634     1.344   \n",
       "nr.employed     41188.0  5167.035911   72.251528  4963.600  5099.100   \n",
       "\n",
       "                     50%       75%       max  \n",
       "age               38.000    47.000    98.000  \n",
       "duration         180.000   319.000  4918.000  \n",
       "campaign           2.000     3.000    56.000  \n",
       "pdays            999.000   999.000   999.000  \n",
       "previous           0.000     0.000     7.000  \n",
       "emp.var.rate       1.100     1.400     1.400  \n",
       "cons.price.idx    93.749    93.994    94.767  \n",
       "cons.conf.idx    -41.800   -36.400   -26.900  \n",
       "euribor3m          4.857     4.961     5.045  \n",
       "nr.employed     5191.000  5228.100  5228.100  "
      ]
     },
     "execution_count": 119,
     "metadata": {},
     "output_type": "execute_result"
    }
   ],
   "source": [
    "# Melihat mean, std, mode, Q1, Q2, Q3, Min, dan Max pada dataset\n",
    "df.describe().T"
   ]
  },
  {
   "cell_type": "code",
   "execution_count": 120,
   "metadata": {},
   "outputs": [
    {
     "data": {
      "image/png": "[encoded data removed]",
      "text/plain": [
       "<Figure size 1080x1080 with 12 Axes>"
      ]
     },
     "metadata": {
      "needs_background": "light"
     },
     "output_type": "display_data"
    }
   ],
   "source": [
    "# Melihat gambaran distribusi data menggunakan grafik histogram\n",
    "%matplotlib inline\n",
    "df.hist(bins=50, figsize=(15,15))\n",
    "plt.show()"
   ]
  },
  {
   "cell_type": "markdown",
   "metadata": {},
   "source": [
    "- Bisa dilihat untuk persebaran data pada kolom numeric yang dimana didominasi dengan distribusi tidak normal atau skewed"
   ]
  },
  {
   "cell_type": "code",
   "execution_count": 121,
   "metadata": {},
   "outputs": [
    {
     "name": "stdout",
     "output_type": "stream",
     "text": [
      "<class 'pandas.core.frame.DataFrame'>\n",
      "RangeIndex: 41188 entries, 0 to 41187\n",
      "Data columns (total 21 columns):\n",
      " #   Column          Non-Null Count  Dtype  \n",
      "---  ------          --------------  -----  \n",
      " 0   age             41188 non-null  int64  \n",
      " 1   job             41188 non-null  object \n",
      " 2   marital         41188 non-null  object \n",
      " 3   education       41188 non-null  object \n",
      " 4   default         41188 non-null  object \n",
      " 5   housing         41188 non-null  object \n",
      " 6   loan            41188 non-null  object \n",
      " 7   contact         41188 non-null  object \n",
      " 8   month           41188 non-null  object \n",
      " 9   day_of_week     41188 non-null  object \n",
      " 10  duration        41188 non-null  int64  \n",
      " 11  campaign        41188 non-null  int64  \n",
      " 12  pdays           41188 non-null  int64  \n",
      " 13  previous        41188 non-null  int64  \n",
      " 14  poutcome        41188 non-null  object \n",
      " 15  emp.var.rate    41188 non-null  float64\n",
      " 16  cons.price.idx  41188 non-null  float64\n",
      " 17  cons.conf.idx   41188 non-null  float64\n",
      " 18  euribor3m       41188 non-null  float64\n",
      " 19  nr.employed     41188 non-null  float64\n",
      " 20  y               41188 non-null  object \n",
      "dtypes: float64(5), int64(5), object(11)\n",
      "memory usage: 6.6+ MB\n"
     ]
    }
   ],
   "source": [
    "df.info()"
   ]
  },
  {
   "cell_type": "markdown",
   "metadata": {},
   "source": [
    "- Pada dataset ini tidak ditemukannya missing value dan type data terdiri dari Float, Integer, Object"
   ]
  },
  {
   "cell_type": "code",
   "execution_count": 122,
   "metadata": {},
   "outputs": [
    {
     "data": {
      "text/plain": [
       "age               0\n",
       "job               0\n",
       "marital           0\n",
       "education         0\n",
       "default           0\n",
       "housing           0\n",
       "loan              0\n",
       "contact           0\n",
       "month             0\n",
       "day_of_week       0\n",
       "duration          0\n",
       "campaign          0\n",
       "pdays             0\n",
       "previous          0\n",
       "poutcome          0\n",
       "emp.var.rate      0\n",
       "cons.price.idx    0\n",
       "cons.conf.idx     0\n",
       "euribor3m         0\n",
       "nr.employed       0\n",
       "y                 0\n",
       "dtype: int64"
      ]
     },
     "execution_count": 122,
     "metadata": {},
     "output_type": "execute_result"
    }
   ],
   "source": [
    "df.isnull().sum()"
   ]
  },
  {
   "cell_type": "markdown",
   "metadata": {},
   "source": [
    "- Untuk memastikan lagi bahwa tidak ada missing value pada setiap kolom"
   ]
  },
  {
   "cell_type": "markdown",
   "metadata": {},
   "source": [
    "# iv. DATA EXPLORATION"
   ]
  },
  {
   "cell_type": "code",
   "execution_count": 123,
   "metadata": {},
   "outputs": [
    {
     "data": {
      "text/html": [
       "<div>\n",
       "<style scoped>\n",
       "    .dataframe tbody tr th:only-of-type {\n",
       "        vertical-align: middle;\n",
       "    }\n",
       "\n",
       "    .dataframe tbody tr th {\n",
       "        vertical-align: top;\n",
       "    }\n",
       "\n",
       "    .dataframe thead th {\n",
       "        text-align: right;\n",
       "    }\n",
       "</style>\n",
       "<table border=\"1\" class=\"dataframe\">\n",
       "  <thead>\n",
       "    <tr style=\"text-align: right;\">\n",
       "      <th></th>\n",
       "      <th>age</th>\n",
       "      <th>job</th>\n",
       "      <th>marital</th>\n",
       "      <th>education</th>\n",
       "      <th>default</th>\n",
       "      <th>housing</th>\n",
       "      <th>loan</th>\n",
       "      <th>contact</th>\n",
       "      <th>month</th>\n",
       "      <th>day_of_week</th>\n",
       "      <th>...</th>\n",
       "      <th>campaign</th>\n",
       "      <th>pdays</th>\n",
       "      <th>previous</th>\n",
       "      <th>poutcome</th>\n",
       "      <th>emp.var.rate</th>\n",
       "      <th>cons.price.idx</th>\n",
       "      <th>cons.conf.idx</th>\n",
       "      <th>euribor3m</th>\n",
       "      <th>nr.employed</th>\n",
       "      <th>y</th>\n",
       "    </tr>\n",
       "  </thead>\n",
       "  <tbody>\n",
       "    <tr>\n",
       "      <th>0</th>\n",
       "      <td>56</td>\n",
       "      <td>housemaid</td>\n",
       "      <td>married</td>\n",
       "      <td>basic.4y</td>\n",
       "      <td>no</td>\n",
       "      <td>no</td>\n",
       "      <td>no</td>\n",
       "      <td>telephone</td>\n",
       "      <td>may</td>\n",
       "      <td>mon</td>\n",
       "      <td>...</td>\n",
       "      <td>1</td>\n",
       "      <td>999</td>\n",
       "      <td>0</td>\n",
       "      <td>nonexistent</td>\n",
       "      <td>1.1</td>\n",
       "      <td>93.994</td>\n",
       "      <td>-36.4</td>\n",
       "      <td>4.857</td>\n",
       "      <td>5191.0</td>\n",
       "      <td>no</td>\n",
       "    </tr>\n",
       "    <tr>\n",
       "      <th>1</th>\n",
       "      <td>57</td>\n",
       "      <td>services</td>\n",
       "      <td>married</td>\n",
       "      <td>high.school</td>\n",
       "      <td>unknown</td>\n",
       "      <td>no</td>\n",
       "      <td>no</td>\n",
       "      <td>telephone</td>\n",
       "      <td>may</td>\n",
       "      <td>mon</td>\n",
       "      <td>...</td>\n",
       "      <td>1</td>\n",
       "      <td>999</td>\n",
       "      <td>0</td>\n",
       "      <td>nonexistent</td>\n",
       "      <td>1.1</td>\n",
       "      <td>93.994</td>\n",
       "      <td>-36.4</td>\n",
       "      <td>4.857</td>\n",
       "      <td>5191.0</td>\n",
       "      <td>no</td>\n",
       "    </tr>\n",
       "    <tr>\n",
       "      <th>2</th>\n",
       "      <td>37</td>\n",
       "      <td>services</td>\n",
       "      <td>married</td>\n",
       "      <td>high.school</td>\n",
       "      <td>no</td>\n",
       "      <td>yes</td>\n",
       "      <td>no</td>\n",
       "      <td>telephone</td>\n",
       "      <td>may</td>\n",
       "      <td>mon</td>\n",
       "      <td>...</td>\n",
       "      <td>1</td>\n",
       "      <td>999</td>\n",
       "      <td>0</td>\n",
       "      <td>nonexistent</td>\n",
       "      <td>1.1</td>\n",
       "      <td>93.994</td>\n",
       "      <td>-36.4</td>\n",
       "      <td>4.857</td>\n",
       "      <td>5191.0</td>\n",
       "      <td>no</td>\n",
       "    </tr>\n",
       "  </tbody>\n",
       "</table>\n",
       "<p>3 rows × 21 columns</p>\n",
       "</div>"
      ],
      "text/plain": [
       "   age        job  marital    education  default housing loan    contact  \\\n",
       "0   56  housemaid  married     basic.4y       no      no   no  telephone   \n",
       "1   57   services  married  high.school  unknown      no   no  telephone   \n",
       "2   37   services  married  high.school       no     yes   no  telephone   \n",
       "\n",
       "  month day_of_week  ...  campaign  pdays  previous     poutcome emp.var.rate  \\\n",
       "0   may         mon  ...         1    999         0  nonexistent          1.1   \n",
       "1   may         mon  ...         1    999         0  nonexistent          1.1   \n",
       "2   may         mon  ...         1    999         0  nonexistent          1.1   \n",
       "\n",
       "   cons.price.idx  cons.conf.idx  euribor3m  nr.employed   y  \n",
       "0          93.994          -36.4      4.857       5191.0  no  \n",
       "1          93.994          -36.4      4.857       5191.0  no  \n",
       "2          93.994          -36.4      4.857       5191.0  no  \n",
       "\n",
       "[3 rows x 21 columns]"
      ]
     },
     "execution_count": 123,
     "metadata": {},
     "output_type": "execute_result"
    }
   ],
   "source": [
    "df.head(3)"
   ]
  },
  {
   "cell_type": "code",
   "execution_count": 124,
   "metadata": {},
   "outputs": [
    {
     "data": {
      "text/plain": [
       "Index(['age', 'job', 'marital', 'education', 'default', 'housing', 'loan',\n",
       "       'contact', 'month', 'day_of_week', 'duration', 'campaign', 'pdays',\n",
       "       'previous', 'poutcome', 'emp.var.rate', 'cons.price.idx',\n",
       "       'cons.conf.idx', 'euribor3m', 'nr.employed', 'y'],\n",
       "      dtype='object')"
      ]
     },
     "execution_count": 124,
     "metadata": {},
     "output_type": "execute_result"
    }
   ],
   "source": [
    "# Melihat kolom apa saja yang ada pada dataset\n",
    "df.columns"
   ]
  },
  {
   "cell_type": "code",
   "execution_count": 125,
   "metadata": {},
   "outputs": [
    {
     "data": {
      "text/plain": [
       "array(['housemaid', 'services', 'admin.', 'blue-collar', 'technician',\n",
       "       'retired', 'management', 'unemployed', 'self-employed', 'unknown',\n",
       "       'entrepreneur', 'student'], dtype=object)"
      ]
     },
     "execution_count": 125,
     "metadata": {},
     "output_type": "execute_result"
    }
   ],
   "source": [
    "# Melihat isi unik data yang ada pada kolom job\n",
    "df.job.unique()"
   ]
  },
  {
   "cell_type": "code",
   "execution_count": 126,
   "metadata": {},
   "outputs": [
    {
     "data": {
      "text/plain": [
       "array(['married', 'single', 'divorced', 'unknown'], dtype=object)"
      ]
     },
     "execution_count": 126,
     "metadata": {},
     "output_type": "execute_result"
    }
   ],
   "source": [
    "# Melihat isi unik data yang ada pada kolom marital\n",
    "df.marital.unique()"
   ]
  },
  {
   "cell_type": "code",
   "execution_count": 127,
   "metadata": {},
   "outputs": [
    {
     "data": {
      "text/plain": [
       "array(['basic.4y', 'high.school', 'basic.6y', 'basic.9y',\n",
       "       'professional.course', 'unknown', 'university.degree',\n",
       "       'illiterate'], dtype=object)"
      ]
     },
     "execution_count": 127,
     "metadata": {},
     "output_type": "execute_result"
    }
   ],
   "source": [
    "# Melihat isi unik data yang ada pada kolom education\n",
    "df.education.unique()"
   ]
  },
  {
   "cell_type": "code",
   "execution_count": 128,
   "metadata": {},
   "outputs": [
    {
     "data": {
      "text/plain": [
       "array(['no', 'unknown', 'yes'], dtype=object)"
      ]
     },
     "execution_count": 128,
     "metadata": {},
     "output_type": "execute_result"
    }
   ],
   "source": [
    "# Melihat isi unik data yang ada pada kolom default\n",
    "df.default.unique()"
   ]
  },
  {
   "cell_type": "code",
   "execution_count": 129,
   "metadata": {},
   "outputs": [
    {
     "data": {
      "text/plain": [
       "array(['no', 'yes', 'unknown'], dtype=object)"
      ]
     },
     "execution_count": 129,
     "metadata": {},
     "output_type": "execute_result"
    }
   ],
   "source": [
    "# Melihat isi unik data yang ada pada kolom housing\n",
    "df.housing.unique()"
   ]
  },
  {
   "cell_type": "code",
   "execution_count": 130,
   "metadata": {},
   "outputs": [
    {
     "data": {
      "text/plain": [
       "array(['no', 'yes', 'unknown'], dtype=object)"
      ]
     },
     "execution_count": 130,
     "metadata": {},
     "output_type": "execute_result"
    }
   ],
   "source": [
    "# Melihat isi unik data yang ada pada kolom loan\n",
    "df.loan.unique()"
   ]
  },
  {
   "cell_type": "code",
   "execution_count": 131,
   "metadata": {},
   "outputs": [
    {
     "data": {
      "text/plain": [
       "array(['telephone', 'cellular'], dtype=object)"
      ]
     },
     "execution_count": 131,
     "metadata": {},
     "output_type": "execute_result"
    }
   ],
   "source": [
    "# Melihat isi unik data yang ada pada kolom contact\n",
    "df.contact.unique()"
   ]
  },
  {
   "cell_type": "code",
   "execution_count": 132,
   "metadata": {},
   "outputs": [
    {
     "data": {
      "text/plain": [
       "array(['may', 'jun', 'jul', 'aug', 'oct', 'nov', 'dec', 'mar', 'apr',\n",
       "       'sep'], dtype=object)"
      ]
     },
     "execution_count": 132,
     "metadata": {},
     "output_type": "execute_result"
    }
   ],
   "source": [
    "# Melihat isi unik data yang ada pada kolom month\n",
    "df.month.unique()"
   ]
  },
  {
   "cell_type": "code",
   "execution_count": 133,
   "metadata": {},
   "outputs": [
    {
     "data": {
      "text/plain": [
       "array(['mon', 'tue', 'wed', 'thu', 'fri'], dtype=object)"
      ]
     },
     "execution_count": 133,
     "metadata": {},
     "output_type": "execute_result"
    }
   ],
   "source": [
    "# Melihat isi unik data yang ada pada kolom day_of_week\n",
    "df.day_of_week.unique()"
   ]
  },
  {
   "cell_type": "code",
   "execution_count": 134,
   "metadata": {},
   "outputs": [
    {
     "data": {
      "text/plain": [
       "array(['nonexistent', 'failure', 'success'], dtype=object)"
      ]
     },
     "execution_count": 134,
     "metadata": {},
     "output_type": "execute_result"
    }
   ],
   "source": [
    "# Melihat isi unik data yang ada pada kolom poutcome\n",
    "df.poutcome.unique()"
   ]
  },
  {
   "cell_type": "code",
   "execution_count": 135,
   "metadata": {},
   "outputs": [
    {
     "data": {
      "text/plain": [
       "array(['no', 'yes'], dtype=object)"
      ]
     },
     "execution_count": 135,
     "metadata": {},
     "output_type": "execute_result"
    }
   ],
   "source": [
    "# Melihat isi unik data yang ada pada kolom y (target pada dataset ini)\n",
    "df.y.unique()"
   ]
  },
  {
   "cell_type": "code",
   "execution_count": 136,
   "metadata": {},
   "outputs": [
    {
     "data": {
      "text/plain": [
       "admin.           10422\n",
       "blue-collar       9254\n",
       "technician        6743\n",
       "services          3969\n",
       "management        2924\n",
       "retired           1720\n",
       "entrepreneur      1456\n",
       "self-employed     1421\n",
       "housemaid         1060\n",
       "unemployed        1014\n",
       "student            875\n",
       "unknown            330\n",
       "Name: job, dtype: int64"
      ]
     },
     "execution_count": 136,
     "metadata": {},
     "output_type": "execute_result"
    }
   ],
   "source": [
    "# Membandingkan banyaknya jumlah pada setiap kategori di kolom job\n",
    "df.job.value_counts()"
   ]
  },
  {
   "cell_type": "markdown",
   "metadata": {},
   "source": [
    "- Disini bisa dilihat bahwa customer yang dihubungi dari pihak bank paling banyak berkerja di bagian admin dan untuk yang jarang dihubungi adalah student. Dan untuk customer yang tidak diketahui pekerjaannya sangat jarang dihubungi dari pihak bank"
   ]
  },
  {
   "cell_type": "code",
   "execution_count": 137,
   "metadata": {},
   "outputs": [
    {
     "data": {
      "text/plain": [
       "no     36548\n",
       "yes     4640\n",
       "Name: y, dtype: int64"
      ]
     },
     "execution_count": 137,
     "metadata": {},
     "output_type": "execute_result"
    }
   ],
   "source": [
    "# Melihat perbandingan label pada target (y)\n",
    "df.y.value_counts()"
   ]
  },
  {
   "cell_type": "code",
   "execution_count": 138,
   "metadata": {},
   "outputs": [
    {
     "data": {
      "text/html": [
       "<div>\n",
       "<style scoped>\n",
       "    .dataframe tbody tr th:only-of-type {\n",
       "        vertical-align: middle;\n",
       "    }\n",
       "\n",
       "    .dataframe tbody tr th {\n",
       "        vertical-align: top;\n",
       "    }\n",
       "\n",
       "    .dataframe thead th {\n",
       "        text-align: right;\n",
       "    }\n",
       "</style>\n",
       "<table border=\"1\" class=\"dataframe\">\n",
       "  <thead>\n",
       "    <tr style=\"text-align: right;\">\n",
       "      <th>marital</th>\n",
       "      <th>divorced</th>\n",
       "      <th>married</th>\n",
       "      <th>single</th>\n",
       "      <th>unknown</th>\n",
       "    </tr>\n",
       "    <tr>\n",
       "      <th>job</th>\n",
       "      <th></th>\n",
       "      <th></th>\n",
       "      <th></th>\n",
       "      <th></th>\n",
       "    </tr>\n",
       "  </thead>\n",
       "  <tbody>\n",
       "    <tr>\n",
       "      <th>admin.</th>\n",
       "      <td>1280</td>\n",
       "      <td>5253</td>\n",
       "      <td>3875</td>\n",
       "      <td>14</td>\n",
       "    </tr>\n",
       "    <tr>\n",
       "      <th>blue-collar</th>\n",
       "      <td>728</td>\n",
       "      <td>6687</td>\n",
       "      <td>1825</td>\n",
       "      <td>14</td>\n",
       "    </tr>\n",
       "    <tr>\n",
       "      <th>entrepreneur</th>\n",
       "      <td>179</td>\n",
       "      <td>1071</td>\n",
       "      <td>203</td>\n",
       "      <td>3</td>\n",
       "    </tr>\n",
       "    <tr>\n",
       "      <th>housemaid</th>\n",
       "      <td>161</td>\n",
       "      <td>777</td>\n",
       "      <td>119</td>\n",
       "      <td>3</td>\n",
       "    </tr>\n",
       "    <tr>\n",
       "      <th>management</th>\n",
       "      <td>331</td>\n",
       "      <td>2089</td>\n",
       "      <td>501</td>\n",
       "      <td>3</td>\n",
       "    </tr>\n",
       "    <tr>\n",
       "      <th>retired</th>\n",
       "      <td>348</td>\n",
       "      <td>1274</td>\n",
       "      <td>93</td>\n",
       "      <td>5</td>\n",
       "    </tr>\n",
       "    <tr>\n",
       "      <th>self-employed</th>\n",
       "      <td>133</td>\n",
       "      <td>904</td>\n",
       "      <td>379</td>\n",
       "      <td>5</td>\n",
       "    </tr>\n",
       "    <tr>\n",
       "      <th>services</th>\n",
       "      <td>532</td>\n",
       "      <td>2294</td>\n",
       "      <td>1137</td>\n",
       "      <td>6</td>\n",
       "    </tr>\n",
       "    <tr>\n",
       "      <th>student</th>\n",
       "      <td>9</td>\n",
       "      <td>41</td>\n",
       "      <td>824</td>\n",
       "      <td>1</td>\n",
       "    </tr>\n",
       "    <tr>\n",
       "      <th>technician</th>\n",
       "      <td>774</td>\n",
       "      <td>3670</td>\n",
       "      <td>2287</td>\n",
       "      <td>12</td>\n",
       "    </tr>\n",
       "    <tr>\n",
       "      <th>unemployed</th>\n",
       "      <td>124</td>\n",
       "      <td>634</td>\n",
       "      <td>251</td>\n",
       "      <td>5</td>\n",
       "    </tr>\n",
       "    <tr>\n",
       "      <th>unknown</th>\n",
       "      <td>13</td>\n",
       "      <td>234</td>\n",
       "      <td>74</td>\n",
       "      <td>9</td>\n",
       "    </tr>\n",
       "  </tbody>\n",
       "</table>\n",
       "</div>"
      ],
      "text/plain": [
       "marital        divorced  married  single  unknown\n",
       "job                                              \n",
       "admin.             1280     5253    3875       14\n",
       "blue-collar         728     6687    1825       14\n",
       "entrepreneur        179     1071     203        3\n",
       "housemaid           161      777     119        3\n",
       "management          331     2089     501        3\n",
       "retired             348     1274      93        5\n",
       "self-employed       133      904     379        5\n",
       "services            532     2294    1137        6\n",
       "student               9       41     824        1\n",
       "technician          774     3670    2287       12\n",
       "unemployed          124      634     251        5\n",
       "unknown              13      234      74        9"
      ]
     },
     "execution_count": 138,
     "metadata": {},
     "output_type": "execute_result"
    }
   ],
   "source": [
    "# Melihat jumlah konsumen dari status perkawinan dengan berbagai bidang pekerjaan\n",
    "compare1 = pd.crosstab(df[\"job\"],df[\"marital\"])\n",
    "compare1"
   ]
  },
  {
   "cell_type": "code",
   "execution_count": 139,
   "metadata": {},
   "outputs": [
    {
     "data": {
      "text/plain": [
       "<AxesSubplot:xlabel='job'>"
      ]
     },
     "execution_count": 139,
     "metadata": {},
     "output_type": "execute_result"
    },
    {
     "data": {
      "image/png": "[encoded data removed]",
      "text/plain": [
       "<Figure size 864x288 with 1 Axes>"
      ]
     },
     "metadata": {
      "needs_background": "light"
     },
     "output_type": "display_data"
    }
   ],
   "source": [
    "compare1.plot(kind='bar', figsize=(12,4))"
   ]
  },
  {
   "cell_type": "markdown",
   "metadata": {},
   "source": [
    "- Dimana pada client kita, client yang yang paling banyak dihubungi adalah pekerja admin. Dan kebanyakan client yang sering dihubungi adalah orang yang sudah menikah\n",
    "- Untuk client yang paling sedikit dihubungi oleh team marketing bank adalah client yang tidak diketahui pekerjaannya dan kebanyakan status pernikahannya itu sudah menikah"
   ]
  },
  {
   "cell_type": "code",
   "execution_count": 140,
   "metadata": {},
   "outputs": [
    {
     "data": {
      "text/html": [
       "<div>\n",
       "<style scoped>\n",
       "    .dataframe tbody tr th:only-of-type {\n",
       "        vertical-align: middle;\n",
       "    }\n",
       "\n",
       "    .dataframe tbody tr th {\n",
       "        vertical-align: top;\n",
       "    }\n",
       "\n",
       "    .dataframe thead th {\n",
       "        text-align: right;\n",
       "    }\n",
       "</style>\n",
       "<table border=\"1\" class=\"dataframe\">\n",
       "  <thead>\n",
       "    <tr style=\"text-align: right;\">\n",
       "      <th>education</th>\n",
       "      <th>basic.4y</th>\n",
       "      <th>basic.6y</th>\n",
       "      <th>basic.9y</th>\n",
       "      <th>high.school</th>\n",
       "      <th>illiterate</th>\n",
       "      <th>professional.course</th>\n",
       "      <th>university.degree</th>\n",
       "      <th>unknown</th>\n",
       "    </tr>\n",
       "    <tr>\n",
       "      <th>job</th>\n",
       "      <th></th>\n",
       "      <th></th>\n",
       "      <th></th>\n",
       "      <th></th>\n",
       "      <th></th>\n",
       "      <th></th>\n",
       "      <th></th>\n",
       "      <th></th>\n",
       "    </tr>\n",
       "  </thead>\n",
       "  <tbody>\n",
       "    <tr>\n",
       "      <th>admin.</th>\n",
       "      <td>77</td>\n",
       "      <td>151</td>\n",
       "      <td>499</td>\n",
       "      <td>3329</td>\n",
       "      <td>1</td>\n",
       "      <td>363</td>\n",
       "      <td>5753</td>\n",
       "      <td>249</td>\n",
       "    </tr>\n",
       "    <tr>\n",
       "      <th>blue-collar</th>\n",
       "      <td>2318</td>\n",
       "      <td>1426</td>\n",
       "      <td>3623</td>\n",
       "      <td>878</td>\n",
       "      <td>8</td>\n",
       "      <td>453</td>\n",
       "      <td>94</td>\n",
       "      <td>454</td>\n",
       "    </tr>\n",
       "    <tr>\n",
       "      <th>entrepreneur</th>\n",
       "      <td>137</td>\n",
       "      <td>71</td>\n",
       "      <td>210</td>\n",
       "      <td>234</td>\n",
       "      <td>2</td>\n",
       "      <td>135</td>\n",
       "      <td>610</td>\n",
       "      <td>57</td>\n",
       "    </tr>\n",
       "    <tr>\n",
       "      <th>housemaid</th>\n",
       "      <td>474</td>\n",
       "      <td>77</td>\n",
       "      <td>94</td>\n",
       "      <td>174</td>\n",
       "      <td>1</td>\n",
       "      <td>59</td>\n",
       "      <td>139</td>\n",
       "      <td>42</td>\n",
       "    </tr>\n",
       "    <tr>\n",
       "      <th>management</th>\n",
       "      <td>100</td>\n",
       "      <td>85</td>\n",
       "      <td>166</td>\n",
       "      <td>298</td>\n",
       "      <td>0</td>\n",
       "      <td>89</td>\n",
       "      <td>2063</td>\n",
       "      <td>123</td>\n",
       "    </tr>\n",
       "    <tr>\n",
       "      <th>retired</th>\n",
       "      <td>597</td>\n",
       "      <td>75</td>\n",
       "      <td>145</td>\n",
       "      <td>276</td>\n",
       "      <td>3</td>\n",
       "      <td>241</td>\n",
       "      <td>285</td>\n",
       "      <td>98</td>\n",
       "    </tr>\n",
       "    <tr>\n",
       "      <th>self-employed</th>\n",
       "      <td>93</td>\n",
       "      <td>25</td>\n",
       "      <td>220</td>\n",
       "      <td>118</td>\n",
       "      <td>3</td>\n",
       "      <td>168</td>\n",
       "      <td>765</td>\n",
       "      <td>29</td>\n",
       "    </tr>\n",
       "    <tr>\n",
       "      <th>services</th>\n",
       "      <td>132</td>\n",
       "      <td>226</td>\n",
       "      <td>388</td>\n",
       "      <td>2682</td>\n",
       "      <td>0</td>\n",
       "      <td>218</td>\n",
       "      <td>173</td>\n",
       "      <td>150</td>\n",
       "    </tr>\n",
       "    <tr>\n",
       "      <th>student</th>\n",
       "      <td>26</td>\n",
       "      <td>13</td>\n",
       "      <td>99</td>\n",
       "      <td>357</td>\n",
       "      <td>0</td>\n",
       "      <td>43</td>\n",
       "      <td>170</td>\n",
       "      <td>167</td>\n",
       "    </tr>\n",
       "    <tr>\n",
       "      <th>technician</th>\n",
       "      <td>58</td>\n",
       "      <td>87</td>\n",
       "      <td>384</td>\n",
       "      <td>873</td>\n",
       "      <td>0</td>\n",
       "      <td>3320</td>\n",
       "      <td>1809</td>\n",
       "      <td>212</td>\n",
       "    </tr>\n",
       "    <tr>\n",
       "      <th>unemployed</th>\n",
       "      <td>112</td>\n",
       "      <td>34</td>\n",
       "      <td>186</td>\n",
       "      <td>259</td>\n",
       "      <td>0</td>\n",
       "      <td>142</td>\n",
       "      <td>262</td>\n",
       "      <td>19</td>\n",
       "    </tr>\n",
       "    <tr>\n",
       "      <th>unknown</th>\n",
       "      <td>52</td>\n",
       "      <td>22</td>\n",
       "      <td>31</td>\n",
       "      <td>37</td>\n",
       "      <td>0</td>\n",
       "      <td>12</td>\n",
       "      <td>45</td>\n",
       "      <td>131</td>\n",
       "    </tr>\n",
       "  </tbody>\n",
       "</table>\n",
       "</div>"
      ],
      "text/plain": [
       "education      basic.4y  basic.6y  basic.9y  high.school  illiterate  \\\n",
       "job                                                                    \n",
       "admin.               77       151       499         3329           1   \n",
       "blue-collar        2318      1426      3623          878           8   \n",
       "entrepreneur        137        71       210          234           2   \n",
       "housemaid           474        77        94          174           1   \n",
       "management          100        85       166          298           0   \n",
       "retired             597        75       145          276           3   \n",
       "self-employed        93        25       220          118           3   \n",
       "services            132       226       388         2682           0   \n",
       "student              26        13        99          357           0   \n",
       "technician           58        87       384          873           0   \n",
       "unemployed          112        34       186          259           0   \n",
       "unknown              52        22        31           37           0   \n",
       "\n",
       "education      professional.course  university.degree  unknown  \n",
       "job                                                             \n",
       "admin.                         363               5753      249  \n",
       "blue-collar                    453                 94      454  \n",
       "entrepreneur                   135                610       57  \n",
       "housemaid                       59                139       42  \n",
       "management                      89               2063      123  \n",
       "retired                        241                285       98  \n",
       "self-employed                  168                765       29  \n",
       "services                       218                173      150  \n",
       "student                         43                170      167  \n",
       "technician                    3320               1809      212  \n",
       "unemployed                     142                262       19  \n",
       "unknown                         12                 45      131  "
      ]
     },
     "execution_count": 140,
     "metadata": {},
     "output_type": "execute_result"
    }
   ],
   "source": [
    "compare2 = pd.crosstab(df[\"job\"],df[\"education\"])\n",
    "compare2"
   ]
  },
  {
   "cell_type": "code",
   "execution_count": 141,
   "metadata": {},
   "outputs": [
    {
     "data": {
      "text/plain": [
       "<AxesSubplot:xlabel='job'>"
      ]
     },
     "execution_count": 141,
     "metadata": {},
     "output_type": "execute_result"
    },
    {
     "data": {
      "image/png": "[encoded data removed]",
      "text/plain": [
       "<Figure size 1080x432 with 1 Axes>"
      ]
     },
     "metadata": {
      "needs_background": "light"
     },
     "output_type": "display_data"
    }
   ],
   "source": [
    "compare2.plot(kind='bar', figsize=(15,6))"
   ]
  },
  {
   "cell_type": "markdown",
   "metadata": {},
   "source": [
    "- Disini saya ingin membandingkan tingkat edukasi pada setiap client dengan jenis pekerjaannya. Dan bisa dilihat bahwa client dengan pekerjaan admin didominasi oleh orang yang tingkat edukasinya tingkat SMA dan Sarjana\n",
    "- Dan untuk bidang pekerjaan blue collar (Kantoran) didominasi dengan tingkat edukasi basic.9y (Sekolah elementary, middle school,high school)\n",
    "- Dan untuk bidang pekerjaan manajemen didominasi oleh orang yang tingat edukasinya adalah sarjana\n",
    "- Dan untuk bidang pekerjaan services didominasi oleh orang dengan tingkat edukasi highschool\n",
    "- Sedangkan di bidang pekerjaan technician didominasi oeleh orang dengan tingkat pekerjaan professional course"
   ]
  },
  {
   "cell_type": "code",
   "execution_count": 142,
   "metadata": {},
   "outputs": [
    {
     "data": {
      "image/png": "[encoded data removed]",
      "text/plain": [
       "<Figure size 1584x432 with 1 Axes>"
      ]
     },
     "metadata": {
      "needs_background": "light"
     },
     "output_type": "display_data"
    }
   ],
   "source": [
    "# Melihat Grafik Konsumen Price Index terhadap target pade setiap bidang pekerjaan\n",
    "f, ax1 = plt.subplots(figsize=(22, 6))\n",
    "ax1 = sns.barplot(x=\"job\", y=\"cons.price.idx\", hue=\"marital\", data=df)"
   ]
  },
  {
   "cell_type": "markdown",
   "metadata": {},
   "source": [
    "- Bisa dilihat dari grafik diatas hampir semua orang dengan segala bidang pekerjaan dan status pernikahan memiliki rata-rata daya konsumsi barang kebutuhan yang sama"
   ]
  },
  {
   "cell_type": "code",
   "execution_count": 143,
   "metadata": {},
   "outputs": [
    {
     "data": {
      "image/png": "[encoded data removed]",
      "text/plain": [
       "<Figure size 1584x432 with 1 Axes>"
      ]
     },
     "metadata": {
      "needs_background": "light"
     },
     "output_type": "display_data"
    }
   ],
   "source": [
    "# Melihat Grafik Indeks Kepercayaan Konsumen dengan rentang 1 bulan terhadap target pade setiap bidang pekerjaan\n",
    "f, ax2 = plt.subplots(figsize=(22, 6))\n",
    "ax2 = sns.barplot(x=\"job\", y=\"cons.conf.idx\", hue=\"marital\", data=df)"
   ]
  },
  {
   "cell_type": "markdown",
   "metadata": {},
   "source": [
    "- Bisa dilihat dari grafik diatas hampir semua orang dengan segala bidang pekerjaan dan status pernikahan memiliki rata-rata kepercayaan (Optimisme atau Pesimisme) dalam mengkonsumsi barang kebutuhan, investment, dll. Bisa dilihat pada grafik bahwa pada bidang pekerjaan student, unemployed, dan housemaid yang status pernikahannya tidak diketahui didapatkan kurangnya kepercayaan dalam memkonsumsi barang kebutuhan ataupun investasi bila dikaitkan dalam dataset ini.\n",
    "\n",
    "- Dan untuk konsumen yang memiliki kepercayaan yang cukup tinggi dalam menginvestasikan tabungannya ada pada konsumen yang status pekerjaannya enterpreneur dan retired/ pensiunan dengan status pernikahan yang tidak diketahui."
   ]
  },
  {
   "cell_type": "code",
   "execution_count": 144,
   "metadata": {},
   "outputs": [
    {
     "data": {
      "text/html": [
       "<div>\n",
       "<style scoped>\n",
       "    .dataframe tbody tr th:only-of-type {\n",
       "        vertical-align: middle;\n",
       "    }\n",
       "\n",
       "    .dataframe tbody tr th {\n",
       "        vertical-align: top;\n",
       "    }\n",
       "\n",
       "    .dataframe thead th {\n",
       "        text-align: right;\n",
       "    }\n",
       "</style>\n",
       "<table border=\"1\" class=\"dataframe\">\n",
       "  <thead>\n",
       "    <tr style=\"text-align: right;\">\n",
       "      <th>marital</th>\n",
       "      <th>divorced</th>\n",
       "      <th>married</th>\n",
       "      <th>single</th>\n",
       "      <th>unknown</th>\n",
       "    </tr>\n",
       "    <tr>\n",
       "      <th>age</th>\n",
       "      <th></th>\n",
       "      <th></th>\n",
       "      <th></th>\n",
       "      <th></th>\n",
       "    </tr>\n",
       "  </thead>\n",
       "  <tbody>\n",
       "    <tr>\n",
       "      <th>17</th>\n",
       "      <td>0</td>\n",
       "      <td>0</td>\n",
       "      <td>5</td>\n",
       "      <td>0</td>\n",
       "    </tr>\n",
       "    <tr>\n",
       "      <th>18</th>\n",
       "      <td>0</td>\n",
       "      <td>0</td>\n",
       "      <td>28</td>\n",
       "      <td>0</td>\n",
       "    </tr>\n",
       "    <tr>\n",
       "      <th>19</th>\n",
       "      <td>0</td>\n",
       "      <td>0</td>\n",
       "      <td>42</td>\n",
       "      <td>0</td>\n",
       "    </tr>\n",
       "    <tr>\n",
       "      <th>20</th>\n",
       "      <td>0</td>\n",
       "      <td>1</td>\n",
       "      <td>64</td>\n",
       "      <td>0</td>\n",
       "    </tr>\n",
       "    <tr>\n",
       "      <th>21</th>\n",
       "      <td>0</td>\n",
       "      <td>8</td>\n",
       "      <td>94</td>\n",
       "      <td>0</td>\n",
       "    </tr>\n",
       "    <tr>\n",
       "      <th>...</th>\n",
       "      <td>...</td>\n",
       "      <td>...</td>\n",
       "      <td>...</td>\n",
       "      <td>...</td>\n",
       "    </tr>\n",
       "    <tr>\n",
       "      <th>91</th>\n",
       "      <td>0</td>\n",
       "      <td>2</td>\n",
       "      <td>0</td>\n",
       "      <td>0</td>\n",
       "    </tr>\n",
       "    <tr>\n",
       "      <th>92</th>\n",
       "      <td>1</td>\n",
       "      <td>3</td>\n",
       "      <td>0</td>\n",
       "      <td>0</td>\n",
       "    </tr>\n",
       "    <tr>\n",
       "      <th>94</th>\n",
       "      <td>0</td>\n",
       "      <td>1</td>\n",
       "      <td>0</td>\n",
       "      <td>0</td>\n",
       "    </tr>\n",
       "    <tr>\n",
       "      <th>95</th>\n",
       "      <td>1</td>\n",
       "      <td>0</td>\n",
       "      <td>0</td>\n",
       "      <td>0</td>\n",
       "    </tr>\n",
       "    <tr>\n",
       "      <th>98</th>\n",
       "      <td>0</td>\n",
       "      <td>2</td>\n",
       "      <td>0</td>\n",
       "      <td>0</td>\n",
       "    </tr>\n",
       "  </tbody>\n",
       "</table>\n",
       "<p>78 rows × 4 columns</p>\n",
       "</div>"
      ],
      "text/plain": [
       "marital  divorced  married  single  unknown\n",
       "age                                        \n",
       "17              0        0       5        0\n",
       "18              0        0      28        0\n",
       "19              0        0      42        0\n",
       "20              0        1      64        0\n",
       "21              0        8      94        0\n",
       "..            ...      ...     ...      ...\n",
       "91              0        2       0        0\n",
       "92              1        3       0        0\n",
       "94              0        1       0        0\n",
       "95              1        0       0        0\n",
       "98              0        2       0        0\n",
       "\n",
       "[78 rows x 4 columns]"
      ]
     },
     "execution_count": 144,
     "metadata": {},
     "output_type": "execute_result"
    }
   ],
   "source": [
    "# Membandingkan status pernikahan pada setiap umur di dataset\n",
    "compare3 = pd.crosstab(df[\"age\"],df[\"marital\"])\n",
    "compare3"
   ]
  },
  {
   "cell_type": "code",
   "execution_count": 145,
   "metadata": {},
   "outputs": [
    {
     "data": {
      "text/html": [
       "<div>\n",
       "<style scoped>\n",
       "    .dataframe tbody tr th:only-of-type {\n",
       "        vertical-align: middle;\n",
       "    }\n",
       "\n",
       "    .dataframe tbody tr th {\n",
       "        vertical-align: top;\n",
       "    }\n",
       "\n",
       "    .dataframe thead th {\n",
       "        text-align: right;\n",
       "    }\n",
       "</style>\n",
       "<table border=\"1\" class=\"dataframe\">\n",
       "  <thead>\n",
       "    <tr style=\"text-align: right;\">\n",
       "      <th>job</th>\n",
       "      <th>admin.</th>\n",
       "      <th>blue-collar</th>\n",
       "      <th>entrepreneur</th>\n",
       "      <th>housemaid</th>\n",
       "      <th>management</th>\n",
       "      <th>retired</th>\n",
       "      <th>self-employed</th>\n",
       "      <th>services</th>\n",
       "      <th>student</th>\n",
       "      <th>technician</th>\n",
       "      <th>unemployed</th>\n",
       "      <th>unknown</th>\n",
       "    </tr>\n",
       "    <tr>\n",
       "      <th>age</th>\n",
       "      <th></th>\n",
       "      <th></th>\n",
       "      <th></th>\n",
       "      <th></th>\n",
       "      <th></th>\n",
       "      <th></th>\n",
       "      <th></th>\n",
       "      <th></th>\n",
       "      <th></th>\n",
       "      <th></th>\n",
       "      <th></th>\n",
       "      <th></th>\n",
       "    </tr>\n",
       "  </thead>\n",
       "  <tbody>\n",
       "    <tr>\n",
       "      <th>17</th>\n",
       "      <td>0</td>\n",
       "      <td>0</td>\n",
       "      <td>0</td>\n",
       "      <td>0</td>\n",
       "      <td>0</td>\n",
       "      <td>0</td>\n",
       "      <td>0</td>\n",
       "      <td>0</td>\n",
       "      <td>5</td>\n",
       "      <td>0</td>\n",
       "      <td>0</td>\n",
       "      <td>0</td>\n",
       "    </tr>\n",
       "    <tr>\n",
       "      <th>18</th>\n",
       "      <td>0</td>\n",
       "      <td>0</td>\n",
       "      <td>0</td>\n",
       "      <td>0</td>\n",
       "      <td>0</td>\n",
       "      <td>0</td>\n",
       "      <td>0</td>\n",
       "      <td>0</td>\n",
       "      <td>28</td>\n",
       "      <td>0</td>\n",
       "      <td>0</td>\n",
       "      <td>0</td>\n",
       "    </tr>\n",
       "    <tr>\n",
       "      <th>19</th>\n",
       "      <td>0</td>\n",
       "      <td>0</td>\n",
       "      <td>0</td>\n",
       "      <td>0</td>\n",
       "      <td>0</td>\n",
       "      <td>0</td>\n",
       "      <td>0</td>\n",
       "      <td>0</td>\n",
       "      <td>42</td>\n",
       "      <td>0</td>\n",
       "      <td>0</td>\n",
       "      <td>0</td>\n",
       "    </tr>\n",
       "    <tr>\n",
       "      <th>20</th>\n",
       "      <td>1</td>\n",
       "      <td>7</td>\n",
       "      <td>4</td>\n",
       "      <td>0</td>\n",
       "      <td>0</td>\n",
       "      <td>0</td>\n",
       "      <td>0</td>\n",
       "      <td>3</td>\n",
       "      <td>46</td>\n",
       "      <td>4</td>\n",
       "      <td>0</td>\n",
       "      <td>0</td>\n",
       "    </tr>\n",
       "    <tr>\n",
       "      <th>21</th>\n",
       "      <td>12</td>\n",
       "      <td>15</td>\n",
       "      <td>0</td>\n",
       "      <td>1</td>\n",
       "      <td>1</td>\n",
       "      <td>0</td>\n",
       "      <td>2</td>\n",
       "      <td>12</td>\n",
       "      <td>54</td>\n",
       "      <td>2</td>\n",
       "      <td>3</td>\n",
       "      <td>0</td>\n",
       "    </tr>\n",
       "    <tr>\n",
       "      <th>...</th>\n",
       "      <td>...</td>\n",
       "      <td>...</td>\n",
       "      <td>...</td>\n",
       "      <td>...</td>\n",
       "      <td>...</td>\n",
       "      <td>...</td>\n",
       "      <td>...</td>\n",
       "      <td>...</td>\n",
       "      <td>...</td>\n",
       "      <td>...</td>\n",
       "      <td>...</td>\n",
       "      <td>...</td>\n",
       "    </tr>\n",
       "    <tr>\n",
       "      <th>91</th>\n",
       "      <td>0</td>\n",
       "      <td>0</td>\n",
       "      <td>0</td>\n",
       "      <td>0</td>\n",
       "      <td>0</td>\n",
       "      <td>2</td>\n",
       "      <td>0</td>\n",
       "      <td>0</td>\n",
       "      <td>0</td>\n",
       "      <td>0</td>\n",
       "      <td>0</td>\n",
       "      <td>0</td>\n",
       "    </tr>\n",
       "    <tr>\n",
       "      <th>92</th>\n",
       "      <td>0</td>\n",
       "      <td>0</td>\n",
       "      <td>0</td>\n",
       "      <td>0</td>\n",
       "      <td>0</td>\n",
       "      <td>4</td>\n",
       "      <td>0</td>\n",
       "      <td>0</td>\n",
       "      <td>0</td>\n",
       "      <td>0</td>\n",
       "      <td>0</td>\n",
       "      <td>0</td>\n",
       "    </tr>\n",
       "    <tr>\n",
       "      <th>94</th>\n",
       "      <td>0</td>\n",
       "      <td>0</td>\n",
       "      <td>0</td>\n",
       "      <td>0</td>\n",
       "      <td>0</td>\n",
       "      <td>1</td>\n",
       "      <td>0</td>\n",
       "      <td>0</td>\n",
       "      <td>0</td>\n",
       "      <td>0</td>\n",
       "      <td>0</td>\n",
       "      <td>0</td>\n",
       "    </tr>\n",
       "    <tr>\n",
       "      <th>95</th>\n",
       "      <td>0</td>\n",
       "      <td>0</td>\n",
       "      <td>0</td>\n",
       "      <td>0</td>\n",
       "      <td>0</td>\n",
       "      <td>1</td>\n",
       "      <td>0</td>\n",
       "      <td>0</td>\n",
       "      <td>0</td>\n",
       "      <td>0</td>\n",
       "      <td>0</td>\n",
       "      <td>0</td>\n",
       "    </tr>\n",
       "    <tr>\n",
       "      <th>98</th>\n",
       "      <td>0</td>\n",
       "      <td>0</td>\n",
       "      <td>0</td>\n",
       "      <td>0</td>\n",
       "      <td>0</td>\n",
       "      <td>2</td>\n",
       "      <td>0</td>\n",
       "      <td>0</td>\n",
       "      <td>0</td>\n",
       "      <td>0</td>\n",
       "      <td>0</td>\n",
       "      <td>0</td>\n",
       "    </tr>\n",
       "  </tbody>\n",
       "</table>\n",
       "<p>78 rows × 12 columns</p>\n",
       "</div>"
      ],
      "text/plain": [
       "job  admin.  blue-collar  entrepreneur  housemaid  management  retired  \\\n",
       "age                                                                      \n",
       "17        0            0             0          0           0        0   \n",
       "18        0            0             0          0           0        0   \n",
       "19        0            0             0          0           0        0   \n",
       "20        1            7             4          0           0        0   \n",
       "21       12           15             0          1           1        0   \n",
       "..      ...          ...           ...        ...         ...      ...   \n",
       "91        0            0             0          0           0        2   \n",
       "92        0            0             0          0           0        4   \n",
       "94        0            0             0          0           0        1   \n",
       "95        0            0             0          0           0        1   \n",
       "98        0            0             0          0           0        2   \n",
       "\n",
       "job  self-employed  services  student  technician  unemployed  unknown  \n",
       "age                                                                     \n",
       "17               0         0        5           0           0        0  \n",
       "18               0         0       28           0           0        0  \n",
       "19               0         0       42           0           0        0  \n",
       "20               0         3       46           4           0        0  \n",
       "21               2        12       54           2           3        0  \n",
       "..             ...       ...      ...         ...         ...      ...  \n",
       "91               0         0        0           0           0        0  \n",
       "92               0         0        0           0           0        0  \n",
       "94               0         0        0           0           0        0  \n",
       "95               0         0        0           0           0        0  \n",
       "98               0         0        0           0           0        0  \n",
       "\n",
       "[78 rows x 12 columns]"
      ]
     },
     "execution_count": 145,
     "metadata": {},
     "output_type": "execute_result"
    }
   ],
   "source": [
    "# Melihat jumlah orang pada setiap pekerjaan di setiap umur yang ada pada datset\n",
    "compare4 = pd.crosstab(df[\"age\"],df[\"job\"])\n",
    "compare4"
   ]
  },
  {
   "cell_type": "code",
   "execution_count": 146,
   "metadata": {},
   "outputs": [
    {
     "data": {
      "text/plain": [
       "<AxesSubplot:>"
      ]
     },
     "execution_count": 146,
     "metadata": {},
     "output_type": "execute_result"
    },
    {
     "data": {
      "image/png": "[encoded data removed]",
      "text/plain": [
       "<Figure size 432x288 with 1 Axes>"
      ]
     },
     "metadata": {
      "needs_background": "light"
     },
     "output_type": "display_data"
    }
   ],
   "source": [
    "# Membandingkan jumlah label pada target balance atau tidak\n",
    "df.y.value_counts().plot(kind='bar')"
   ]
  },
  {
   "cell_type": "markdown",
   "metadata": {},
   "source": [
    "- Dilihat dari tabel, bahwa nilai label pada target di dataset ini tidak balance. Karena pada label 'No' jumlah lebelnya hampir 7 kali lipat dibandingkan dengan label yang bernilai yes"
   ]
  },
  {
   "cell_type": "markdown",
   "metadata": {},
   "source": [
    "# v. EDA, DATA PREPROCESSING, DATA CLEANING, SCALING"
   ]
  },
  {
   "cell_type": "markdown",
   "metadata": {},
   "source": [
    "## 1. EDA Dataset"
   ]
  },
  {
   "cell_type": "code",
   "execution_count": 147,
   "metadata": {},
   "outputs": [],
   "source": [
    "bank_forcast = df.copy()"
   ]
  },
  {
   "cell_type": "code",
   "execution_count": 148,
   "metadata": {},
   "outputs": [
    {
     "data": {
      "text/html": [
       "<div>\n",
       "<style scoped>\n",
       "    .dataframe tbody tr th:only-of-type {\n",
       "        vertical-align: middle;\n",
       "    }\n",
       "\n",
       "    .dataframe tbody tr th {\n",
       "        vertical-align: top;\n",
       "    }\n",
       "\n",
       "    .dataframe thead th {\n",
       "        text-align: right;\n",
       "    }\n",
       "</style>\n",
       "<table border=\"1\" class=\"dataframe\">\n",
       "  <thead>\n",
       "    <tr style=\"text-align: right;\">\n",
       "      <th></th>\n",
       "      <th>age</th>\n",
       "      <th>job</th>\n",
       "      <th>marital</th>\n",
       "      <th>education</th>\n",
       "      <th>default</th>\n",
       "      <th>housing</th>\n",
       "      <th>loan</th>\n",
       "      <th>contact</th>\n",
       "      <th>month</th>\n",
       "      <th>day_of_week</th>\n",
       "      <th>...</th>\n",
       "      <th>campaign</th>\n",
       "      <th>pdays</th>\n",
       "      <th>previous</th>\n",
       "      <th>poutcome</th>\n",
       "      <th>emp.var.rate</th>\n",
       "      <th>cons.price.idx</th>\n",
       "      <th>cons.conf.idx</th>\n",
       "      <th>euribor3m</th>\n",
       "      <th>nr.employed</th>\n",
       "      <th>y</th>\n",
       "    </tr>\n",
       "  </thead>\n",
       "  <tbody>\n",
       "    <tr>\n",
       "      <th>0</th>\n",
       "      <td>56</td>\n",
       "      <td>housemaid</td>\n",
       "      <td>married</td>\n",
       "      <td>basic.4y</td>\n",
       "      <td>no</td>\n",
       "      <td>no</td>\n",
       "      <td>no</td>\n",
       "      <td>telephone</td>\n",
       "      <td>may</td>\n",
       "      <td>mon</td>\n",
       "      <td>...</td>\n",
       "      <td>1</td>\n",
       "      <td>999</td>\n",
       "      <td>0</td>\n",
       "      <td>nonexistent</td>\n",
       "      <td>1.1</td>\n",
       "      <td>93.994</td>\n",
       "      <td>-36.4</td>\n",
       "      <td>4.857</td>\n",
       "      <td>5191.0</td>\n",
       "      <td>no</td>\n",
       "    </tr>\n",
       "    <tr>\n",
       "      <th>1</th>\n",
       "      <td>57</td>\n",
       "      <td>services</td>\n",
       "      <td>married</td>\n",
       "      <td>high.school</td>\n",
       "      <td>unknown</td>\n",
       "      <td>no</td>\n",
       "      <td>no</td>\n",
       "      <td>telephone</td>\n",
       "      <td>may</td>\n",
       "      <td>mon</td>\n",
       "      <td>...</td>\n",
       "      <td>1</td>\n",
       "      <td>999</td>\n",
       "      <td>0</td>\n",
       "      <td>nonexistent</td>\n",
       "      <td>1.1</td>\n",
       "      <td>93.994</td>\n",
       "      <td>-36.4</td>\n",
       "      <td>4.857</td>\n",
       "      <td>5191.0</td>\n",
       "      <td>no</td>\n",
       "    </tr>\n",
       "    <tr>\n",
       "      <th>2</th>\n",
       "      <td>37</td>\n",
       "      <td>services</td>\n",
       "      <td>married</td>\n",
       "      <td>high.school</td>\n",
       "      <td>no</td>\n",
       "      <td>yes</td>\n",
       "      <td>no</td>\n",
       "      <td>telephone</td>\n",
       "      <td>may</td>\n",
       "      <td>mon</td>\n",
       "      <td>...</td>\n",
       "      <td>1</td>\n",
       "      <td>999</td>\n",
       "      <td>0</td>\n",
       "      <td>nonexistent</td>\n",
       "      <td>1.1</td>\n",
       "      <td>93.994</td>\n",
       "      <td>-36.4</td>\n",
       "      <td>4.857</td>\n",
       "      <td>5191.0</td>\n",
       "      <td>no</td>\n",
       "    </tr>\n",
       "  </tbody>\n",
       "</table>\n",
       "<p>3 rows × 21 columns</p>\n",
       "</div>"
      ],
      "text/plain": [
       "   age        job  marital    education  default housing loan    contact  \\\n",
       "0   56  housemaid  married     basic.4y       no      no   no  telephone   \n",
       "1   57   services  married  high.school  unknown      no   no  telephone   \n",
       "2   37   services  married  high.school       no     yes   no  telephone   \n",
       "\n",
       "  month day_of_week  ...  campaign  pdays  previous     poutcome emp.var.rate  \\\n",
       "0   may         mon  ...         1    999         0  nonexistent          1.1   \n",
       "1   may         mon  ...         1    999         0  nonexistent          1.1   \n",
       "2   may         mon  ...         1    999         0  nonexistent          1.1   \n",
       "\n",
       "   cons.price.idx  cons.conf.idx  euribor3m  nr.employed   y  \n",
       "0          93.994          -36.4      4.857       5191.0  no  \n",
       "1          93.994          -36.4      4.857       5191.0  no  \n",
       "2          93.994          -36.4      4.857       5191.0  no  \n",
       "\n",
       "[3 rows x 21 columns]"
      ]
     },
     "execution_count": 148,
     "metadata": {},
     "output_type": "execute_result"
    }
   ],
   "source": [
    "bank_forcast.head(3)"
   ]
  },
  {
   "cell_type": "code",
   "execution_count": 149,
   "metadata": {},
   "outputs": [],
   "source": [
    "# Mengubah nama dibeberapa kolom pada dataset\n",
    "bank_forcast.rename(columns={'emp.var.rate': 'emp_var_rate', 'cons.price.idx': 'cons_price_idx',\n",
    "                             'cons.conf.idx': 'cons_conf_idx', 'nr.employed': 'nr_employed', 'y' : 'subcription'}, inplace=True)"
   ]
  },
  {
   "cell_type": "code",
   "execution_count": 150,
   "metadata": {},
   "outputs": [
    {
     "data": {
      "image/png": "[encoded data removed]",
      "text/plain": [
       "<Figure size 1440x720 with 2 Axes>"
      ]
     },
     "metadata": {
      "needs_background": "light"
     },
     "output_type": "display_data"
    }
   ],
   "source": [
    "# Membuat plot heatmap untuk melihat korelasi pada feature dengan target\n",
    "f, ax = plt.subplots(figsize=(20, 10))\n",
    "ax = sns.heatmap(bank_forcast.corr(), annot=True,)"
   ]
  },
  {
   "cell_type": "markdown",
   "metadata": {},
   "source": [
    "- Bisa dilihat korelasi tertinggi antara feature dengan targetnta adalah feature duration setelah itu disusul oleh korelasi negatif  nr_employed dan feature ueribor3m dan pdays"
   ]
  },
  {
   "cell_type": "code",
   "execution_count": 151,
   "metadata": {},
   "outputs": [
    {
     "data": {
      "text/plain": [
       "Index(['age', 'job', 'marital', 'education', 'default', 'housing', 'loan',\n",
       "       'contact', 'month', 'day_of_week', 'duration', 'campaign', 'pdays',\n",
       "       'previous', 'poutcome', 'emp_var_rate', 'cons_price_idx',\n",
       "       'cons_conf_idx', 'euribor3m', 'nr_employed', 'subcription'],\n",
       "      dtype='object')"
      ]
     },
     "execution_count": 151,
     "metadata": {},
     "output_type": "execute_result"
    }
   ],
   "source": [
    "bank_forcast.columns"
   ]
  },
  {
   "cell_type": "code",
   "execution_count": 152,
   "metadata": {},
   "outputs": [],
   "source": [
    "# kolom = ['age', 'job', 'marital', 'education', 'default', 'housing', 'loan',\n",
    "#        'contact', 'month', 'day_of_week', 'duration', 'campaign', 'pdays',\n",
    "#        'previous', 'poutcome', 'emp_var_rate', 'cons_price_idx',\n",
    "#        'cons_conf_idx', 'euribor3m', 'nr_employed']\n",
    "# dm = bank_forcast[kolom]"
   ]
  },
  {
   "cell_type": "code",
   "execution_count": 153,
   "metadata": {},
   "outputs": [],
   "source": [
    "# # Menditeksi Multicollinearity menggunakan VIF\n",
    "# vif_data = pd.DataFrame()\n",
    "# vif_data[\"feature\"] = dm.columns\n",
    "  \n",
    "# # Menghitung VIF pada masing-masing feature\n",
    "# vif_data[\"VIF\"] = [variance_inflation_factor(dm.values, i)\n",
    "#                           for i in range(len(dm.columns))]\n",
    "  \n",
    "# print(vif_data)"
   ]
  },
  {
   "cell_type": "markdown",
   "metadata": {},
   "source": [
    "- Dilihat dari hasil penditeksi Multicollinearity menggunakan VIF score, ada beberapa feature yang memiliki korelasi tinggi dengan feature lainnya.\n",
    "Karena asumsi saya semua data yang nilai vifnya yang tinggi masih besar pengaruhnya dengan target, saya menetapkan untuk tetap menggunakan semua feature untuk di uji lebih lanjut"
   ]
  },
  {
   "cell_type": "markdown",
   "metadata": {},
   "source": [
    "## 2. Split Data"
   ]
  },
  {
   "cell_type": "code",
   "execution_count": 154,
   "metadata": {},
   "outputs": [],
   "source": [
    "# Menentukan feature dan target untuk split data\n",
    "X = bank_forcast.drop('subcription', axis=1)\n",
    "y = bank_forcast['subcription']"
   ]
  },
  {
   "cell_type": "code",
   "execution_count": 155,
   "metadata": {},
   "outputs": [
    {
     "name": "stdout",
     "output_type": "stream",
     "text": [
      "Ukuran X :  (41188, 20)\n",
      "Ukuran y :  (41188,)\n"
     ]
    }
   ],
   "source": [
    "print('Ukuran X : ', X.shape)\n",
    "print('Ukuran y : ', y.shape)"
   ]
  },
  {
   "cell_type": "code",
   "execution_count": 156,
   "metadata": {},
   "outputs": [],
   "source": [
    "# Split data train dan data test dengan perbandingan 60% : 40% \n",
    "X_train, X_test, y_train, y_test = train_test_split(X, y, test_size=0.40, stratify=y, random_state=38)"
   ]
  },
  {
   "cell_type": "code",
   "execution_count": 157,
   "metadata": {},
   "outputs": [],
   "source": [
    "# Memasukan fungsi sklearn label encoder\n",
    "\n",
    "labelencoder = LabelEncoder()\n",
    "X_train['job'] = labelencoder.fit_transform(X_train['job'])\n",
    "X_train['marital'] = labelencoder.fit_transform(X_train['marital'])\n",
    "X_train['education'] = labelencoder.fit_transform(X_train['education'])\n",
    "X_train['default'] = labelencoder.fit_transform(X_train['default'])\n",
    "X_train['housing'] = labelencoder.fit_transform(X_train['housing'])\n",
    "X_train['loan'] = labelencoder.fit_transform(X_train['loan'])\n",
    "X_train['contact'] = labelencoder.fit_transform(X_train['contact'])\n",
    "X_train['poutcome'] = labelencoder.fit_transform(X_train['poutcome'])\n",
    "X_train['day_of_week'] = labelencoder.fit_transform(X_train['day_of_week'])\n",
    "X_train['month'] = labelencoder.fit_transform(X_train['month'])"
   ]
  },
  {
   "cell_type": "code",
   "execution_count": 162,
   "metadata": {},
   "outputs": [
    {
     "ename": "KeyError",
     "evalue": "'subcription'",
     "output_type": "error",
     "traceback": [
      "\u001b[1;31m---------------------------------------------------------------------------\u001b[0m",
      "\u001b[1;31mKeyError\u001b[0m                                  Traceback (most recent call last)",
      "\u001b[1;32m~\\AppData\\Local\\Programs\\Python\\Python310\\lib\\site-packages\\pandas\\core\\indexes\\base.py\u001b[0m in \u001b[0;36mget_loc\u001b[1;34m(self, key, method, tolerance)\u001b[0m\n\u001b[0;32m   3360\u001b[0m             \u001b[1;32mtry\u001b[0m\u001b[1;33m:\u001b[0m\u001b[1;33m\u001b[0m\u001b[1;33m\u001b[0m\u001b[0m\n\u001b[1;32m-> 3361\u001b[1;33m                 \u001b[1;32mreturn\u001b[0m \u001b[0mself\u001b[0m\u001b[1;33m.\u001b[0m\u001b[0m_engine\u001b[0m\u001b[1;33m.\u001b[0m\u001b[0mget_loc\u001b[0m\u001b[1;33m(\u001b[0m\u001b[0mcasted_key\u001b[0m\u001b[1;33m)\u001b[0m\u001b[1;33m\u001b[0m\u001b[1;33m\u001b[0m\u001b[0m\n\u001b[0m\u001b[0;32m   3362\u001b[0m             \u001b[1;32mexcept\u001b[0m \u001b[0mKeyError\u001b[0m \u001b[1;32mas\u001b[0m \u001b[0merr\u001b[0m\u001b[1;33m:\u001b[0m\u001b[1;33m\u001b[0m\u001b[1;33m\u001b[0m\u001b[0m\n",
      "\u001b[1;32m~\\AppData\\Local\\Programs\\Python\\Python310\\lib\\site-packages\\pandas\\_libs\\index.pyx\u001b[0m in \u001b[0;36mpandas._libs.index.IndexEngine.get_loc\u001b[1;34m()\u001b[0m\n",
      "\u001b[1;32mpandas\\_libs\\index_class_helper.pxi\u001b[0m in \u001b[0;36mpandas._libs.index.Int64Engine._check_type\u001b[1;34m()\u001b[0m\n",
      "\u001b[1;32mpandas\\_libs\\index_class_helper.pxi\u001b[0m in \u001b[0;36mpandas._libs.index.Int64Engine._check_type\u001b[1;34m()\u001b[0m\n",
      "\u001b[1;31mKeyError\u001b[0m: 'subcription'",
      "\nThe above exception was the direct cause of the following exception:\n",
      "\u001b[1;31mKeyError\u001b[0m                                  Traceback (most recent call last)",
      "\u001b[1;32mC:\\Users\\ARISHA~1\\AppData\\Local\\Temp/ipykernel_23356/4275896326.py\u001b[0m in \u001b[0;36m<module>\u001b[1;34m\u001b[0m\n\u001b[1;32m----> 1\u001b[1;33m \u001b[0my_train\u001b[0m \u001b[1;33m=\u001b[0m \u001b[0mlabelencoder\u001b[0m\u001b[1;33m.\u001b[0m\u001b[0mfit_transform\u001b[0m\u001b[1;33m(\u001b[0m\u001b[0my_train\u001b[0m\u001b[1;33m[\u001b[0m\u001b[1;34m'subcription'\u001b[0m\u001b[1;33m]\u001b[0m\u001b[1;33m)\u001b[0m\u001b[1;33m\u001b[0m\u001b[1;33m\u001b[0m\u001b[0m\n\u001b[0m",
      "\u001b[1;32m~\\AppData\\Local\\Programs\\Python\\Python310\\lib\\site-packages\\pandas\\core\\series.py\u001b[0m in \u001b[0;36m__getitem__\u001b[1;34m(self, key)\u001b[0m\n\u001b[0;32m    940\u001b[0m \u001b[1;33m\u001b[0m\u001b[0m\n\u001b[0;32m    941\u001b[0m         \u001b[1;32melif\u001b[0m \u001b[0mkey_is_scalar\u001b[0m\u001b[1;33m:\u001b[0m\u001b[1;33m\u001b[0m\u001b[1;33m\u001b[0m\u001b[0m\n\u001b[1;32m--> 942\u001b[1;33m             \u001b[1;32mreturn\u001b[0m \u001b[0mself\u001b[0m\u001b[1;33m.\u001b[0m\u001b[0m_get_value\u001b[0m\u001b[1;33m(\u001b[0m\u001b[0mkey\u001b[0m\u001b[1;33m)\u001b[0m\u001b[1;33m\u001b[0m\u001b[1;33m\u001b[0m\u001b[0m\n\u001b[0m\u001b[0;32m    943\u001b[0m \u001b[1;33m\u001b[0m\u001b[0m\n\u001b[0;32m    944\u001b[0m         \u001b[1;32mif\u001b[0m \u001b[0mis_hashable\u001b[0m\u001b[1;33m(\u001b[0m\u001b[0mkey\u001b[0m\u001b[1;33m)\u001b[0m\u001b[1;33m:\u001b[0m\u001b[1;33m\u001b[0m\u001b[1;33m\u001b[0m\u001b[0m\n",
      "\u001b[1;32m~\\AppData\\Local\\Programs\\Python\\Python310\\lib\\site-packages\\pandas\\core\\series.py\u001b[0m in \u001b[0;36m_get_value\u001b[1;34m(self, label, takeable)\u001b[0m\n\u001b[0;32m   1049\u001b[0m \u001b[1;33m\u001b[0m\u001b[0m\n\u001b[0;32m   1050\u001b[0m         \u001b[1;31m# Similar to Index.get_value, but we do not fall back to positional\u001b[0m\u001b[1;33m\u001b[0m\u001b[1;33m\u001b[0m\u001b[0m\n\u001b[1;32m-> 1051\u001b[1;33m         \u001b[0mloc\u001b[0m \u001b[1;33m=\u001b[0m \u001b[0mself\u001b[0m\u001b[1;33m.\u001b[0m\u001b[0mindex\u001b[0m\u001b[1;33m.\u001b[0m\u001b[0mget_loc\u001b[0m\u001b[1;33m(\u001b[0m\u001b[0mlabel\u001b[0m\u001b[1;33m)\u001b[0m\u001b[1;33m\u001b[0m\u001b[1;33m\u001b[0m\u001b[0m\n\u001b[0m\u001b[0;32m   1052\u001b[0m         \u001b[1;32mreturn\u001b[0m \u001b[0mself\u001b[0m\u001b[1;33m.\u001b[0m\u001b[0mindex\u001b[0m\u001b[1;33m.\u001b[0m\u001b[0m_get_values_for_loc\u001b[0m\u001b[1;33m(\u001b[0m\u001b[0mself\u001b[0m\u001b[1;33m,\u001b[0m \u001b[0mloc\u001b[0m\u001b[1;33m,\u001b[0m \u001b[0mlabel\u001b[0m\u001b[1;33m)\u001b[0m\u001b[1;33m\u001b[0m\u001b[1;33m\u001b[0m\u001b[0m\n\u001b[0;32m   1053\u001b[0m \u001b[1;33m\u001b[0m\u001b[0m\n",
      "\u001b[1;32m~\\AppData\\Local\\Programs\\Python\\Python310\\lib\\site-packages\\pandas\\core\\indexes\\base.py\u001b[0m in \u001b[0;36mget_loc\u001b[1;34m(self, key, method, tolerance)\u001b[0m\n\u001b[0;32m   3361\u001b[0m                 \u001b[1;32mreturn\u001b[0m \u001b[0mself\u001b[0m\u001b[1;33m.\u001b[0m\u001b[0m_engine\u001b[0m\u001b[1;33m.\u001b[0m\u001b[0mget_loc\u001b[0m\u001b[1;33m(\u001b[0m\u001b[0mcasted_key\u001b[0m\u001b[1;33m)\u001b[0m\u001b[1;33m\u001b[0m\u001b[1;33m\u001b[0m\u001b[0m\n\u001b[0;32m   3362\u001b[0m             \u001b[1;32mexcept\u001b[0m \u001b[0mKeyError\u001b[0m \u001b[1;32mas\u001b[0m \u001b[0merr\u001b[0m\u001b[1;33m:\u001b[0m\u001b[1;33m\u001b[0m\u001b[1;33m\u001b[0m\u001b[0m\n\u001b[1;32m-> 3363\u001b[1;33m                 \u001b[1;32mraise\u001b[0m \u001b[0mKeyError\u001b[0m\u001b[1;33m(\u001b[0m\u001b[0mkey\u001b[0m\u001b[1;33m)\u001b[0m \u001b[1;32mfrom\u001b[0m \u001b[0merr\u001b[0m\u001b[1;33m\u001b[0m\u001b[1;33m\u001b[0m\u001b[0m\n\u001b[0m\u001b[0;32m   3364\u001b[0m \u001b[1;33m\u001b[0m\u001b[0m\n\u001b[0;32m   3365\u001b[0m         \u001b[1;32mif\u001b[0m \u001b[0mis_scalar\u001b[0m\u001b[1;33m(\u001b[0m\u001b[0mkey\u001b[0m\u001b[1;33m)\u001b[0m \u001b[1;32mand\u001b[0m \u001b[0misna\u001b[0m\u001b[1;33m(\u001b[0m\u001b[0mkey\u001b[0m\u001b[1;33m)\u001b[0m \u001b[1;32mand\u001b[0m \u001b[1;32mnot\u001b[0m \u001b[0mself\u001b[0m\u001b[1;33m.\u001b[0m\u001b[0mhasnans\u001b[0m\u001b[1;33m:\u001b[0m\u001b[1;33m\u001b[0m\u001b[1;33m\u001b[0m\u001b[0m\n",
      "\u001b[1;31mKeyError\u001b[0m: 'subcription'"
     ]
    }
   ],
   "source": [
    "y_train = labelencoder.fit_transform(y_train)"
   ]
  },
  {
   "cell_type": "markdown",
   "metadata": {},
   "source": [
    "- Mengganti label pada kolom dataset yang mengandung data classification"
   ]
  },
  {
   "cell_type": "code",
   "execution_count": null,
   "metadata": {},
   "outputs": [],
   "source": [
    "X_test['job'] = labelencoder.transform(X_test['job'])\n",
    "X_test['marital'] = labelencoder.transform(X_test['marital'])\n",
    "X_test['education'] = labelencoder.transform(X_test['education'])\n",
    "X_test['default'] = labelencoder.transform(X_test['default'])\n",
    "X_test['housing'] = labelencoder.transform(X_test['housing'])\n",
    "X_test['loan'] = labelencoder.transform(X_test['loan'])\n",
    "X_test['contact'] = labelencoder.transform(X_test['contact'])\n",
    "X_test['poutcome'] = labelencoder.transform(X_test['poutcome'])\n",
    "X_test['day_of_week'] = labelencoder.transform(X_test['day_of_week'])\n",
    "X_test['month'] = labelencoder.transform(X_test['month'])\n",
    "\n",
    "y_test['subcription'] = labelencoder.transform(y_test['subcription'])"
   ]
  },
  {
   "cell_type": "markdown",
   "metadata": {},
   "source": [
    "## 3. Handle Missing Value"
   ]
  },
  {
   "cell_type": "markdown",
   "metadata": {},
   "source": [
    "- TIDAK ADA MISSING VALUE"
   ]
  },
  {
   "cell_type": "code",
   "execution_count": null,
   "metadata": {},
   "outputs": [
    {
     "data": {
      "text/plain": [
       "age               0\n",
       "job               0\n",
       "marital           0\n",
       "education         0\n",
       "default           0\n",
       "housing           0\n",
       "loan              0\n",
       "contact           0\n",
       "month             0\n",
       "day_of_week       0\n",
       "duration          0\n",
       "campaign          0\n",
       "pdays             0\n",
       "previous          0\n",
       "poutcome          0\n",
       "emp_var_rate      0\n",
       "cons_price_idx    0\n",
       "cons_conf_idx     0\n",
       "euribor3m         0\n",
       "nr_employed       0\n",
       "y                 0\n",
       "dtype: int64"
      ]
     },
     "execution_count": 47,
     "metadata": {},
     "output_type": "execute_result"
    }
   ],
   "source": [
    "bank_forcast.isnull().sum()"
   ]
  },
  {
   "cell_type": "markdown",
   "metadata": {},
   "source": [
    "## 4. Handle Outlier"
   ]
  },
  {
   "cell_type": "markdown",
   "metadata": {},
   "source": [
    "### 4.1 Gambaran Distribusi Sebelum Handling Outlier Pada Kolom Numerical"
   ]
  },
  {
   "cell_type": "code",
   "execution_count": null,
   "metadata": {},
   "outputs": [],
   "source": [
    "# Membuat grafik histogram dan box plot pada feature\n",
    "\n",
    "def diagnostic_plots(X_train, variable):\n",
    "    # Define figure size\n",
    "    plt.figure(figsize=(16, 4))\n",
    "\n",
    "    # Histogram\n",
    "    plt.subplot(1, 2, 1)\n",
    "    sns.histplot(X_train[variable], bins=30)\n",
    "    plt.title('Histogram')\n",
    "    \n",
    "    # Boxplot\n",
    "    plt.subplot(1, 2, 2)\n",
    "    sns.boxplot(y=X_train[variable])\n",
    "    plt.title('Boxplot')\n",
    "\n",
    "    plt.show()"
   ]
  },
  {
   "cell_type": "code",
   "execution_count": null,
   "metadata": {},
   "outputs": [
    {
     "data": {
      "image/png": "[encoded data removed]",
      "text/plain": [
       "<Figure size 1152x288 with 2 Axes>"
      ]
     },
     "metadata": {
      "needs_background": "light"
     },
     "output_type": "display_data"
    },
    {
     "name": "stdout",
     "output_type": "stream",
     "text": [
      "\n",
      "Skewness Value :  0.7759493727112835\n"
     ]
    }
   ],
   "source": [
    "diagnostic_plots(X_train, 'age')\n",
    "print('\\nSkewness Value : ', X_train['age'].skew())"
   ]
  },
  {
   "cell_type": "markdown",
   "metadata": {},
   "source": [
    "- Dari grafik distribusi dan box plot diatas, menunjukan bahwa bentuk distribusi dari feature age ini berbentuk skewed positif dan memiliki outlier yang butuh dihandle"
   ]
  },
  {
   "cell_type": "code",
   "execution_count": null,
   "metadata": {},
   "outputs": [
    {
     "data": {
      "image/png": "[encoded data removed]",
      "text/plain": [
       "<Figure size 1152x288 with 2 Axes>"
      ]
     },
     "metadata": {
      "needs_background": "light"
     },
     "output_type": "display_data"
    },
    {
     "name": "stdout",
     "output_type": "stream",
     "text": [
      "\n",
      "Skewness Value :  3.15565806167224\n"
     ]
    }
   ],
   "source": [
    "diagnostic_plots(X_train, 'duration')\n",
    "print('\\nSkewness Value : ', X_train['duration'].skew())"
   ]
  },
  {
   "cell_type": "markdown",
   "metadata": {},
   "source": [
    "- Dari grafik distribusi dan box plot diatas, menunjukan bahwa bentuk distribusi dari feature duration ini berbentuk skewed positif dan memiliki outlier yang butuh dihandle"
   ]
  },
  {
   "cell_type": "code",
   "execution_count": null,
   "metadata": {},
   "outputs": [
    {
     "data": {
      "image/png": "[encoded data removed]",
      "text/plain": [
       "<Figure size 1152x288 with 2 Axes>"
      ]
     },
     "metadata": {
      "needs_background": "light"
     },
     "output_type": "display_data"
    },
    {
     "name": "stdout",
     "output_type": "stream",
     "text": [
      "\n",
      "Skewness Value :  4.908943755009387\n"
     ]
    }
   ],
   "source": [
    "diagnostic_plots(X_train, 'campaign')\n",
    "print('\\nSkewness Value : ', X_train['campaign'].skew())"
   ]
  },
  {
   "cell_type": "markdown",
   "metadata": {},
   "source": [
    "- Dari grafik distribusi dan box plot diatas, menunjukan bahwa bentuk distribusi dari feature campaign ini berbentuk skewed positif dan memiliki outlier yang butuh dihandle"
   ]
  },
  {
   "cell_type": "code",
   "execution_count": null,
   "metadata": {},
   "outputs": [
    {
     "data": {
      "image/png": "[encoded data removed]",
      "text/plain": [
       "<Figure size 1152x288 with 2 Axes>"
      ]
     },
     "metadata": {
      "needs_background": "light"
     },
     "output_type": "display_data"
    },
    {
     "name": "stdout",
     "output_type": "stream",
     "text": [
      "\n",
      "Skewness Value :  -4.993304729879065\n"
     ]
    }
   ],
   "source": [
    "diagnostic_plots(X_train, 'pdays')\n",
    "print('\\nSkewness Value : ', X_train['pdays'].skew())"
   ]
  },
  {
   "cell_type": "markdown",
   "metadata": {},
   "source": [
    "- Dari grafik distribusi dan box plot diatas, menunjukan bahwa bentuk distribusi dari feature duration ini berbentuk skewed negatif dan memiliki outlier yang butuh dihandle"
   ]
  },
  {
   "cell_type": "code",
   "execution_count": null,
   "metadata": {},
   "outputs": [
    {
     "data": {
      "image/png": "[encoded data removed]",
      "text/plain": [
       "<Figure size 1152x288 with 2 Axes>"
      ]
     },
     "metadata": {
      "needs_background": "light"
     },
     "output_type": "display_data"
    },
    {
     "name": "stdout",
     "output_type": "stream",
     "text": [
      "\n",
      "Skewness Value :  3.7724890757442213\n"
     ]
    }
   ],
   "source": [
    "diagnostic_plots(X_train, 'previous')\n",
    "print('\\nSkewness Value : ', X_train['previous'].skew())"
   ]
  },
  {
   "cell_type": "markdown",
   "metadata": {},
   "source": [
    "- Dari grafik distribusi dan box plot diatas, menunjukan bahwa bentuk distribusi dari feature previous ini berbentuk skewed positif dan memiliki outlier yang butuh dihandle"
   ]
  },
  {
   "cell_type": "code",
   "execution_count": null,
   "metadata": {},
   "outputs": [
    {
     "data": {
      "image/png": "[encoded data removed]",
      "text/plain": [
       "<Figure size 1152x288 with 2 Axes>"
      ]
     },
     "metadata": {
      "needs_background": "light"
     },
     "output_type": "display_data"
    },
    {
     "name": "stdout",
     "output_type": "stream",
     "text": [
      "\n",
      "Skewness Value :  -0.7210744687740414\n"
     ]
    }
   ],
   "source": [
    "diagnostic_plots(X_train, 'emp_var_rate')\n",
    "print('\\nSkewness Value : ', X_train['emp_var_rate'].skew())"
   ]
  },
  {
   "cell_type": "markdown",
   "metadata": {},
   "source": [
    "- Dari grafik distribusi dan box plot diatas, menunjukan bahwa bentuk distribusi dari feature emp_var_rate ini berbentuk skewed negatif dan tidak memiliki outlier yang harus dihandle"
   ]
  },
  {
   "cell_type": "code",
   "execution_count": null,
   "metadata": {},
   "outputs": [
    {
     "data": {
      "image/png": "[encoded data removed]",
      "text/plain": [
       "<Figure size 1152x288 with 2 Axes>"
      ]
     },
     "metadata": {
      "needs_background": "light"
     },
     "output_type": "display_data"
    },
    {
     "name": "stdout",
     "output_type": "stream",
     "text": [
      "\n",
      "Skewness Value :  -0.2290699020794592\n"
     ]
    }
   ],
   "source": [
    "diagnostic_plots(X_train, 'cons_price_idx')\n",
    "print('\\nSkewness Value : ', X_train['cons_price_idx'].skew())"
   ]
  },
  {
   "cell_type": "markdown",
   "metadata": {},
   "source": [
    "- Dari grafik distribusi dan box plot diatas, menunjukan bahwa bentuk distribusi dari feature cons_price_idx ini berbentuk distribusi normal dan tidak memiliki outlier yang harus dihandle"
   ]
  },
  {
   "cell_type": "code",
   "execution_count": null,
   "metadata": {},
   "outputs": [
    {
     "data": {
      "image/png": "[encoded data removed]",
      "text/plain": [
       "<Figure size 1152x288 with 2 Axes>"
      ]
     },
     "metadata": {
      "needs_background": "light"
     },
     "output_type": "display_data"
    },
    {
     "name": "stdout",
     "output_type": "stream",
     "text": [
      "\n",
      "Skewness Value :  0.3120829126595513\n"
     ]
    }
   ],
   "source": [
    "diagnostic_plots(X_train, 'cons_conf_idx')\n",
    "print('\\nSkewness Value : ', X_train['cons_conf_idx'].skew())"
   ]
  },
  {
   "cell_type": "markdown",
   "metadata": {},
   "source": [
    "- Dari grafik distribusi dan box plot diatas, menunjukan bahwa bentuk distribusi dari feature cons_price_idx ini berbentuk distribusi normal dan ada beberapa outlier yang butuh dihandle"
   ]
  },
  {
   "cell_type": "code",
   "execution_count": null,
   "metadata": {},
   "outputs": [
    {
     "data": {
      "image/png": "[encoded data removed]",
      "text/plain": [
       "<Figure size 1152x288 with 2 Axes>"
      ]
     },
     "metadata": {
      "needs_background": "light"
     },
     "output_type": "display_data"
    },
    {
     "name": "stdout",
     "output_type": "stream",
     "text": [
      "\n",
      "Skewness Value :  -0.7075800159419624\n"
     ]
    }
   ],
   "source": [
    "diagnostic_plots(X_train, 'euribor3m')\n",
    "print('\\nSkewness Value : ', X_train['euribor3m'].skew())"
   ]
  },
  {
   "cell_type": "markdown",
   "metadata": {},
   "source": [
    "- Dari grafik distribusi dan box plot diatas, menunjukan bahwa bentuk distribusi dari feature euribor3m ini berbentuk skewed negatif dan tidak ada outlier yang harus dihandle"
   ]
  },
  {
   "cell_type": "code",
   "execution_count": null,
   "metadata": {},
   "outputs": [
    {
     "data": {
      "image/png": "[encoded data removed]",
      "text/plain": [
       "<Figure size 1152x288 with 2 Axes>"
      ]
     },
     "metadata": {
      "needs_background": "light"
     },
     "output_type": "display_data"
    },
    {
     "name": "stdout",
     "output_type": "stream",
     "text": [
      "\n",
      "Skewness Value :  -1.0408625644569536\n"
     ]
    }
   ],
   "source": [
    "diagnostic_plots(X_train, 'nr_employed')\n",
    "print('\\nSkewness Value : ', X_train['nr_employed'].skew())"
   ]
  },
  {
   "cell_type": "markdown",
   "metadata": {},
   "source": [
    "- Dari grafik distribusi dan box plot diatas, menunjukan bahwa bentuk distribusi dari feature nr_employed ini berbentuk skewed negatif dan tidak ada outlier yang harus dihandle"
   ]
  },
  {
   "cell_type": "markdown",
   "metadata": {},
   "source": [
    "### 4.2 Handle Outlier Feature Sesuai Distribusinya"
   ]
  },
  {
   "cell_type": "markdown",
   "metadata": {},
   "source": [
    "#### Handling Outlier Feature age (Skewed Positif Distibution)"
   ]
  },
  {
   "cell_type": "code",
   "execution_count": null,
   "metadata": {},
   "outputs": [],
   "source": [
    "def find_skewed_boundaries(X_train, variable, distance):\n",
    "    IQR = X_train[variable].quantile(0.75) - X_train[variable].quantile(0.25)\n",
    "\n",
    "    lower_boundary_age = X_train[variable].quantile(0.25) - (IQR * distance)\n",
    "    upper_boundary_age = X_train[variable].quantile(0.75) + (IQR * distance)\n",
    "\n",
    "    return upper_boundary_age, lower_boundary_age"
   ]
  },
  {
   "cell_type": "code",
   "execution_count": null,
   "metadata": {},
   "outputs": [
    {
     "data": {
      "text/plain": [
       "(92.0, -13.0)"
      ]
     },
     "execution_count": 60,
     "metadata": {},
     "output_type": "execute_result"
    }
   ],
   "source": [
    "upper_boundary_age, lower_boundary_age = find_skewed_boundaries(X_train, 'age', 3)\n",
    "upper_boundary_age, lower_boundary_age"
   ]
  },
  {
   "cell_type": "code",
   "execution_count": null,
   "metadata": {},
   "outputs": [
    {
     "name": "stdout",
     "output_type": "stream",
     "text": [
      "Total Data : 24712\n",
      "(Upper End Outliers)   : 2\n",
      "\n",
      "Upper End Outliers Percentage : 0.00809323405632891\n"
     ]
    }
   ],
   "source": [
    "print('Total Data : {}'.format(len(X_train)))\n",
    "print('(Upper End Outliers)   : {}'.format(len(X_train[X_train['age'] > upper_boundary_age])))\n",
    "print('')\n",
    "print('Upper End Outliers Percentage : {}'.format(len(X_train[X_train['age'] > upper_boundary_age])/len(X_train) * 100))"
   ]
  },
  {
   "cell_type": "code",
   "execution_count": null,
   "metadata": {},
   "outputs": [],
   "source": [
    "index_drop_train1_up = X_train.index[X_train['age'] > upper_boundary_age]"
   ]
  },
  {
   "cell_type": "code",
   "execution_count": null,
   "metadata": {},
   "outputs": [
    {
     "data": {
      "text/plain": [
       "(24710, 20)"
      ]
     },
     "execution_count": 63,
     "metadata": {},
     "output_type": "execute_result"
    }
   ],
   "source": [
    "X_train = X_train.drop(index_drop_train1_up.tolist())\n",
    "X_train.shape"
   ]
  },
  {
   "cell_type": "code",
   "execution_count": null,
   "metadata": {},
   "outputs": [
    {
     "data": {
      "text/plain": [
       "(24710,)"
      ]
     },
     "execution_count": 64,
     "metadata": {},
     "output_type": "execute_result"
    }
   ],
   "source": [
    "y_train = y_train.drop(index_drop_train1_up.tolist())\n",
    "y_train.shape"
   ]
  },
  {
   "cell_type": "markdown",
   "metadata": {},
   "source": [
    "#### Handling Outlier Feature duration (Skewed Positif Distibution)"
   ]
  },
  {
   "cell_type": "code",
   "execution_count": null,
   "metadata": {},
   "outputs": [],
   "source": [
    "def find_skewed_boundaries(X_train, variable, distance):\n",
    "    IQR = X_train[variable].quantile(0.75) - X_train[variable].quantile(0.25)\n",
    "\n",
    "    lower_boundary_duration = X_train[variable].quantile(0.25) - (IQR * distance)\n",
    "    upper_boundary_duration = X_train[variable].quantile(0.75) + (IQR * distance)\n",
    "\n",
    "    return upper_boundary_duration, lower_boundary_duration"
   ]
  },
  {
   "cell_type": "code",
   "execution_count": null,
   "metadata": {},
   "outputs": [
    {
     "data": {
      "text/plain": [
       "(979.0, -554.0)"
      ]
     },
     "execution_count": 66,
     "metadata": {},
     "output_type": "execute_result"
    }
   ],
   "source": [
    "upper_boundary_duration, lower_boundary_duration = find_skewed_boundaries(X_train, 'duration', 3)\n",
    "upper_boundary_duration, lower_boundary_duration"
   ]
  },
  {
   "cell_type": "code",
   "execution_count": null,
   "metadata": {},
   "outputs": [
    {
     "name": "stdout",
     "output_type": "stream",
     "text": [
      "Total Data : 24710\n",
      "(Upper End Outliers)   : 612\n",
      "\n",
      "Upper End Outliers Percentage : 2.4767300687980573\n"
     ]
    }
   ],
   "source": [
    "print('Total Data : {}'.format(len(X_train)))\n",
    "print('(Upper End Outliers)   : {}'.format(len(X_train[X_train['duration'] > upper_boundary_duration])))\n",
    "print('')\n",
    "print('Upper End Outliers Percentage : {}'.format(len(X_train[X_train['duration'] > upper_boundary_duration])/len(X_train) * 100))"
   ]
  },
  {
   "cell_type": "code",
   "execution_count": null,
   "metadata": {},
   "outputs": [],
   "source": [
    "index_drop_train2_up = X_train.index[X_train['duration'] > upper_boundary_duration]"
   ]
  },
  {
   "cell_type": "code",
   "execution_count": null,
   "metadata": {},
   "outputs": [
    {
     "data": {
      "text/plain": [
       "(24098, 20)"
      ]
     },
     "execution_count": 69,
     "metadata": {},
     "output_type": "execute_result"
    }
   ],
   "source": [
    "X_train = X_train.drop(index_drop_train2_up.tolist())\n",
    "X_train.shape"
   ]
  },
  {
   "cell_type": "code",
   "execution_count": null,
   "metadata": {},
   "outputs": [
    {
     "data": {
      "text/plain": [
       "(24098,)"
      ]
     },
     "execution_count": 70,
     "metadata": {},
     "output_type": "execute_result"
    }
   ],
   "source": [
    "y_train = y_train.drop(index_drop_train2_up.tolist())\n",
    "y_train.shape"
   ]
  },
  {
   "cell_type": "markdown",
   "metadata": {},
   "source": [
    "#### Handling Outlier Feature campaign (Skewed Positif Distibution)"
   ]
  },
  {
   "cell_type": "code",
   "execution_count": null,
   "metadata": {},
   "outputs": [],
   "source": [
    "def find_skewed_boundaries(X_train, variable, distance):\n",
    "    IQR = X_train[variable].quantile(0.75) - X_train[variable].quantile(0.25)\n",
    "\n",
    "    lower_boundary_campaign = X_train[variable].quantile(0.25) - (IQR * distance)\n",
    "    upper_boundary_campaign = X_train[variable].quantile(0.75) + (IQR * distance)\n",
    "\n",
    "    return upper_boundary_campaign, lower_boundary_campaign"
   ]
  },
  {
   "cell_type": "code",
   "execution_count": null,
   "metadata": {},
   "outputs": [
    {
     "data": {
      "text/plain": [
       "(9.0, -5.0)"
      ]
     },
     "execution_count": 72,
     "metadata": {},
     "output_type": "execute_result"
    }
   ],
   "source": [
    "upper_boundary_campaign, lower_boundary_campaign = find_skewed_boundaries(X_train, 'campaign', 3)\n",
    "upper_boundary_campaign, lower_boundary_campaign"
   ]
  },
  {
   "cell_type": "code",
   "execution_count": null,
   "metadata": {},
   "outputs": [
    {
     "name": "stdout",
     "output_type": "stream",
     "text": [
      "Total Data : 24098\n",
      "(Upper End Outliers)   : 616\n",
      "\n",
      "Upper End Outliers Percentage : 2.5562287326749105\n"
     ]
    }
   ],
   "source": [
    "print('Total Data : {}'.format(len(X_train)))\n",
    "print('(Upper End Outliers)   : {}'.format(len(X_train[X_train['campaign'] > upper_boundary_campaign])))\n",
    "print('')\n",
    "print('Upper End Outliers Percentage : {}'.format(len(X_train[X_train['campaign'] > upper_boundary_campaign])/len(X_train) * 100))"
   ]
  },
  {
   "cell_type": "code",
   "execution_count": null,
   "metadata": {},
   "outputs": [],
   "source": [
    "index_drop_train3_up = X_train.index[X_train['campaign'] > upper_boundary_campaign]"
   ]
  },
  {
   "cell_type": "code",
   "execution_count": null,
   "metadata": {},
   "outputs": [
    {
     "data": {
      "text/plain": [
       "(23482, 20)"
      ]
     },
     "execution_count": 75,
     "metadata": {},
     "output_type": "execute_result"
    }
   ],
   "source": [
    "X_train = X_train.drop(index_drop_train3_up.tolist())\n",
    "X_train.shape"
   ]
  },
  {
   "cell_type": "code",
   "execution_count": null,
   "metadata": {},
   "outputs": [
    {
     "data": {
      "text/plain": [
       "(23482,)"
      ]
     },
     "execution_count": 76,
     "metadata": {},
     "output_type": "execute_result"
    }
   ],
   "source": [
    "y_train = y_train.drop(index_drop_train3_up.tolist())\n",
    "y_train.shape"
   ]
  },
  {
   "cell_type": "markdown",
   "metadata": {},
   "source": [
    "#### Handling Outlier Feature pdays (Skewed Negatif Distibution)"
   ]
  },
  {
   "cell_type": "code",
   "execution_count": null,
   "metadata": {},
   "outputs": [],
   "source": [
    "def find_skewed_boundaries(X_train, variable, distance):\n",
    "    IQR = X_train[variable].quantile(0.75) - X_train[variable].quantile(0.25)\n",
    "\n",
    "    lower_boundary_pdays = X_train[variable].quantile(0.25) - (IQR * distance)\n",
    "    upper_boundary_pdays = X_train[variable].quantile(0.75) + (IQR * distance)\n",
    "\n",
    "    return upper_boundary_pdays, lower_boundary_pdays"
   ]
  },
  {
   "cell_type": "code",
   "execution_count": null,
   "metadata": {},
   "outputs": [
    {
     "data": {
      "text/plain": [
       "(999.0, 999.0)"
      ]
     },
     "execution_count": 78,
     "metadata": {},
     "output_type": "execute_result"
    }
   ],
   "source": [
    "upper_boundary_pdays, lower_boundary_pdays = find_skewed_boundaries(X_train, 'pdays', 3)\n",
    "upper_boundary_pdays, lower_boundary_pdays"
   ]
  },
  {
   "cell_type": "code",
   "execution_count": null,
   "metadata": {},
   "outputs": [
    {
     "name": "stdout",
     "output_type": "stream",
     "text": [
      "Total Data : 23482\n",
      "(Upper End Outliers)   : 861\n",
      "\n",
      "Upper End Outliers Percentage : 3.6666382761263945\n"
     ]
    }
   ],
   "source": [
    "print('Total Data : {}'.format(len(X_train)))\n",
    "print('(Upper End Outliers)   : {}'.format(len(X_train[X_train['pdays'] < lower_boundary_pdays])))\n",
    "print('')\n",
    "print('Upper End Outliers Percentage : {}'.format(len(X_train[X_train['pdays'] < lower_boundary_pdays])/len(X_train) * 100))"
   ]
  },
  {
   "cell_type": "code",
   "execution_count": null,
   "metadata": {},
   "outputs": [],
   "source": [
    "index_drop_train4_up = X_train.index[X_train['pdays'] < lower_boundary_pdays]"
   ]
  },
  {
   "cell_type": "code",
   "execution_count": null,
   "metadata": {},
   "outputs": [
    {
     "data": {
      "text/plain": [
       "(22621, 20)"
      ]
     },
     "execution_count": 81,
     "metadata": {},
     "output_type": "execute_result"
    }
   ],
   "source": [
    "X_train = X_train.drop(index_drop_train4_up.tolist())\n",
    "X_train.shape"
   ]
  },
  {
   "cell_type": "code",
   "execution_count": null,
   "metadata": {},
   "outputs": [
    {
     "data": {
      "text/plain": [
       "(22621,)"
      ]
     },
     "execution_count": 82,
     "metadata": {},
     "output_type": "execute_result"
    }
   ],
   "source": [
    "y_train = y_train.drop(index_drop_train4_up.tolist())\n",
    "y_train.shape"
   ]
  },
  {
   "cell_type": "markdown",
   "metadata": {},
   "source": [
    "#### Handling Outlier Feature previous (Skewed Positif Distibution)"
   ]
  },
  {
   "cell_type": "markdown",
   "metadata": {},
   "source": [
    "- OUTLIER TIDAK SAYA HAPUS KARENA ASUMSI SAYA KOLOM 'previous' INI ADALAH SEBUAH FREKUENSI \n",
    "- KARENA NILAI-NILAI PADA OUTLIER CUKUP PENTING BUAT PENGOLAHAN DATA"
   ]
  },
  {
   "cell_type": "markdown",
   "metadata": {},
   "source": [
    "#### Handling Outlier Feature emp_var_rate (Skewed Negatif Distibution)"
   ]
  },
  {
   "cell_type": "markdown",
   "metadata": {},
   "source": [
    "- TIDAK ADA OUTLIER"
   ]
  },
  {
   "cell_type": "markdown",
   "metadata": {},
   "source": [
    "#### Handling Outlier Feature cons_price_idx (Normal Distibution)"
   ]
  },
  {
   "cell_type": "markdown",
   "metadata": {},
   "source": [
    "- TIDAK ADA OUTLIER"
   ]
  },
  {
   "cell_type": "markdown",
   "metadata": {},
   "source": [
    "#### Handling Outlier Feature cons_conf_idx (Normal Distibution)"
   ]
  },
  {
   "cell_type": "code",
   "execution_count": null,
   "metadata": {},
   "outputs": [],
   "source": [
    "def find_normal_boundaries(X_train, variable):\n",
    "    upper_boundary_cons_conf_idx = X_train[variable].mean() + 3 * X_train[variable].std()\n",
    "    lower_boundary_cons_conf_idx = X_train[variable].mean() - 3 * X_train[variable].std()\n",
    "\n",
    "    return upper_boundary_cons_conf_idx, lower_boundary_cons_conf_idx"
   ]
  },
  {
   "cell_type": "code",
   "execution_count": null,
   "metadata": {},
   "outputs": [
    {
     "data": {
      "text/plain": [
       "(-26.983238512353864, -54.23320638398141)"
      ]
     },
     "execution_count": 84,
     "metadata": {},
     "output_type": "execute_result"
    }
   ],
   "source": [
    "upper_boundary_cons_conf_idx, lower_boundary_cons_conf_idx = find_normal_boundaries(X_train, 'cons_conf_idx')\n",
    "upper_boundary_cons_conf_idx, lower_boundary_cons_conf_idx"
   ]
  },
  {
   "cell_type": "code",
   "execution_count": null,
   "metadata": {},
   "outputs": [
    {
     "name": "stdout",
     "output_type": "stream",
     "text": [
      "Total of Data: 22621\n",
      "(Upper End Outliers) : 213\n",
      "(Lower End Outliers)  : 0\n",
      "\n",
      "Upper End Outliers Percentage : 0.9416029353255825\n",
      "Lower End Outliers Percentage : 0.0\n"
     ]
    }
   ],
   "source": [
    "print('Total of Data: {}'.format(len(X_train)))\n",
    "print('(Upper End Outliers) : {}'.format(len(X_train[X_train['cons_conf_idx'] > upper_boundary_cons_conf_idx])))\n",
    "print('(Lower End Outliers)  : {}'.format(len(X_train[X_train['cons_conf_idx'] < lower_boundary_cons_conf_idx])))\n",
    "print('')\n",
    "print('Upper End Outliers Percentage : {}'.format(len(X_train[X_train['cons_conf_idx'] > upper_boundary_cons_conf_idx]) / len(X_train) * 100))\n",
    "print('Lower End Outliers Percentage : {}'.format(len(X_train[X_train['cons_conf_idx'] < lower_boundary_cons_conf_idx]) / len(X_train) * 100))"
   ]
  },
  {
   "cell_type": "code",
   "execution_count": null,
   "metadata": {},
   "outputs": [],
   "source": [
    "index_drop_train5_up = X_train.index[X_train['cons_conf_idx'] > upper_boundary_cons_conf_idx]"
   ]
  },
  {
   "cell_type": "code",
   "execution_count": null,
   "metadata": {},
   "outputs": [
    {
     "data": {
      "text/plain": [
       "(22408, 20)"
      ]
     },
     "execution_count": 87,
     "metadata": {},
     "output_type": "execute_result"
    }
   ],
   "source": [
    "X_train = X_train.drop(index_drop_train5_up.tolist())\n",
    "X_train.shape"
   ]
  },
  {
   "cell_type": "code",
   "execution_count": null,
   "metadata": {},
   "outputs": [
    {
     "data": {
      "text/plain": [
       "(22408,)"
      ]
     },
     "execution_count": 88,
     "metadata": {},
     "output_type": "execute_result"
    }
   ],
   "source": [
    "y_train = y_train.drop(index_drop_train5_up.tolist())\n",
    "y_train.shape"
   ]
  },
  {
   "cell_type": "markdown",
   "metadata": {},
   "source": [
    "#### Handling Outlier Feature euribor3m (Skewed Negatif Distibution)"
   ]
  },
  {
   "cell_type": "markdown",
   "metadata": {},
   "source": [
    "- TIDAK ADA OUTLIER"
   ]
  },
  {
   "cell_type": "markdown",
   "metadata": {},
   "source": [
    "#### Handling Outlier Feature nr_employed (Skewed Negatif Distibution)"
   ]
  },
  {
   "cell_type": "markdown",
   "metadata": {},
   "source": [
    "- TIDAK ADA OUTLIER"
   ]
  },
  {
   "cell_type": "markdown",
   "metadata": {},
   "source": [
    "## 5. EDA X_train"
   ]
  },
  {
   "cell_type": "code",
   "execution_count": null,
   "metadata": {},
   "outputs": [
    {
     "data": {
      "text/plain": [
       "array([0.10720963, 0.05655952, 0.02786253, 0.04879381, 0.01061723,\n",
       "       0.02370161, 0.01722034, 0.01235041, 0.02158191, 0.04679997,\n",
       "       0.31679127, 0.04593225, 0.        , 0.01096882, 0.00834855,\n",
       "       0.02448906, 0.02625088, 0.03203363, 0.10966045, 0.05282813])"
      ]
     },
     "execution_count": 89,
     "metadata": {},
     "output_type": "execute_result"
    }
   ],
   "source": [
    "# Mencoba mengecek korelasi menggunakan feature importance pada random forrest\n",
    "\n",
    "rf = RandomForestClassifier(n_estimators=100, random_state=42)\n",
    "rf.fit(X_train, y_train)\n",
    "rf.feature_importances_"
   ]
  },
  {
   "cell_type": "code",
   "execution_count": null,
   "metadata": {},
   "outputs": [
    {
     "data": {
      "text/plain": [
       "Index(['age', 'job', 'marital', 'education', 'default', 'housing', 'loan',\n",
       "       'contact', 'month', 'day_of_week', 'duration', 'campaign', 'pdays',\n",
       "       'previous', 'poutcome', 'emp_var_rate', 'cons_price_idx',\n",
       "       'cons_conf_idx', 'euribor3m', 'nr_employed'],\n",
       "      dtype='object')"
      ]
     },
     "execution_count": 90,
     "metadata": {},
     "output_type": "execute_result"
    }
   ],
   "source": [
    "X_train.columns"
   ]
  },
  {
   "cell_type": "code",
   "execution_count": null,
   "metadata": {},
   "outputs": [
    {
     "data": {
      "text/plain": [
       "<AxesSubplot:>"
      ]
     },
     "execution_count": 91,
     "metadata": {},
     "output_type": "execute_result"
    },
    {
     "data": {
      "image/png": "[encoded data removed]",
      "text/plain": [
       "<Figure size 864x288 with 1 Axes>"
      ]
     },
     "metadata": {
      "needs_background": "light"
     },
     "output_type": "display_data"
    }
   ],
   "source": [
    "test_9 = rf.feature_importances_\n",
    "pd.DataFrame(test_9).plot(kind='bar', figsize=(12,4))"
   ]
  },
  {
   "cell_type": "markdown",
   "metadata": {},
   "source": [
    "Dilihat dari hasil diatas, feature yang nilai importancenya 0, yaitu pada index 12 yaitu pdays. Sehingga saya memutuskan untuk menghapus feature 'pdays' untuk ketahap evaluasi model"
   ]
  },
  {
   "cell_type": "code",
   "execution_count": null,
   "metadata": {},
   "outputs": [],
   "source": [
    "X_train.drop('pdays', axis=1, inplace=True)"
   ]
  },
  {
   "cell_type": "code",
   "execution_count": null,
   "metadata": {},
   "outputs": [],
   "source": [
    "X_test.drop('pdays', axis=1, inplace=True)"
   ]
  },
  {
   "cell_type": "markdown",
   "metadata": {},
   "source": [
    "## 6. Scaling"
   ]
  },
  {
   "cell_type": "code",
   "execution_count": null,
   "metadata": {},
   "outputs": [],
   "source": [
    "# Metode scaling menggunakan MinMax Scaler\n",
    "\n",
    "scaler = MinMaxScaler()\n",
    "\n",
    "X_train = scaler.fit_transform(X_train)\n",
    "X_test = scaler.transform(X_test)"
   ]
  },
  {
   "cell_type": "markdown",
   "metadata": {},
   "source": [
    "# vi. MODEL DEFINITION"
   ]
  },
  {
   "cell_type": "code",
   "execution_count": null,
   "metadata": {},
   "outputs": [
    {
     "data": {
      "text/plain": [
       "LogisticRegression()"
      ]
     },
     "execution_count": 95,
     "metadata": {},
     "output_type": "execute_result"
    }
   ],
   "source": [
    "# Model Definition Logistic Regression\n",
    "logreg = LogisticRegression()\n",
    "logreg.fit(X_train, y_train)"
   ]
  },
  {
   "cell_type": "code",
   "execution_count": null,
   "metadata": {},
   "outputs": [
    {
     "data": {
      "text/plain": [
       "SVC()"
      ]
     },
     "execution_count": 96,
     "metadata": {},
     "output_type": "execute_result"
    }
   ],
   "source": [
    "# Model Definition Support Vector Machine (SVM)\n",
    "svm = SVC()\n",
    "svm.fit(X_train, y_train)"
   ]
  },
  {
   "cell_type": "code",
   "execution_count": null,
   "metadata": {},
   "outputs": [
    {
     "data": {
      "text/plain": [
       "RandomForestClassifier()"
      ]
     },
     "execution_count": 97,
     "metadata": {},
     "output_type": "execute_result"
    }
   ],
   "source": [
    "# Model Definition Random Forest\n",
    "clf_rf = RandomForestClassifier()\n",
    "clf_rf.fit(X_train,y_train)"
   ]
  },
  {
   "cell_type": "code",
   "execution_count": null,
   "metadata": {},
   "outputs": [
    {
     "data": {
      "text/plain": [
       "DecisionTreeClassifier()"
      ]
     },
     "execution_count": 98,
     "metadata": {},
     "output_type": "execute_result"
    }
   ],
   "source": [
    "# Model Definition Decision Tree\n",
    "dt = DecisionTreeClassifier()\n",
    "dt.fit(X_train, y_train)"
   ]
  },
  {
   "cell_type": "code",
   "execution_count": null,
   "metadata": {},
   "outputs": [
    {
     "data": {
      "text/plain": [
       "KNeighborsClassifier()"
      ]
     },
     "execution_count": 99,
     "metadata": {},
     "output_type": "execute_result"
    }
   ],
   "source": [
    "# Model Definition KNN (K-Nearest Neighbors)\n",
    "neigh = KNeighborsClassifier()\n",
    "neigh.fit(X_train, y_train)"
   ]
  },
  {
   "cell_type": "code",
   "execution_count": null,
   "metadata": {},
   "outputs": [
    {
     "data": {
      "text/plain": [
       "GaussianNB()"
      ]
     },
     "execution_count": 100,
     "metadata": {},
     "output_type": "execute_result"
    }
   ],
   "source": [
    "# Model Definition Gaussian Naive Bayes\n",
    "gauss_nb = GaussianNB()\n",
    "gauss_nb.fit(X_train, y_train)"
   ]
  },
  {
   "cell_type": "code",
   "execution_count": null,
   "metadata": {},
   "outputs": [
    {
     "data": {
      "text/plain": [
       "SGDClassifier()"
      ]
     },
     "execution_count": 101,
     "metadata": {},
     "output_type": "execute_result"
    }
   ],
   "source": [
    "# Model Definition Stochastic Gradient Descent\n",
    "clf_sgd = SGDClassifier()\n",
    "clf_sgd.fit(X_train, y_train)"
   ]
  },
  {
   "cell_type": "markdown",
   "metadata": {},
   "source": [
    "# vii. MODEL EVALUATION"
   ]
  },
  {
   "cell_type": "markdown",
   "metadata": {},
   "source": [
    "## Evaluasi Model"
   ]
  },
  {
   "cell_type": "markdown",
   "metadata": {},
   "source": [
    "### 1. Evaluasi Model Logistic Regression"
   ]
  },
  {
   "cell_type": "code",
   "execution_count": null,
   "metadata": {},
   "outputs": [
    {
     "name": "stdout",
     "output_type": "stream",
     "text": [
      "Train/Test split results:\n",
      "LogisticRegression accuracy is 0.904\n",
      "LogisticRegression log_loss is 0.227\n",
      "LogisticRegression auc is 0.929\n"
     ]
    }
   ],
   "source": [
    "# Evaluasi Model Logistic Regression\n",
    "y_pred_logreg = logreg.predict(X_test)\n",
    "\n",
    "y_pred_proba_logreg = logreg.predict_proba(X_test)[:, 1]\n",
    "[fpr_logreg, tpr_logreg, thr_logreg] = roc_curve(y_test, y_pred_proba_logreg)\n",
    "print('Train/Test split results:')\n",
    "print(logreg.__class__.__name__+\" accuracy is %2.3f\" % accuracy_score(y_test, y_pred_logreg))\n",
    "print(logreg.__class__.__name__+\" log_loss is %2.3f\" % log_loss(y_test, y_pred_proba_logreg))\n",
    "print(logreg.__class__.__name__+\" auc is %2.3f\" % auc(fpr_logreg, tpr_logreg))\n",
    "\n",
    "idx = np.min(np.where(tpr_logreg > 0.95))"
   ]
  },
  {
   "cell_type": "markdown",
   "metadata": {},
   "source": [
    "- Hasil dari evaluasi model yang didapatkan pada model logistic regression adalah nilai akurasi dari model itu 0.904 atau 90.4% dan nilai auc sebesar 0.929 atau 92.9% yang artinya model ini bisa mempredikasi nilai target dengan benar dari feature yang ada dengan rate kebenaran sebesar 90.4% dan model ini dapat mempelajari prediksi data baru dengan rate kebenaran sebesar 92.9%."
   ]
  },
  {
   "cell_type": "markdown",
   "metadata": {},
   "source": [
    "MEMBANDINGKAN HASIL PREDIKSI MODEL LOGISTIC REGRESSION DENGAN NILAI CROSS VALIDATION K-FOLD PADA MODEL"
   ]
  },
  {
   "cell_type": "code",
   "execution_count": null,
   "metadata": {},
   "outputs": [
    {
     "name": "stdout",
     "output_type": "stream",
     "text": [
      "K-fold cross-validation results:\n",
      "LogisticRegression average accuracy is 0.928\n",
      "LogisticRegression average log_loss is 0.174\n",
      "LogisticRegression average auc is 0.923\n"
     ]
    }
   ],
   "source": [
    "# Cross Validation K-fold Logistic Regression\n",
    "scores_accuracy_logreg = cross_val_score(logreg, X_train, y_train, cv=10, scoring='accuracy')\n",
    "scores_log_loss_logreg = cross_val_score(logreg, X_train, y_train, cv=10, scoring='neg_log_loss')\n",
    "scores_auc_logreg = cross_val_score(logreg, X_train, y_train, cv=10, scoring='roc_auc')\n",
    "print('K-fold cross-validation results:')\n",
    "print(logreg.__class__.__name__+\" average accuracy is %2.3f\" % scores_accuracy_logreg.mean())\n",
    "print(logreg.__class__.__name__+\" average log_loss is %2.3f\" % -scores_log_loss_logreg.mean())\n",
    "print(logreg.__class__.__name__+\" average auc is %2.3f\" % scores_auc_logreg.mean())"
   ]
  },
  {
   "cell_type": "markdown",
   "metadata": {},
   "source": [
    "- Hasil dari cross validation model yang didapatkan pada model logistic regression adalah nilai akurasi dari model itu 0.928 atau 92.8% dan nilai auc sebesar 0.923 atau 92.93% yang artinya model ini seharusnya bisa mempredikasi nilai target dengan benar dari feature yang ada dengan rate kebenaran sebesar 92.8% dan model ini seharusnya dapat mempelajari prediksi data baru dengan rate kebenaran sebesar 92.93%."
   ]
  },
  {
   "cell_type": "code",
   "execution_count": null,
   "metadata": {},
   "outputs": [
    {
     "name": "stdout",
     "output_type": "stream",
     "text": [
      "Confusion matrix\n",
      "\n",
      " [[14150   470]\n",
      " [ 1110   746]]\n",
      "\n",
      "Logistic Regression Train\n",
      "                precision    recall  f1-score   support\n",
      "\n",
      "Not Subscribe       0.94      0.98      0.96     20605\n",
      "    Subscribe       0.61      0.30      0.40      1803\n",
      "\n",
      "     accuracy                           0.93     22408\n",
      "    macro avg       0.78      0.64      0.68     22408\n",
      " weighted avg       0.91      0.93      0.92     22408\n",
      "\n",
      "accuracy score : 0.9282399143163156\n",
      "\n",
      "Logistic Regression VAL\n",
      "                precision    recall  f1-score   support\n",
      "\n",
      "Not Subscribe       0.93      0.97      0.95     14620\n",
      "    Subscribe       0.61      0.40      0.49      1856\n",
      "\n",
      "     accuracy                           0.90     16476\n",
      "    macro avg       0.77      0.68      0.72     16476\n",
      " weighted avg       0.89      0.90      0.90     16476\n",
      "\n",
      "accuracy score : 0.9041029376062151\n"
     ]
    }
   ],
   "source": [
    "# Classificationn Report Logistic Regression\n",
    "y_train_logreg = logreg.predict(X_train)\n",
    "\n",
    "cm_logreg = confusion_matrix(y_test, y_pred_logreg)\n",
    "print('Confusion matrix\\n\\n', cm_logreg)\n",
    "print('')\n",
    "print(\"Logistic Regression Train\\n\", classification_report(y_train, y_train_logreg, target_names=[\"Not Subscribe\", \"Subscribe\"]))\n",
    "print('accuracy score :', accuracy_score(y_train_logreg, y_train))\n",
    "print('')\n",
    "print(\"Logistic Regression VAL\\n\", classification_report(y_test, y_pred_logreg, target_names=[\"Not Subscribe\", \"Subscribe\"]))\n",
    "print('accuracy score :', accuracy_score(y_pred_logreg, y_test))"
   ]
  },
  {
   "cell_type": "markdown",
   "metadata": {},
   "source": [
    "- Dari hasil classification report diatas, didapatkan nilai akurasi pada train sebesar 92.8% dan pada saat di test nilai akurasi didapatkan nilai akurasi sebesar 90.4%. Yang dimana pada kasus ini nilai akurasi train lebih besar daripada test, bisa disebut juga Overfitting"
   ]
  },
  {
   "cell_type": "code",
   "execution_count": null,
   "metadata": {},
   "outputs": [
    {
     "name": "stdout",
     "output_type": "stream",
     "text": [
      "f1-score for inbalance label :  0.8951406703125523\n"
     ]
    }
   ],
   "source": [
    "print('f1-score for inbalance label : ', f1_score(y_test, y_pred_logreg, average='weighted'))"
   ]
  },
  {
   "cell_type": "markdown",
   "metadata": {},
   "source": [
    "- Karena pada dataset ini, label pada target inbalance jadi saya memutuskan untuk perbandingan antar model nanti menggunakan nilai f1 score dari semua labelnya. Dan dari model logistic regression didapatkan nilai f-score sebesar 89.514%"
   ]
  },
  {
   "cell_type": "code",
   "execution_count": null,
   "metadata": {},
   "outputs": [
    {
     "data": {
      "image/png": "[encoded data removed]",
      "text/plain": [
       "<Figure size 432x288 with 1 Axes>"
      ]
     },
     "metadata": {
      "needs_background": "light"
     },
     "output_type": "display_data"
    }
   ],
   "source": [
    "# Plot grafik Roc Curve Model Logistic Regression\n",
    "\n",
    "plt.figure()\n",
    "plt.plot(fpr_logreg, tpr_logreg, color='coral', label='ROC curve (area = %0.3f)' % auc(fpr_logreg, tpr_logreg))\n",
    "plt.plot([0, 1], [0, 1], 'k--')\n",
    "plt.plot([0,fpr_logreg[idx]], [tpr_logreg[idx],tpr_logreg[idx]], 'k--', color='blue')\n",
    "plt.plot([fpr_logreg[idx],fpr_logreg[idx]], [0,tpr_logreg[idx]], 'k--', color='blue')\n",
    "plt.xlim([0.0, 1.0])\n",
    "plt.ylim([0.0, 1.05])\n",
    "plt.xlabel('False Positive Rate (1 - specificity)', fontsize=14)\n",
    "plt.ylabel('True Positive Rate (recall)', fontsize=14)\n",
    "plt.title('Receiver operating characteristic (ROC) curve')\n",
    "plt.legend(loc=\"lower right\")\n",
    "plt.show()"
   ]
  },
  {
   "cell_type": "markdown",
   "metadata": {},
   "source": [
    "- Disini bisa dilihat luas area yang didapatkan pada model logistic regression ini sebesar 92.9%, yang dimana dapat diartikan bahwa model ini dapat belajar memprediksi data baru dengan tingkat kebenaran sebesar 92.9%"
   ]
  },
  {
   "cell_type": "markdown",
   "metadata": {},
   "source": [
    "### 2. Evaluasi Model Support Vector Machine"
   ]
  },
  {
   "cell_type": "code",
   "execution_count": null,
   "metadata": {},
   "outputs": [],
   "source": [
    "y_pred_svm = svm.predict(X_test)\n",
    "y_train_svm = svm.predict(X_train)"
   ]
  },
  {
   "cell_type": "code",
   "execution_count": null,
   "metadata": {},
   "outputs": [
    {
     "name": "stdout",
     "output_type": "stream",
     "text": [
      "Test accuracy score: 0.90\n"
     ]
    }
   ],
   "source": [
    "print(\"Test accuracy score: {:.2f}\".format(svm.score(X_test, y_test)))"
   ]
  },
  {
   "cell_type": "markdown",
   "metadata": {},
   "source": [
    "Hasil evaluasi dari model svm ini, didapatkan nilai score sebesar 0.90 atau 90% yang dapat diartikan bahwa model ini dapat memprediksi nilai target pada dataset ini sebesar 90%."
   ]
  },
  {
   "cell_type": "markdown",
   "metadata": {},
   "source": [
    "MEMBANDINGKAN HASIL PREDIKSI MODEL SUPPORT VECTOR MACHINE DENGAN NILAI CROSS VALIDATION K-FOLD PADA MODEL"
   ]
  },
  {
   "cell_type": "code",
   "execution_count": null,
   "metadata": {},
   "outputs": [
    {
     "name": "stdout",
     "output_type": "stream",
     "text": [
      "K-fold cross-validation results:\n",
      "SVC average accuracy is 0.926\n",
      "SVC average auc is 0.875\n"
     ]
    }
   ],
   "source": [
    "# Cross Validation K-fold Support Vector Machine\n",
    "scores_accuracy_svm = cross_val_score(svm, X_train, y_train, cv=10, scoring='accuracy')\n",
    "scores_auc_svm = cross_val_score(svm, X_train, y_train, cv=10, scoring='roc_auc')\n",
    "print('K-fold cross-validation results:')\n",
    "print(svm.__class__.__name__+\" average accuracy is %2.3f\" % scores_accuracy_svm.mean())\n",
    "print(svm.__class__.__name__+\" average auc is %2.3f\" % scores_auc_svm.mean())"
   ]
  },
  {
   "cell_type": "markdown",
   "metadata": {},
   "source": [
    "- Hasil dari cross validation model yang didapatkan pada model support vector machine adalah nilai akurasi dari model itu 0.926 atau 92.6% dan nilai auc sebesar 0.875 atau 87.5% yang artinya model ini seharusnya bisa mempredikasi nilai target dengan benar dari feature yang ada dengan rate kebenaran sebesar 92.6% dan model ini seharusnya dapat mempelajari prediksi data baru dengan rate kebenaran sebesar 87.5%."
   ]
  },
  {
   "cell_type": "code",
   "execution_count": null,
   "metadata": {},
   "outputs": [
    {
     "name": "stdout",
     "output_type": "stream",
     "text": [
      "Confusion matrix\n",
      "\n",
      " [[14482   138]\n",
      " [ 1535   321]]\n",
      "\n",
      "Support Vector Machine Train\n",
      "                precision    recall  f1-score   support\n",
      "\n",
      "Not Subscribe       0.93      1.00      0.96     20605\n",
      "    Subscribe       0.75      0.15      0.25      1803\n",
      "\n",
      "     accuracy                           0.93     22408\n",
      "    macro avg       0.84      0.57      0.61     22408\n",
      " weighted avg       0.92      0.93      0.90     22408\n",
      "\n",
      "accuracy score : 0.9275258836129954\n",
      "\n",
      "Support Vector Machine VAL\n",
      "                precision    recall  f1-score   support\n",
      "\n",
      "Not Subscribe       0.90      0.99      0.95     14620\n",
      "    Subscribe       0.70      0.17      0.28      1856\n",
      "\n",
      "     accuracy                           0.90     16476\n",
      "    macro avg       0.80      0.58      0.61     16476\n",
      " weighted avg       0.88      0.90      0.87     16476\n",
      "\n",
      "accuracy score : 0.898458363680505\n"
     ]
    }
   ],
   "source": [
    "# Classificationn Report SVM\n",
    "\n",
    "cm_svm = confusion_matrix(y_test, y_pred_svm)\n",
    "print('Confusion matrix\\n\\n', cm_svm)\n",
    "print('')\n",
    "print(\"Support Vector Machine Train\\n\", classification_report(y_train, y_train_svm, target_names=[\"Not Subscribe\", \"Subscribe\"]))\n",
    "print('accuracy score :', accuracy_score(y_train_svm, y_train))\n",
    "print('')\n",
    "print(\"Support Vector Machine VAL\\n\", classification_report(y_test, y_pred_svm, target_names=[\"Not Subscribe\", \"Subscribe\"]))\n",
    "print('accuracy score :', accuracy_score(y_pred_svm, y_test))"
   ]
  },
  {
   "cell_type": "markdown",
   "metadata": {},
   "source": [
    "- Dari hasil classification report diatas, didapatkan nilai akurasi pada train sebesar 93% dan pada saat di test nilai akurasi didapatkan nilai akurasi sebesar 90%. Yang dimana pada kasus ini nilai akurasi train lebih besar daripada test, bisa disebut juga Overfitting"
   ]
  },
  {
   "cell_type": "code",
   "execution_count": null,
   "metadata": {},
   "outputs": [
    {
     "name": "stdout",
     "output_type": "stream",
     "text": [
      "f1-score for inbalance label :  0.8701354939625944\n"
     ]
    }
   ],
   "source": [
    "print('f1-score for inbalance label : ', f1_score(y_test, y_pred_svm, average='weighted'))"
   ]
  },
  {
   "cell_type": "markdown",
   "metadata": {},
   "source": [
    "- Karena pada dataset ini, label pada target inbalance jadi saya memutuskan untuk perbandingan antar model nanti menggunakan nilai f1 score dari semua labelnya. Dan dari model support vector machine didapatkan nilai f-score sebesar 87.013%"
   ]
  },
  {
   "cell_type": "markdown",
   "metadata": {},
   "source": [
    "### 3. Evaluasi Model Random Forest"
   ]
  },
  {
   "cell_type": "code",
   "execution_count": null,
   "metadata": {},
   "outputs": [
    {
     "name": "stdout",
     "output_type": "stream",
     "text": [
      "Train/Test split results:\n",
      "RandomForestClassifier accuracy is 0.907\n",
      "RandomForestClassifier log_loss is 0.194\n",
      "RandomForestClassifier auc is 0.942\n"
     ]
    }
   ],
   "source": [
    "# Evaluasi Model Random Forest\n",
    "y_pred_rf = clf_rf.predict(X_test)\n",
    "\n",
    "y_pred_proba_rf = clf_rf.predict_proba(X_test)[:, 1]\n",
    "[fpr_rf, tpr_rf, thr_rf] = roc_curve(y_test, y_pred_proba_rf)\n",
    "print('Train/Test split results:')\n",
    "print(clf_rf.__class__.__name__+\" accuracy is %2.3f\" % accuracy_score(y_test, y_pred_rf))\n",
    "print(clf_rf.__class__.__name__+\" log_loss is %2.3f\" % log_loss(y_test, y_pred_proba_rf))\n",
    "print(clf_rf.__class__.__name__+\" auc is %2.3f\" % auc(fpr_rf, tpr_rf))\n",
    "\n",
    "idx = np.min(np.where(tpr_rf > 0.95))"
   ]
  },
  {
   "cell_type": "markdown",
   "metadata": {},
   "source": [
    "- Hasil dari evaluasi model yang didapatkan pada model random forest adalah nilai akurasi dari model itu 0.907 atau 90.7% dan nilai auc sebesar 0.942 atau 94.2% yang artinya model ini bisa mempredikasi nilai target dengan benar dari feature yang ada dengan rate kebenaran sebesar 90.7% dan model ini dapat mempelajari prediksi data baru dengan rate kebenaran sebesar 94.2%."
   ]
  },
  {
   "cell_type": "markdown",
   "metadata": {},
   "source": [
    "MEMBANDINGKAN HASIL PREDIKSI MODEL RANDOM FOREST DENGAN NILAI CROSS VALIDATION K-FOLD PADA MODEL"
   ]
  },
  {
   "cell_type": "code",
   "execution_count": null,
   "metadata": {},
   "outputs": [
    {
     "name": "stdout",
     "output_type": "stream",
     "text": [
      "K-fold cross-validation results:\n",
      "RandomForestClassifier average accuracy is 0.928\n",
      "RandomForestClassifier average log_loss is 0.182\n",
      "RandomForestClassifier average auc is 0.938\n"
     ]
    }
   ],
   "source": [
    "# Cross Validation K-fold Random Forest\n",
    "scores_accuracy_clf_rf = cross_val_score(clf_rf, X_train, y_train, cv=10, scoring='accuracy')\n",
    "scores_log_loss_clf_rf = cross_val_score(clf_rf, X_train, y_train, cv=10, scoring='neg_log_loss')\n",
    "scores_auc_clf_rf = cross_val_score(clf_rf, X_train, y_train, cv=10, scoring='roc_auc')\n",
    "print('K-fold cross-validation results:')\n",
    "print(clf_rf.__class__.__name__+\" average accuracy is %2.3f\" % scores_accuracy_clf_rf.mean())\n",
    "print(clf_rf.__class__.__name__+\" average log_loss is %2.3f\" % -scores_log_loss_clf_rf.mean())\n",
    "print(clf_rf.__class__.__name__+\" average auc is %2.3f\" % scores_auc_clf_rf.mean())"
   ]
  },
  {
   "cell_type": "markdown",
   "metadata": {},
   "source": [
    "- Hasil dari cross validation model yang didapatkan pada model random forest adalah nilai akurasi dari model itu 0.928 atau 92.8% dan nilai auc sebesar 0.938 atau 93.8% yang artinya model ini seharusnya bisa mempredikasi nilai target dengan benar dari feature yang ada dengan rate kebenaran sebesar 92.8% dan model ini seharusnya dapat mempelajari prediksi data baru dengan rate kebenaran sebesar 93.8%."
   ]
  },
  {
   "cell_type": "code",
   "execution_count": null,
   "metadata": {},
   "outputs": [
    {
     "name": "stdout",
     "output_type": "stream",
     "text": [
      "Confusion matrix\n",
      "\n",
      " [[14202   418]\n",
      " [ 1109   747]]\n",
      "\n",
      "Random Forest Train\n",
      "                precision    recall  f1-score   support\n",
      "\n",
      "Not Subscribe       1.00      1.00      1.00     20605\n",
      "    Subscribe       1.00      1.00      1.00      1803\n",
      "\n",
      "     accuracy                           1.00     22408\n",
      "    macro avg       1.00      1.00      1.00     22408\n",
      " weighted avg       1.00      1.00      1.00     22408\n",
      "\n",
      "accuracy score : 1.0\n",
      "\n",
      "Random Forest\n",
      "                precision    recall  f1-score   support\n",
      "\n",
      "Not Subscribe       0.93      0.97      0.95     14620\n",
      "    Subscribe       0.64      0.40      0.49      1856\n",
      "\n",
      "     accuracy                           0.91     16476\n",
      "    macro avg       0.78      0.69      0.72     16476\n",
      " weighted avg       0.90      0.91      0.90     16476\n",
      "\n",
      "accuracy score : 0.907319737800437\n"
     ]
    }
   ],
   "source": [
    "# Classification Report Model Random Forest\n",
    "\n",
    "y_train_rf = clf_rf.predict(X_train)\n",
    "\n",
    "cm_rf = confusion_matrix(y_test, y_pred_rf)\n",
    "print('Confusion matrix\\n\\n', cm_rf)\n",
    "print('')\n",
    "print(\"Random Forest Train\\n\", classification_report(y_train, y_train_rf, target_names=[\"Not Subscribe\", \"Subscribe\"]))\n",
    "print('accuracy score :', accuracy_score( y_train_rf, y_train))\n",
    "print('')\n",
    "print(\"Random Forest\\n\", classification_report(y_test, y_pred_rf, target_names=[\"Not Subscribe\", \"Subscribe\"]))\n",
    "print('accuracy score :', accuracy_score( y_pred_rf, y_test))"
   ]
  },
  {
   "cell_type": "markdown",
   "metadata": {},
   "source": [
    "- Dari hasil classification report diatas, didapatkan nilai akurasi pada train sebesar 100% dan pada saat di test nilai akurasi didapatkan nilai akurasi sebesar 91%. Yang dimana pada kasus ini nilai akurasi train lebih besar daripada test, bisa disebut juga Overfitting"
   ]
  },
  {
   "cell_type": "code",
   "execution_count": null,
   "metadata": {},
   "outputs": [
    {
     "name": "stdout",
     "output_type": "stream",
     "text": [
      "f1-score for inbalance label :  0.8977900855920212\n"
     ]
    }
   ],
   "source": [
    "print('f1-score for inbalance label : ', f1_score(y_test, y_pred_rf, average='weighted'))"
   ]
  },
  {
   "cell_type": "markdown",
   "metadata": {},
   "source": [
    "- Karena pada dataset ini, label pada target inbalance jadi saya memutuskan untuk perbandingan antar model nanti menggunakan nilai f1 score dari semua labelnya. Dan dari model random forest didapatkan nilai f-score sebesar 89.778%"
   ]
  },
  {
   "cell_type": "code",
   "execution_count": null,
   "metadata": {},
   "outputs": [
    {
     "data": {
      "image/png": "[encoded data removed]",
      "text/plain": [
       "<Figure size 432x288 with 1 Axes>"
      ]
     },
     "metadata": {
      "needs_background": "light"
     },
     "output_type": "display_data"
    }
   ],
   "source": [
    "# Grafik Roc Curve Model Random Forest\n",
    "\n",
    "plt.figure()\n",
    "plt.plot(fpr_rf, tpr_rf, color='coral', label='ROC curve (area = %0.3f)' % auc(fpr_rf, tpr_rf))\n",
    "plt.plot([0, 1], [0, 1], 'k--')\n",
    "plt.plot([0,fpr_rf[idx]], [tpr_rf[idx],tpr_rf[idx]], 'k--', color='blue')\n",
    "plt.plot([fpr_rf[idx],fpr_rf[idx]], [0,tpr_rf[idx]], 'k--', color='blue')\n",
    "plt.xlim([0.0, 1.0])\n",
    "plt.ylim([0.0, 1.05])\n",
    "plt.xlabel('False Positive Rate (1 - specificity)', fontsize=14)\n",
    "plt.ylabel('True Positive Rate (recall)', fontsize=14)\n",
    "plt.title('Receiver operating characteristic (ROC) curve')\n",
    "plt.legend(loc=\"lower right\")\n",
    "plt.show()"
   ]
  },
  {
   "cell_type": "markdown",
   "metadata": {},
   "source": [
    "- Disini bisa dilihat luas area yang didapatkan pada model Random Forest ini sebesar 94.2%, yang dimana dapat diartikan bahwa model ini dapat belajar memprediksi data baru dengan tingkat kebenaran sebesar 94.2%"
   ]
  },
  {
   "cell_type": "markdown",
   "metadata": {},
   "source": [
    "### 4. Evaluasi Model Decision Tree"
   ]
  },
  {
   "cell_type": "code",
   "execution_count": null,
   "metadata": {},
   "outputs": [
    {
     "name": "stdout",
     "output_type": "stream",
     "text": [
      "Train/Test split results:\n",
      "DecisionTreeClassifier accuracy is 0.887\n",
      "DecisionTreeClassifier log_loss is 3.916\n",
      "DecisionTreeClassifier auc is 0.708\n"
     ]
    }
   ],
   "source": [
    "# Evaluasi Model Decision Tree\n",
    "y_pred_dt = dt.predict(X_test)\n",
    "\n",
    "y_pred_proba_dt = dt.predict_proba(X_test)[:, 1]\n",
    "[fpr_dt, tpr_dt, thr_dt] = roc_curve(y_test, y_pred_proba_dt)\n",
    "print('Train/Test split results:')\n",
    "print(dt.__class__.__name__+\" accuracy is %2.3f\" % accuracy_score(y_test, y_pred_dt))\n",
    "print(dt.__class__.__name__+\" log_loss is %2.3f\" % log_loss(y_test, y_pred_proba_dt))\n",
    "print(dt.__class__.__name__+\" auc is %2.3f\" % auc(fpr_dt, tpr_dt))\n",
    "\n",
    "idx = np.min(np.where(tpr_dt > 0.95))"
   ]
  },
  {
   "cell_type": "markdown",
   "metadata": {},
   "source": [
    "- Hasil dari evaluasi model yang didapatkan pada model decision tree adalah nilai akurasi dari model itu 0.887 atau 88.7% dan nilai auc sebesar 0.708 atau 70.8% yang artinya model ini bisa mempredikasi nilai target dengan benar dari feature yang ada dengan rate kebenaran sebesar 88.7% dan model ini dapat mempelajari prediksi data baru dengan rate kebenaran sebesar 70.8%."
   ]
  },
  {
   "cell_type": "markdown",
   "metadata": {},
   "source": [
    "MEMBANDINGKAN HASIL PREDIKSI MODEL DECISION TREE DENGAN NILAI CROSS VALIDATION K-FOLD PADA MODEL"
   ]
  },
  {
   "cell_type": "code",
   "execution_count": null,
   "metadata": {},
   "outputs": [
    {
     "name": "stdout",
     "output_type": "stream",
     "text": [
      "K-fold cross-validation results:\n",
      "DecisionTreeClassifier average accuracy is 0.907\n",
      "DecisionTreeClassifier average log_loss is 3.226\n",
      "DecisionTreeClassifier average auc is 0.695\n"
     ]
    }
   ],
   "source": [
    "# Cross Validation K-fold Decision Tree\n",
    "scores_accuracy_dt = cross_val_score(dt, X_train, y_train, cv=10, scoring='accuracy')\n",
    "scores_log_loss_dt = cross_val_score(dt, X_train, y_train, cv=10, scoring='neg_log_loss')\n",
    "scores_auc_dt = cross_val_score(dt, X_train, y_train, cv=10, scoring='roc_auc')\n",
    "print('K-fold cross-validation results:')\n",
    "print(dt.__class__.__name__+\" average accuracy is %2.3f\" % scores_accuracy_dt.mean())\n",
    "print(dt.__class__.__name__+\" average log_loss is %2.3f\" % -scores_log_loss_dt.mean())\n",
    "print(dt.__class__.__name__+\" average auc is %2.3f\" % scores_auc_dt.mean())"
   ]
  },
  {
   "cell_type": "markdown",
   "metadata": {},
   "source": [
    "- Hasil dari cross validation model yang didapatkan pada model decision tree adalah nilai akurasi dari model itu 0.907 atau 90.7% dan nilai auc sebesar 0.695 atau 69.5% yang artinya model ini seharusnya bisa mempredikasi nilai target dengan benar dari feature yang ada dengan rate kebenaran sebesar 90.7% dan model ini seharusnya dapat mempelajari prediksi data baru dengan rate kebenaran sebesar 69.5%."
   ]
  },
  {
   "cell_type": "code",
   "execution_count": null,
   "metadata": {},
   "outputs": [
    {
     "name": "stdout",
     "output_type": "stream",
     "text": [
      "Confusion matrix\n",
      "\n",
      " [[13722   898]\n",
      " [  970   886]]\n",
      "\n",
      "Decision Tree Train\n",
      "                precision    recall  f1-score   support\n",
      "\n",
      "Not Subscribe       1.00      1.00      1.00     20605\n",
      "    Subscribe       1.00      1.00      1.00      1803\n",
      "\n",
      "     accuracy                           1.00     22408\n",
      "    macro avg       1.00      1.00      1.00     22408\n",
      " weighted avg       1.00      1.00      1.00     22408\n",
      "\n",
      "accuracy score : 1.0\n",
      "\n",
      "Decision Tree VAL\n",
      "                precision    recall  f1-score   support\n",
      "\n",
      "Not Subscribe       0.93      0.94      0.94     14620\n",
      "    Subscribe       0.50      0.48      0.49      1856\n",
      "\n",
      "     accuracy                           0.89     16476\n",
      "    macro avg       0.72      0.71      0.71     16476\n",
      " weighted avg       0.88      0.89      0.89     16476\n",
      "\n",
      "accuracy score : 0.8866229667394999\n"
     ]
    }
   ],
   "source": [
    "# Classification Report Model Decision Tree\n",
    "y_train_dt = dt.predict(X_train)\n",
    "\n",
    "cm_dt = confusion_matrix(y_test, y_pred_dt)\n",
    "print('Confusion matrix\\n\\n', cm_dt)\n",
    "print('')\n",
    "print(\"Decision Tree Train\\n\", classification_report(y_train, y_train_dt, target_names=[\"Not Subscribe\", \"Subscribe\"]))\n",
    "print('accuracy score :', accuracy_score( y_train_dt, y_train))\n",
    "print('')\n",
    "print(\"Decision Tree VAL\\n\", classification_report(y_test, y_pred_dt, target_names=[\"Not Subscribe\", \"Subscribe\"]))\n",
    "print('accuracy score :', accuracy_score( y_pred_dt, y_test))"
   ]
  },
  {
   "cell_type": "markdown",
   "metadata": {},
   "source": [
    "- Dari hasil classification report diatas, didapatkan nilai akurasi pada train sebesar 100% dan pada saat di test nilai akurasi didapatkan nilai akurasi sebesar 89%. Yang dimana pada kasus ini nilai akurasi train lebih besar daripada test, bisa disebut juga Overfitting"
   ]
  },
  {
   "cell_type": "code",
   "execution_count": null,
   "metadata": {},
   "outputs": [
    {
     "name": "stdout",
     "output_type": "stream",
     "text": [
      "f1-score for inbalance label :  0.8856409012320389\n"
     ]
    }
   ],
   "source": [
    "print('f1-score for inbalance label : ', f1_score(y_test, y_pred_dt, average='weighted'))"
   ]
  },
  {
   "cell_type": "markdown",
   "metadata": {},
   "source": [
    "- Karena pada dataset ini, label pada target inbalance jadi saya memutuskan untuk perbandingan antar model nanti menggunakan nilai f1 score dari semua labelnya. Dan dari model decision tree didapatkan nilai f-score sebesar 88.564%"
   ]
  },
  {
   "cell_type": "code",
   "execution_count": null,
   "metadata": {},
   "outputs": [
    {
     "data": {
      "image/png": "[encoded data removed]",
      "text/plain": [
       "<Figure size 432x288 with 1 Axes>"
      ]
     },
     "metadata": {
      "needs_background": "light"
     },
     "output_type": "display_data"
    }
   ],
   "source": [
    "# Grafik ROC Curve pada model Decision Tree\n",
    "\n",
    "plt.figure()\n",
    "plt.plot(fpr_dt, tpr_dt, color='coral', label='ROC curve (area = %0.3f)' % auc(fpr_dt, tpr_dt))\n",
    "plt.plot([0, 1], [0, 1], 'k--')\n",
    "plt.xlim([0.0, 1.0])\n",
    "plt.ylim([0.0, 1.05])\n",
    "plt.xlabel('False Positive Rate (1 - specificity)', fontsize=14)\n",
    "plt.ylabel('True Positive Rate (recall)', fontsize=14)\n",
    "plt.title('Receiver operating characteristic (ROC) curve')\n",
    "plt.legend(loc=\"lower right\")\n",
    "plt.show()"
   ]
  },
  {
   "cell_type": "markdown",
   "metadata": {},
   "source": [
    "- Disini bisa dilihat luas area yang didapatkan pada model Decision Tree ini sebesar 70.8%, yang dimana dapat diartikan bahwa model ini dapat belajar memprediksi data baru dengan tingkat kebenaran sebesar 70.8%"
   ]
  },
  {
   "cell_type": "markdown",
   "metadata": {},
   "source": [
    "### 5. Evaluasi Model KNN (K-Nearest Neighbors)"
   ]
  },
  {
   "cell_type": "code",
   "execution_count": null,
   "metadata": {},
   "outputs": [
    {
     "name": "stdout",
     "output_type": "stream",
     "text": [
      "Train/Test split results:\n",
      "KNeighborsClassifier accuracy is 0.895\n",
      "KNeighborsClassifier log_loss is 0.948\n",
      "KNeighborsClassifier auc is 0.837\n"
     ]
    }
   ],
   "source": [
    "# Evaluasi Model KNN\n",
    "y_pred_neigh = neigh.predict(X_test)\n",
    "\n",
    "y_pred_proba_neigh = neigh.predict_proba(X_test)[:, 1]\n",
    "[fpr_neigh, tpr_neigh, thr_neigh] = roc_curve(y_test, y_pred_proba_neigh)\n",
    "print('Train/Test split results:')\n",
    "print(neigh.__class__.__name__+\" accuracy is %2.3f\" % accuracy_score(y_test, y_pred_neigh))\n",
    "print(neigh.__class__.__name__+\" log_loss is %2.3f\" % log_loss(y_test, y_pred_proba_neigh))\n",
    "print(neigh.__class__.__name__+\" auc is %2.3f\" % auc(fpr_neigh, tpr_neigh))\n",
    "\n",
    "idx = np.min(np.where(tpr_neigh > 0.95))"
   ]
  },
  {
   "cell_type": "markdown",
   "metadata": {},
   "source": [
    "- Hasil dari evaluasi model yang didapatkan pada model KNN adalah nilai akurasi dari model itu 0.895 atau 89.5% dan nilai auc sebesar 0.837 atau 83.7% yang artinya model ini bisa mempredikasi nilai target dengan benar dari feature yang ada dengan rate kebenaran sebesar 89.5% dan model ini dapat mempelajari prediksi data baru dengan rate kebenaran sebesar 83.7%."
   ]
  },
  {
   "cell_type": "markdown",
   "metadata": {},
   "source": [
    "MEMBANDINGKAN HASIL PREDIKSI MODEL K-NEAREST NEIGHBORS DENGAN NILAI CROSS VALIDATION K-FOLD PADA MODEL"
   ]
  },
  {
   "cell_type": "code",
   "execution_count": null,
   "metadata": {},
   "outputs": [
    {
     "name": "stdout",
     "output_type": "stream",
     "text": [
      "K-fold cross-validation results:\n",
      "KNeighborsClassifier average accuracy is 0.920\n",
      "KNeighborsClassifier average log_loss is 0.914\n",
      "KNeighborsClassifier average auc is 0.803\n"
     ]
    }
   ],
   "source": [
    "# Cross Validation K-fold K-Nearest Neighbors\n",
    "scores_accuracy_neigh = cross_val_score(neigh, X_train, y_train, cv=10, scoring='accuracy')\n",
    "scores_log_loss_neigh = cross_val_score(neigh, X_train, y_train, cv=10, scoring='neg_log_loss')\n",
    "scores_auc_neigh = cross_val_score(neigh, X_train, y_train, cv=10, scoring='roc_auc')\n",
    "print('K-fold cross-validation results:')\n",
    "print(neigh.__class__.__name__+\" average accuracy is %2.3f\" % scores_accuracy_neigh.mean())\n",
    "print(neigh.__class__.__name__+\" average log_loss is %2.3f\" % -scores_log_loss_neigh.mean())\n",
    "print(neigh.__class__.__name__+\" average auc is %2.3f\" % scores_auc_neigh.mean())"
   ]
  },
  {
   "cell_type": "markdown",
   "metadata": {},
   "source": [
    "- Hasil dari cross validation model yang didapatkan pada model KNN adalah nilai akurasi dari model itu 0.920 atau 92% dan nilai auc sebesar 0.803 atau 80.3% yang artinya model ini seharusnya bisa mempredikasi nilai target dengan benar dari feature yang ada dengan rate kebenaran sebesar 92% dan model ini seharusnya dapat mempelajari prediksi data baru dengan rate kebenaran sebesar 80.3%."
   ]
  },
  {
   "cell_type": "code",
   "execution_count": null,
   "metadata": {},
   "outputs": [
    {
     "name": "stdout",
     "output_type": "stream",
     "text": [
      "Confusion matrix\n",
      "\n",
      " [[14229   391]\n",
      " [ 1344   512]]\n",
      "\n",
      "K-Nearest Neighbors Train\n",
      "                precision    recall  f1-score   support\n",
      "\n",
      "Not Subscribe       0.95      0.99      0.97     20605\n",
      "    Subscribe       0.75      0.36      0.48      1803\n",
      "\n",
      "     accuracy                           0.94     22408\n",
      "    macro avg       0.85      0.67      0.73     22408\n",
      " weighted avg       0.93      0.94      0.93     22408\n",
      "\n",
      "accuracy score : 0.9387718671902892\n",
      "\n",
      "K-Nearest Neighbors VAL\n",
      "                precision    recall  f1-score   support\n",
      "\n",
      "Not Subscribe       0.91      0.97      0.94     14620\n",
      "    Subscribe       0.57      0.28      0.37      1856\n",
      "\n",
      "     accuracy                           0.89     16476\n",
      "    macro avg       0.74      0.62      0.66     16476\n",
      " weighted avg       0.87      0.89      0.88     16476\n",
      "\n",
      "accuracy score : 0.8946953143966982\n"
     ]
    }
   ],
   "source": [
    "# Classification Report Model KNN\n",
    "y_train_neigh = neigh.predict(X_train)\n",
    "\n",
    "cm_neigh = confusion_matrix(y_test, y_pred_neigh)\n",
    "print('Confusion matrix\\n\\n', cm_neigh)\n",
    "print('')\n",
    "print(\"K-Nearest Neighbors Train\\n\", classification_report(y_train, y_train_neigh, target_names=[\"Not Subscribe\", \"Subscribe\"]))\n",
    "print('accuracy score :', accuracy_score(y_train_neigh, y_train))\n",
    "print('')\n",
    "print(\"K-Nearest Neighbors VAL\\n\", classification_report(y_test, y_pred_neigh, target_names=[\"Not Subscribe\", \"Subscribe\"]))\n",
    "print('accuracy score :', accuracy_score(y_pred_neigh, y_test))"
   ]
  },
  {
   "cell_type": "markdown",
   "metadata": {},
   "source": [
    "- Dari hasil classification report diatas, didapatkan nilai akurasi pada train sebesar 94% dan pada saat di test nilai akurasi didapatkan nilai akurasi sebesar 89%. Yang dimana pada kasus ini nilai akurasi train lebih besar daripada test, bisa disebut juga Overfitting"
   ]
  },
  {
   "cell_type": "code",
   "execution_count": null,
   "metadata": {},
   "outputs": [
    {
     "name": "stdout",
     "output_type": "stream",
     "text": [
      "f1-score for inbalance label :  0.8781703030015796\n"
     ]
    }
   ],
   "source": [
    "print('f1-score for inbalance label : ', f1_score(y_test, y_pred_neigh, average='weighted'))"
   ]
  },
  {
   "cell_type": "markdown",
   "metadata": {},
   "source": [
    "- Karena pada dataset ini, label pada target inbalance jadi saya memutuskan untuk perbandingan antar model nanti menggunakan nilai f1 score dari semua labelnya. Dan dari model KNN didapatkan nilai f-score sebesar 87.817%"
   ]
  },
  {
   "cell_type": "code",
   "execution_count": null,
   "metadata": {},
   "outputs": [
    {
     "data": {
      "image/png": "[encoded data removed]",
      "text/plain": [
       "<Figure size 432x288 with 1 Axes>"
      ]
     },
     "metadata": {
      "needs_background": "light"
     },
     "output_type": "display_data"
    }
   ],
   "source": [
    "# Grafik ROC Curve Model KNN\n",
    "\n",
    "plt.figure()\n",
    "plt.plot(fpr_neigh, tpr_neigh, color='coral', label='ROC curve (area = %0.3f)' % auc(fpr_neigh, tpr_neigh))\n",
    "plt.plot([0, 1], [0, 1], 'k--')\n",
    "plt.xlim([0.0, 1.0])\n",
    "plt.ylim([0.0, 1.05])\n",
    "plt.xlabel('False Positive Rate (1 - specificity)', fontsize=14)\n",
    "plt.ylabel('True Positive Rate (recall)', fontsize=14)\n",
    "plt.title('Receiver operating characteristic (ROC) curve')\n",
    "plt.legend(loc=\"lower right\")\n",
    "plt.show()"
   ]
  },
  {
   "cell_type": "markdown",
   "metadata": {},
   "source": [
    "- Disini bisa dilihat luas area yang didapatkan pada model KNN ini sebesar 83.7%, yang dimana dapat diartikan bahwa model ini dapat belajar memprediksi data baru dengan tingkat kebenaran sebesar 83.7%"
   ]
  },
  {
   "cell_type": "markdown",
   "metadata": {},
   "source": [
    "### 6. Evaluasi Model Gaussian Naive Bayes"
   ]
  },
  {
   "cell_type": "code",
   "execution_count": null,
   "metadata": {},
   "outputs": [
    {
     "name": "stdout",
     "output_type": "stream",
     "text": [
      "Train/Test split results:\n",
      "GaussianNB accuracy is 0.808\n",
      "GaussianNB log_loss is 0.917\n",
      "GaussianNB auc is 0.877\n"
     ]
    }
   ],
   "source": [
    "# Evaluasi Model Gaussian Naive Bayes\n",
    "y_pred_gauss_nb = gauss_nb.predict(X_test)\n",
    "\n",
    "y_pred_proba_gauss_nb = gauss_nb.predict_proba(X_test)[:, 1]\n",
    "[fpr_gauss_nb, tpr_gauss_nb, thr_gauss_nb] = roc_curve(y_test, y_pred_proba_gauss_nb)\n",
    "print('Train/Test split results:')\n",
    "print(gauss_nb.__class__.__name__+\" accuracy is %2.3f\" % accuracy_score(y_test, y_pred_gauss_nb))\n",
    "print(gauss_nb.__class__.__name__+\" log_loss is %2.3f\" % log_loss(y_test, y_pred_proba_gauss_nb))\n",
    "print(gauss_nb.__class__.__name__+\" auc is %2.3f\" % auc(fpr_gauss_nb, tpr_gauss_nb))\n",
    "\n",
    "idx = np.min(np.where(tpr_gauss_nb > 0.95))"
   ]
  },
  {
   "cell_type": "markdown",
   "metadata": {},
   "source": [
    "- Hasil dari evaluasi model yang didapatkan pada model Gaussian Naive Bayes adalah nilai akurasi dari model itu 0.808 atau 80.8% dan nilai auc sebesar 0.877 atau 87.7% yang artinya model ini bisa mempredikasi nilai target dengan benar dari feature yang ada dengan rate kebenaran sebesar 80.8% dan model ini dapat mempelajari prediksi data baru dengan rate kebenaran sebesar 87.7%."
   ]
  },
  {
   "cell_type": "markdown",
   "metadata": {},
   "source": [
    "MEMBANDINGKAN HASIL PREDIKSI MODEL GAUSSIAN NAIVE BAYES DENGAN NILAI CROSS VALIDATION K-FOLD PADA MODEL"
   ]
  },
  {
   "cell_type": "code",
   "execution_count": null,
   "metadata": {},
   "outputs": [
    {
     "name": "stdout",
     "output_type": "stream",
     "text": [
      "K-fold cross-validation results:\n",
      "GaussianNB average accuracy is 0.824\n",
      "GaussianNB average log_loss is 0.675\n",
      "GaussianNB average auc is 0.847\n"
     ]
    }
   ],
   "source": [
    "# Cross Validation K-fold Gaussian Naive Bayes\n",
    "scores_accuracy_gauss_nb = cross_val_score(gauss_nb, X_train, y_train, cv=10, scoring='accuracy')\n",
    "scores_log_loss_gauss_nb = cross_val_score(gauss_nb, X_train, y_train, cv=10, scoring='neg_log_loss')\n",
    "scores_auc_gauss_nb = cross_val_score(gauss_nb, X_train, y_train, cv=10, scoring='roc_auc')\n",
    "print('K-fold cross-validation results:')\n",
    "print(gauss_nb.__class__.__name__+\" average accuracy is %2.3f\" % scores_accuracy_gauss_nb.mean())\n",
    "print(gauss_nb.__class__.__name__+\" average log_loss is %2.3f\" % -scores_log_loss_gauss_nb.mean())\n",
    "print(gauss_nb.__class__.__name__+\" average auc is %2.3f\" % scores_auc_gauss_nb.mean())"
   ]
  },
  {
   "cell_type": "markdown",
   "metadata": {},
   "source": [
    "- Hasil dari cross validation model yang didapatkan pada model gaussian naive bayes adalah nilai akurasi dari model itu 0.824 atau 82.4% dan nilai auc sebesar 0.847 atau 84.7% yang artinya model ini seharusnya bisa mempredikasi nilai target dengan benar dari feature yang ada dengan rate kebenaran sebesar 82.4% dan model ini seharusnya dapat mempelajari prediksi data baru dengan rate kebenaran sebesar 84.7%."
   ]
  },
  {
   "cell_type": "code",
   "execution_count": null,
   "metadata": {},
   "outputs": [
    {
     "name": "stdout",
     "output_type": "stream",
     "text": [
      "Confusion matrix\n",
      "\n",
      " [[11819  2801]\n",
      " [  363  1493]]\n",
      "\n",
      "Gaussian Naive Bayes Train\n",
      "                precision    recall  f1-score   support\n",
      "\n",
      "Not Subscribe       0.97      0.84      0.90     20605\n",
      "    Subscribe       0.27      0.68      0.38      1803\n",
      "\n",
      "     accuracy                           0.82     22408\n",
      "    macro avg       0.62      0.76      0.64     22408\n",
      " weighted avg       0.91      0.82      0.86     22408\n",
      "\n",
      "accuracy score : 0.8237682970367726\n",
      "\n",
      "Gaussian Naive Bayes VAL\n",
      "                precision    recall  f1-score   support\n",
      "\n",
      "Not Subscribe       0.97      0.81      0.88     14620\n",
      "    Subscribe       0.35      0.80      0.49      1856\n",
      "\n",
      "     accuracy                           0.81     16476\n",
      "    macro avg       0.66      0.81      0.68     16476\n",
      " weighted avg       0.90      0.81      0.84     16476\n",
      "\n",
      "accuracy score : 0.8079630978392813\n"
     ]
    }
   ],
   "source": [
    "# Classification Report Model Gaussian Naive Bayes\n",
    "y_train_gauss_nb = gauss_nb.predict(X_train)\n",
    "\n",
    "cm_gauss_nb = confusion_matrix(y_test, y_pred_gauss_nb)\n",
    "print('Confusion matrix\\n\\n', cm_gauss_nb)\n",
    "print('')\n",
    "print(\"Gaussian Naive Bayes Train\\n\", classification_report(y_train, y_train_gauss_nb, target_names=[\"Not Subscribe\", \"Subscribe\"]))\n",
    "print('accuracy score :', accuracy_score(y_train_gauss_nb, y_train))\n",
    "print('')\n",
    "print(\"Gaussian Naive Bayes VAL\\n\", classification_report(y_test, y_pred_gauss_nb, target_names=[\"Not Subscribe\", \"Subscribe\"]))\n",
    "print('accuracy score :', accuracy_score(y_pred_gauss_nb, y_test))"
   ]
  },
  {
   "cell_type": "markdown",
   "metadata": {},
   "source": [
    "- Dari hasil classification report diatas, didapatkan nilai akurasi pada train sebesar 82% dan pada saat di test nilai akurasi didapatkan nilai akurasi sebesar 81%. Yang dimana pada kasus ini nilai akurasi train lebih besar daripada test, bisa disebut juga Overfitting"
   ]
  },
  {
   "cell_type": "code",
   "execution_count": null,
   "metadata": {},
   "outputs": [
    {
     "name": "stdout",
     "output_type": "stream",
     "text": [
      "f1-score for inbalance label :  0.8372928366105832\n"
     ]
    }
   ],
   "source": [
    "print('f1-score for inbalance label : ', f1_score(y_test, y_pred_gauss_nb, average='weighted'))"
   ]
  },
  {
   "cell_type": "markdown",
   "metadata": {},
   "source": [
    "- Karena pada dataset ini, label pada target inbalance jadi saya memutuskan untuk perbandingan antar model nanti menggunakan nilai f1 score dari semua labelnya. Dan dari model gaussian naive bayes didapatkan nilai f-score sebesar 83.729%"
   ]
  },
  {
   "cell_type": "code",
   "execution_count": null,
   "metadata": {},
   "outputs": [
    {
     "data": {
      "image/png": "[encoded data removed]",
      "text/plain": [
       "<Figure size 432x288 with 1 Axes>"
      ]
     },
     "metadata": {
      "needs_background": "light"
     },
     "output_type": "display_data"
    }
   ],
   "source": [
    "# Grafik ROC Curve Model Gaussian Naive Bayes\n",
    "\n",
    "plt.figure()\n",
    "plt.plot(fpr_gauss_nb, tpr_gauss_nb, color='coral', label='ROC curve (area = %0.3f)' % auc(fpr_gauss_nb, tpr_gauss_nb))\n",
    "plt.plot([0, 1], [0, 1], 'k--')\n",
    "plt.plot([0,fpr_gauss_nb[idx]], [tpr_gauss_nb[idx],tpr_gauss_nb[idx]], 'k--', color='blue')\n",
    "plt.plot([fpr_gauss_nb[idx],fpr_gauss_nb[idx]], [0,tpr_gauss_nb[idx]], 'k--', color='blue')\n",
    "plt.xlim([0.0, 1.0])\n",
    "plt.ylim([0.0, 1.05])\n",
    "plt.xlabel('False Positive Rate (1 - specificity)', fontsize=14)\n",
    "plt.ylabel('True Positive Rate (recall)', fontsize=14)\n",
    "plt.title('Receiver operating characteristic (ROC) curve')\n",
    "plt.legend(loc=\"lower right\")\n",
    "plt.show()"
   ]
  },
  {
   "cell_type": "markdown",
   "metadata": {},
   "source": [
    "- Disini bisa dilihat luas area yang didapatkan pada model gaussian naive bayes ini sebesar 87.7%, yang dimana dapat diartikan bahwa model ini dapat belajar memprediksi data baru dengan tingkat kebenaran sebesar 87.7%"
   ]
  },
  {
   "cell_type": "markdown",
   "metadata": {},
   "source": [
    "### 7. Evaluasi Model Stochastic Gradient Descent"
   ]
  },
  {
   "cell_type": "code",
   "execution_count": null,
   "metadata": {},
   "outputs": [],
   "source": [
    "y_pred_clf_sgd = clf_sgd.predict(X_test)"
   ]
  },
  {
   "cell_type": "code",
   "execution_count": null,
   "metadata": {},
   "outputs": [
    {
     "name": "stdout",
     "output_type": "stream",
     "text": [
      "SGDClassifier score is  0.8992473901432386\n"
     ]
    }
   ],
   "source": [
    "print(clf_sgd.__class__.__name__+\" score is \" , (clf_sgd.score(X_test, y_test)))"
   ]
  },
  {
   "cell_type": "markdown",
   "metadata": {},
   "source": [
    "Hasil evaluasi dari model stochastic gradient decent ini, didapatkan nilai score sebesar 0.8992 atau 90% yang dapat diartikan bahwa model ini dapat memprediksi nilai target pada dataset ini sebesar 90%.\n"
   ]
  },
  {
   "cell_type": "code",
   "execution_count": null,
   "metadata": {},
   "outputs": [
    {
     "name": "stdout",
     "output_type": "stream",
     "text": [
      "K-fold cross-validation results:\n",
      "SGDClassifier average accuracy is 0.923\n",
      "SGDClassifier average auc is 0.917\n"
     ]
    }
   ],
   "source": [
    "# Cross Validation K-fold Stochastic Gradient Descent\n",
    "scores_accuracy_clf_sgd = cross_val_score(clf_sgd, X_train, y_train, cv=10, scoring='accuracy')\n",
    "scores_auc_clf_sgd = cross_val_score(clf_sgd, X_train, y_train, cv=10, scoring='roc_auc')\n",
    "print('K-fold cross-validation results:')\n",
    "print(clf_sgd.__class__.__name__+\" average accuracy is %2.3f\" % scores_accuracy_clf_sgd.mean())\n",
    "print(clf_sgd.__class__.__name__+\" average auc is %2.3f\" % scores_auc_clf_sgd.mean())"
   ]
  },
  {
   "cell_type": "markdown",
   "metadata": {},
   "source": [
    "- Hasil dari cross validation model yang didapatkan pada model stochastic gradient decent adalah nilai akurasi dari model itu 0.923 atau 92.3% dan nilai auc sebesar 0.917 atau 91.7% yang artinya model ini seharusnya bisa mempredikasi nilai target dengan benar dari feature yang ada dengan rate kebenaran sebesar 92.3% dan model ini seharusnya dapat mempelajari prediksi data baru dengan rate kebenaran sebesar 91.7%."
   ]
  },
  {
   "cell_type": "code",
   "execution_count": null,
   "metadata": {},
   "outputs": [
    {
     "name": "stdout",
     "output_type": "stream",
     "text": [
      "Confusion matrix\n",
      "\n",
      " [[14376   244]\n",
      " [ 1416   440]]\n",
      "\n",
      "Stochastic Gradient Descent Train\n",
      "                precision    recall  f1-score   support\n",
      "\n",
      "Not Subscribe       0.93      0.99      0.96     20605\n",
      "    Subscribe       0.67      0.13      0.22      1803\n",
      "\n",
      "     accuracy                           0.92     22408\n",
      "    macro avg       0.80      0.56      0.59     22408\n",
      " weighted avg       0.91      0.92      0.90     22408\n",
      "\n",
      "accuracy score : 0.9248482684755445\n",
      "\n",
      "Stochastic Gradient Descent VAL\n",
      "                precision    recall  f1-score   support\n",
      "\n",
      "Not Subscribe       0.91      0.98      0.95     14620\n",
      "    Subscribe       0.64      0.24      0.35      1856\n",
      "\n",
      "     accuracy                           0.90     16476\n",
      "    macro avg       0.78      0.61      0.65     16476\n",
      " weighted avg       0.88      0.90      0.88     16476\n",
      "\n",
      "accuracy score : 0.8992473901432386\n"
     ]
    }
   ],
   "source": [
    "# Classification Report Model Stochastic Gradient Descent\n",
    "y_train_clf_sgd = clf_sgd.predict(X_train)\n",
    "\n",
    "cm_clf_sgd = confusion_matrix(y_test, y_pred_clf_sgd)\n",
    "print('Confusion matrix\\n\\n', cm_clf_sgd)\n",
    "print('')\n",
    "print(\"Stochastic Gradient Descent Train\\n\", classification_report(y_train, y_train_clf_sgd, target_names=[\"Not Subscribe\", \"Subscribe\"]))\n",
    "print('accuracy score :', accuracy_score(y_train_clf_sgd, y_train))\n",
    "print('')\n",
    "print(\"Stochastic Gradient Descent VAL\\n\", classification_report(y_test, y_pred_clf_sgd, target_names=[\"Not Subscribe\", \"Subscribe\"]))\n",
    "print('accuracy score :', accuracy_score(y_pred_clf_sgd, y_test))"
   ]
  },
  {
   "cell_type": "markdown",
   "metadata": {},
   "source": [
    "- Dari hasil classification report diatas, didapatkan nilai akurasi pada train sebesar 92% dan pada saat di test nilai akurasi didapatkan nilai akurasi sebesar 90%. Yang dimana pada kasus ini nilai akurasi train lebih besar daripada test, bisa disebut juga Overfitting"
   ]
  },
  {
   "cell_type": "code",
   "execution_count": null,
   "metadata": {},
   "outputs": [
    {
     "name": "stdout",
     "output_type": "stream",
     "text": [
      "f1-score for inbalance label :  0.8779442631817305\n"
     ]
    }
   ],
   "source": [
    "print('f1-score for inbalance label : ', f1_score(y_test, y_pred_clf_sgd, average='weighted'))"
   ]
  },
  {
   "cell_type": "markdown",
   "metadata": {},
   "source": [
    "- Karena pada dataset ini, label pada target inbalance jadi saya memutuskan untuk perbandingan antar model nanti menggunakan nilai f1 score dari semua labelnya. Dan dari model stochastic gradient decent didapatkan nilai f-score sebesar 87.794%"
   ]
  },
  {
   "cell_type": "markdown",
   "metadata": {},
   "source": [
    "## Perbandingan Hasil Akurasi Pada Setiap Model"
   ]
  },
  {
   "cell_type": "markdown",
   "metadata": {},
   "source": [
    "Membandingkan nilai akurasi pada setiap model"
   ]
  },
  {
   "cell_type": "code",
   "execution_count": null,
   "metadata": {},
   "outputs": [
    {
     "name": "stdout",
     "output_type": "stream",
     "text": [
      "LogisticRegression accuracy = 0.904\n",
      "SVC accuracy = 0.898458363680505\n",
      "RandomForestClassifier accuracy = 0.907\n",
      "DecisionTreeClassifier accuracy = 0.887\n",
      "KNeighborsClassifier accuracy = 0.895\n",
      "GaussianNB accuracy = 0.808\n",
      "SGDClassifier accuracy = 0.8992473901432386\n"
     ]
    }
   ],
   "source": [
    "print(logreg.__class__.__name__+\" accuracy = %2.3f\" % accuracy_score(y_test, y_pred_logreg))\n",
    "print(svm.__class__.__name__+\" accuracy =\" , (svm.score(X_test, y_test)))\n",
    "print(clf_rf.__class__.__name__+\" accuracy = %2.3f\" % accuracy_score(y_test, y_pred_rf))\n",
    "print(dt.__class__.__name__+\" accuracy = %2.3f\" % accuracy_score(y_test, y_pred_dt))\n",
    "print(neigh.__class__.__name__+\" accuracy = %2.3f\" % accuracy_score(y_test, y_pred_neigh))\n",
    "print(gauss_nb.__class__.__name__+\" accuracy = %2.3f\" % accuracy_score(y_test, y_pred_gauss_nb))\n",
    "print(clf_sgd.__class__.__name__+\" accuracy =\" , (clf_sgd.score(X_test, y_test)))\n"
   ]
  },
  {
   "cell_type": "markdown",
   "metadata": {},
   "source": [
    "- Dari hasil nilai akurasi pada setiap model diatas, bisa dilihat ada dua model tertinggi akurasinya diantara model-model lainnya. yaitu model logistic regression dan model random forest. Tetapi pada kesempatan ini saya hanya mengambil satu model dengan nilai akurasi tertinggi saja yang akan saya lanjutkan untuk di tuning parameternya, yaitu model random forest"
   ]
  },
  {
   "cell_type": "markdown",
   "metadata": {},
   "source": [
    "Karena Data Pada Target Labelnya Inbalance, Jadi Saya Memutuskan Untuk Melihat Perbandingan F1-Score Rata-Rata Setiap Kelasnya"
   ]
  },
  {
   "cell_type": "code",
   "execution_count": null,
   "metadata": {},
   "outputs": [
    {
     "name": "stdout",
     "output_type": "stream",
     "text": [
      "f1-score from Logistic Regression :  0.8951406703125523\n",
      "f1-score from Support Vector Machine :  0.8701354939625944\n",
      "f1-score from RandomForestClassifier :  0.8977900855920212\n",
      "f1-score from DecisionTreeClassifier :  0.8856409012320389\n",
      "f1-score from KNeighborsClassifier :  0.8781703030015796\n",
      "f1-score from GaussianNB :  0.8372928366105832\n",
      "f1-score from SGDClassifier :  0.8779442631817305\n"
     ]
    }
   ],
   "source": [
    "print('f1-score from Logistic Regression : ', f1_score(y_test, y_pred_logreg, average='weighted'))\n",
    "print('f1-score from Support Vector Machine : ', f1_score(y_test, y_pred_svm, average='weighted'))\n",
    "print('f1-score from RandomForestClassifier : ', f1_score(y_test, y_pred_rf, average='weighted'))\n",
    "print('f1-score from DecisionTreeClassifier : ', f1_score(y_test, y_pred_dt, average='weighted'))\n",
    "print('f1-score from KNeighborsClassifier : ', f1_score(y_test, y_pred_neigh, average='weighted'))\n",
    "print('f1-score from GaussianNB : ', f1_score(y_test, y_pred_gauss_nb, average='weighted'))\n",
    "print('f1-score from SGDClassifier : ', f1_score(y_test, y_pred_clf_sgd, average='weighted'))"
   ]
  },
  {
   "cell_type": "markdown",
   "metadata": {},
   "source": [
    "- Tetapi karena datanya tidak balance kita bisa melihat nilai score f1 semua label dari semua model yang ada. Karena asumsi saya kurang baik jika kita hanya melihat nilai akurasi ketika dataset yang ada inbalance. Jadi saya memilih 1 model dengan nilai score f1 semua label tertinggi yaitu model random forest dan kebetulan pada saat dibandingkan dengan nilai akurasi, model random forest adalah model dengan akurasi tertinggi dibandingkan dengan model lain yang ada pada dataset ini."
   ]
  },
  {
   "cell_type": "markdown",
   "metadata": {},
   "source": [
    "## Fine Tuning Parameter Model Terpilih"
   ]
  },
  {
   "cell_type": "code",
   "execution_count": null,
   "metadata": {},
   "outputs": [
    {
     "name": "stdout",
     "output_type": "stream",
     "text": [
      "[[14380  1288]\n",
      " [  240   568]]\n",
      "              precision    recall  f1-score   support\n",
      "\n",
      "           0       0.98      0.92      0.95     15668\n",
      "           1       0.31      0.70      0.43       808\n",
      "\n",
      "    accuracy                           0.91     16476\n",
      "   macro avg       0.64      0.81      0.69     16476\n",
      "weighted avg       0.95      0.91      0.92     16476\n",
      "\n",
      "0.9072590434571498\n"
     ]
    }
   ],
   "source": [
    "# Test Manual Search\n",
    "manual_search = RandomForestClassifier(n_estimators=400,\n",
    "                                 criterion='entropy',\n",
    "                                 max_features='sqrt',\n",
    "                                 min_samples_leaf=10)\n",
    "manual_search.fit(X_train, y_train)\n",
    "y_pred_man_search = manual_search.predict(X_test)\n",
    "print(confusion_matrix(y_pred_man_search, y_test))\n",
    "print(classification_report(y_pred_man_search,y_test))\n",
    "print(accuracy_score(y_pred_man_search, y_test))"
   ]
  },
  {
   "cell_type": "markdown",
   "metadata": {},
   "source": [
    "- Pada model random forest dan parameter ditunning dengan manual search didapatkan nilai akurasi sebesar 90.726%, yang nantinya akan di bandingkan dengan model yang tunning parameternya menggunakan default, grid search, dan random search"
   ]
  },
  {
   "cell_type": "code",
   "execution_count": null,
   "metadata": {},
   "outputs": [
    {
     "name": "stdout",
     "output_type": "stream",
     "text": [
      "f1-score for inbalance label :  0.8906216760955479\n"
     ]
    }
   ],
   "source": [
    "print('f1-score for inbalance label : ', f1_score(y_test, y_pred_man_search, average='weighted'))"
   ]
  },
  {
   "cell_type": "markdown",
   "metadata": {},
   "source": [
    "- Didapatkan nilai f1-score semua label sebesar 89.062% pada tunning parameter manual search, dan nantinya dibandingkan dengan model random forest dengan tunningan parameter lainnya."
   ]
  },
  {
   "cell_type": "code",
   "execution_count": null,
   "metadata": {},
   "outputs": [
    {
     "data": {
      "text/plain": [
       "{'n_estimators': [100, 180, 260, 340, 420, 500],\n",
       " 'max_features': ['auto', 'sqrt', 'log2'],\n",
       " 'max_depth': [10, 108, 206, 304, 402, 500],\n",
       " 'min_samples_split': [2, 5, 10],\n",
       " 'min_samples_leaf': [1, 2, 4, 6],\n",
       " 'criterion': ['entropy', 'gini']}"
      ]
     },
     "execution_count": 142,
     "metadata": {},
     "output_type": "execute_result"
    }
   ],
   "source": [
    "# Test Menggunakan Random Search\n",
    "\n",
    "n_estimators = [int(x) for x in np.linspace(start=100, stop=500, num = 6)]\n",
    "max_features = ['auto', 'sqrt', 'log2']\n",
    "max_depth = [int(x) for x in np.linspace(10, 500, 6)]\n",
    "min_samples_split = [2, 5, 10]\n",
    "min_samples_leaf = [1, 2, 4, 6]\n",
    "random_grid = {'n_estimators': n_estimators,\n",
    "               'max_features':max_features,\n",
    "               'max_depth':max_depth,\n",
    "               'min_samples_split':min_samples_split,\n",
    "               'min_samples_leaf':min_samples_leaf,\n",
    "               'criterion':['entropy','gini']}\n",
    "random_grid"
   ]
  },
  {
   "cell_type": "code",
   "execution_count": null,
   "metadata": {},
   "outputs": [
    {
     "name": "stdout",
     "output_type": "stream",
     "text": [
      "Fitting 5 folds for each of 50 candidates, totalling 250 fits\n"
     ]
    },
    {
     "data": {
      "text/plain": [
       "RandomizedSearchCV(cv=5, estimator=RandomForestClassifier(), n_iter=50,\n",
       "                   n_jobs=-1,\n",
       "                   param_distributions={'criterion': ['entropy', 'gini'],\n",
       "                                        'max_depth': [10, 108, 206, 304, 402,\n",
       "                                                      500],\n",
       "                                        'max_features': ['auto', 'sqrt',\n",
       "                                                         'log2'],\n",
       "                                        'min_samples_leaf': [1, 2, 4, 6],\n",
       "                                        'min_samples_split': [2, 5, 10],\n",
       "                                        'n_estimators': [100, 180, 260, 340,\n",
       "                                                         420, 500]},\n",
       "                   random_state=46, verbose=2)"
      ]
     },
     "execution_count": 143,
     "metadata": {},
     "output_type": "execute_result"
    }
   ],
   "source": [
    "clf_rf_randomcv = RandomizedSearchCV(estimator=clf_rf, param_distributions=random_grid,\n",
    "                                 n_iter=50,\n",
    "                                 cv=5, random_state=46, n_jobs=-1, verbose=2)\n",
    "clf_rf_randomcv.fit(X_train, y_train)"
   ]
  },
  {
   "cell_type": "code",
   "execution_count": null,
   "metadata": {},
   "outputs": [
    {
     "data": {
      "text/plain": [
       "{'n_estimators': 180,\n",
       " 'min_samples_split': 10,\n",
       " 'min_samples_leaf': 6,\n",
       " 'max_features': 'auto',\n",
       " 'max_depth': 206,\n",
       " 'criterion': 'gini'}"
      ]
     },
     "execution_count": 144,
     "metadata": {},
     "output_type": "execute_result"
    }
   ],
   "source": [
    "clf_rf_randomcv.best_params_"
   ]
  },
  {
   "cell_type": "code",
   "execution_count": null,
   "metadata": {},
   "outputs": [],
   "source": [
    "clf_rf_best_random = clf_rf_randomcv.best_estimator_"
   ]
  },
  {
   "cell_type": "code",
   "execution_count": null,
   "metadata": {},
   "outputs": [
    {
     "name": "stdout",
     "output_type": "stream",
     "text": [
      "[[14317  1209]\n",
      " [  303   647]]\n",
      "               precision    recall  f1-score   support\n",
      "\n",
      "Not Subscribe       0.98      0.92      0.95     15526\n",
      "    Subscribe       0.35      0.68      0.46       950\n",
      "\n",
      "     accuracy                           0.91     16476\n",
      "    macro avg       0.66      0.80      0.71     16476\n",
      " weighted avg       0.94      0.91      0.92     16476\n",
      "\n",
      "0.9082301529497451\n"
     ]
    }
   ],
   "source": [
    "y_pred_clf_rfrndm = clf_rf_best_random.predict(X_test)\n",
    "print(confusion_matrix(y_pred_clf_rfrndm, y_test))\n",
    "print(classification_report(y_pred_clf_rfrndm,y_test, target_names=[\"Not Subscribe\", \"Subscribe\"]))\n",
    "print(accuracy_score(y_pred_clf_rfrndm, y_test))"
   ]
  },
  {
   "cell_type": "markdown",
   "metadata": {},
   "source": [
    "- Pada model random forest dan parameter ditunning dengan random search didapatkan nilai akurasi sebesar 90.823%, yang nantinya akan di bandingkan dengan model yang tunning parameternya menggunakan default, grid search, dan manual search"
   ]
  },
  {
   "cell_type": "code",
   "execution_count": null,
   "metadata": {},
   "outputs": [
    {
     "name": "stdout",
     "output_type": "stream",
     "text": [
      "f1-score for inbalance label :  0.8947938632645317\n"
     ]
    }
   ],
   "source": [
    "print('f1-score for inbalance label : ', f1_score(y_test,y_pred_clf_rfrndm, average='weighted'))"
   ]
  },
  {
   "cell_type": "markdown",
   "metadata": {},
   "source": [
    "- Didapatkan nilai f1-score semua label sebesar 89.479% pada tunning parameter random search, dan nantinya dibandingkan dengan model random forest dengan tunningan parameter lainnya."
   ]
  },
  {
   "cell_type": "code",
   "execution_count": null,
   "metadata": {},
   "outputs": [
    {
     "name": "stdout",
     "output_type": "stream",
     "text": [
      "{'criterion': ['gini'], 'max_depth': [206], 'max_features': ['auto'], 'min_samples_leaf': [4, 6, 9, 11], 'min_samples_split': [3, 5, 8, 10, 13], 'n_estimators': [130, 180, 280, 430, 560, 670]}\n"
     ]
    }
   ],
   "source": [
    "# Test Menggunakan Grid Search\n",
    "\n",
    "param_grid = {\n",
    "    'criterion': [clf_rf_randomcv.best_params_['criterion']],\n",
    "    'max_depth': [clf_rf_randomcv.best_params_['max_depth']],\n",
    "    'max_features': [clf_rf_randomcv.best_params_['max_features']],\n",
    "    'min_samples_leaf': [clf_rf_randomcv.best_params_['min_samples_leaf']-2,\n",
    "                         clf_rf_randomcv.best_params_['min_samples_leaf'],\n",
    "                         clf_rf_randomcv.best_params_['min_samples_leaf']+3, \n",
    "                         clf_rf_randomcv.best_params_['min_samples_leaf']+5],\n",
    "    'min_samples_split': [clf_rf_randomcv.best_params_['min_samples_split']-7,\n",
    "                          clf_rf_randomcv.best_params_['min_samples_split']-5,\n",
    "                          clf_rf_randomcv.best_params_['min_samples_split']-2, \n",
    "                          clf_rf_randomcv.best_params_['min_samples_split'],\n",
    "                          clf_rf_randomcv.best_params_['min_samples_split']+3],\n",
    "    'n_estimators': [clf_rf_randomcv.best_params_['n_estimators']-50,\n",
    "                     clf_rf_randomcv.best_params_['n_estimators'],\n",
    "                     clf_rf_randomcv.best_params_['n_estimators']+100,\n",
    "                     clf_rf_randomcv.best_params_['n_estimators']+250,\n",
    "                     clf_rf_randomcv.best_params_['n_estimators']+380,\n",
    "                     clf_rf_randomcv.best_params_['n_estimators']+490]\n",
    "}\n",
    "\n",
    "print(param_grid)"
   ]
  },
  {
   "cell_type": "code",
   "execution_count": null,
   "metadata": {},
   "outputs": [
    {
     "name": "stdout",
     "output_type": "stream",
     "text": [
      "Fitting 5 folds for each of 120 candidates, totalling 600 fits\n"
     ]
    },
    {
     "data": {
      "text/plain": [
       "GridSearchCV(cv=5, estimator=RandomForestClassifier(), n_jobs=-1,\n",
       "             param_grid={'criterion': ['gini'], 'max_depth': [206],\n",
       "                         'max_features': ['auto'],\n",
       "                         'min_samples_leaf': [4, 6, 9, 11],\n",
       "                         'min_samples_split': [3, 5, 8, 10, 13],\n",
       "                         'n_estimators': [130, 180, 280, 430, 560, 670]},\n",
       "             verbose=2)"
      ]
     },
     "execution_count": 149,
     "metadata": {},
     "output_type": "execute_result"
    }
   ],
   "source": [
    "grid_search = GridSearchCV(estimator=clf_rf, param_grid=param_grid, cv=5, n_jobs=-1, verbose=2)\n",
    "grid_search.fit(X_train,y_train)"
   ]
  },
  {
   "cell_type": "code",
   "execution_count": null,
   "metadata": {},
   "outputs": [],
   "source": [
    "clf_rf_best_grid = grid_search.best_estimator_"
   ]
  },
  {
   "cell_type": "code",
   "execution_count": null,
   "metadata": {},
   "outputs": [
    {
     "data": {
      "text/plain": [
       "RandomForestClassifier(max_depth=206, min_samples_leaf=6, min_samples_split=3,\n",
       "                       n_estimators=670)"
      ]
     },
     "execution_count": 151,
     "metadata": {},
     "output_type": "execute_result"
    }
   ],
   "source": [
    "clf_rf_best_grid"
   ]
  },
  {
   "cell_type": "code",
   "execution_count": null,
   "metadata": {},
   "outputs": [
    {
     "name": "stdout",
     "output_type": "stream",
     "text": [
      "[[14310  1209]\n",
      " [  310   647]]\n",
      "              precision    recall  f1-score   support\n",
      "\n",
      "           0       0.98      0.92      0.95     15519\n",
      "           1       0.35      0.68      0.46       957\n",
      "\n",
      "    accuracy                           0.91     16476\n",
      "   macro avg       0.66      0.80      0.70     16476\n",
      "weighted avg       0.94      0.91      0.92     16476\n",
      "\n",
      "0.9078052925467347\n"
     ]
    }
   ],
   "source": [
    "y_pred_clf_best_grid = clf_rf_best_grid.predict(X_test)\n",
    "print(confusion_matrix(y_pred_clf_best_grid, y_test))\n",
    "print(classification_report(y_pred_clf_best_grid,y_test))\n",
    "print(accuracy_score(y_pred_clf_best_grid, y_test))"
   ]
  },
  {
   "cell_type": "markdown",
   "metadata": {},
   "source": [
    "- Pada model random forest dan parameter ditunning dengan grid search didapatkan nilai akurasi sebesar 90.780%, yang nantinya akan di bandingkan dengan model yang tunning parameternya menggunakan default, manual search, dan random search"
   ]
  },
  {
   "cell_type": "code",
   "execution_count": null,
   "metadata": {},
   "outputs": [
    {
     "name": "stdout",
     "output_type": "stream",
     "text": [
      "f1-score for inbalance label :  0.894448161711374\n"
     ]
    }
   ],
   "source": [
    "print('f1-score for inbalance label : ', f1_score(y_test,y_pred_clf_best_grid, average='weighted'))"
   ]
  },
  {
   "cell_type": "markdown",
   "metadata": {},
   "source": [
    "- Didapatkan nilai f1-score semua label sebesar 89.445% pada tunning parameter grid search, dan nantinya dibandingkan dengan model random forest dengan tunningan parameter lainnya."
   ]
  },
  {
   "cell_type": "markdown",
   "metadata": {},
   "source": [
    "## Perbandingan Model Random Forest dengan Parameter Default, Manual Search, Grid Search, dan Random Search"
   ]
  },
  {
   "cell_type": "code",
   "execution_count": null,
   "metadata": {},
   "outputs": [
    {
     "name": "stdout",
     "output_type": "stream",
     "text": [
      "Train/Test split results:\n",
      "RandomForestClassifier accuracy is 0.907\n",
      "RandomForestClassifier log_loss is 0.194\n",
      "RandomForestClassifier auc is 0.942\n"
     ]
    }
   ],
   "source": [
    "# Model Random Forest Default\n",
    "y_pred_rf = clf_rf.predict(X_test)\n",
    "\n",
    "y_pred_proba_rf = clf_rf.predict_proba(X_test)[:, 1]\n",
    "[fpr_rf, tpr_rf, thr_rf] = roc_curve(y_test, y_pred_proba_rf)\n",
    "print('Train/Test split results:')\n",
    "print(clf_rf.__class__.__name__+\" accuracy is %2.3f\" % accuracy_score(y_test, y_pred_rf))\n",
    "print(clf_rf.__class__.__name__+\" log_loss is %2.3f\" % log_loss(y_test, y_pred_proba_rf))\n",
    "print(clf_rf.__class__.__name__+\" auc is %2.3f\" % auc(fpr_rf, tpr_rf))\n",
    "\n",
    "idx = np.min(np.where(tpr_rf > 0.95))"
   ]
  },
  {
   "cell_type": "code",
   "execution_count": null,
   "metadata": {},
   "outputs": [
    {
     "name": "stdout",
     "output_type": "stream",
     "text": [
      "Train/Test split results:\n",
      "RandomForestClassifier accuracy is 0.907\n",
      "RandomForestClassifier log_loss is 0.181\n",
      "RandomForestClassifier auc is 0.947\n"
     ]
    }
   ],
   "source": [
    "# Model Random Forest Manual Search\n",
    "y_pred_man_search = manual_search.predict(X_test)\n",
    "\n",
    "y_pred_proba_man_search = manual_search.predict_proba(X_test)[:, 1]\n",
    "[fpr_rf_man_search, tpr_rf_man_search, thr_rf_man_search] = roc_curve(y_test, y_pred_proba_man_search)\n",
    "print('Train/Test split results:')\n",
    "print(clf_rf.__class__.__name__+\" accuracy is %2.3f\" % accuracy_score(y_test, y_pred_man_search))\n",
    "print(clf_rf.__class__.__name__+\" log_loss is %2.3f\" % log_loss(y_test, y_pred_proba_man_search))\n",
    "print(clf_rf.__class__.__name__+\" auc is %2.3f\" % auc(fpr_rf_man_search, tpr_rf_man_search))\n",
    "\n",
    "idx = np.min(np.where(tpr_rf_man_search > 0.95))"
   ]
  },
  {
   "cell_type": "code",
   "execution_count": null,
   "metadata": {},
   "outputs": [
    {
     "name": "stdout",
     "output_type": "stream",
     "text": [
      "Train/Test split results:\n",
      "RandomForestClassifier accuracy is 0.908\n",
      "RandomForestClassifier log_loss is 0.181\n",
      "RandomForestClassifier auc is 0.946\n"
     ]
    }
   ],
   "source": [
    "# Model Random Forest Random Search\n",
    "y_pred_clf_rfrndm = clf_rf_best_random.predict(X_test)\n",
    "\n",
    "y_pred_proba_rf_rfrndm = clf_rf_best_random.predict_proba(X_test)[:, 1]\n",
    "[fpr_rf_rfrndm, tpr_rf_rfrndm, thr_rf_rfrndm] = roc_curve(y_test, y_pred_proba_rf_rfrndm)\n",
    "print('Train/Test split results:')\n",
    "print(clf_rf.__class__.__name__+\" accuracy is %2.3f\" % accuracy_score(y_test, y_pred_clf_rfrndm))\n",
    "print(clf_rf.__class__.__name__+\" log_loss is %2.3f\" % log_loss(y_test, y_pred_proba_rf_rfrndm))\n",
    "print(clf_rf.__class__.__name__+\" auc is %2.3f\" % auc(fpr_rf_rfrndm, tpr_rf_rfrndm))\n",
    "\n",
    "idx = np.min(np.where(tpr_rf_rfrndm > 0.95))"
   ]
  },
  {
   "cell_type": "code",
   "execution_count": null,
   "metadata": {},
   "outputs": [
    {
     "name": "stdout",
     "output_type": "stream",
     "text": [
      "Train/Test split results:\n",
      "RandomForestClassifier accuracy is 0.908\n",
      "RandomForestClassifier log_loss is 0.180\n",
      "RandomForestClassifier auc is 0.946\n"
     ]
    }
   ],
   "source": [
    "# Model Random Forest Grid Search\n",
    "y_pred_rf_best_grid = clf_rf_best_grid.predict(X_test)\n",
    "\n",
    "y_pred_proba_rf_best_grid = clf_rf_best_grid.predict_proba(X_test)[:, 1]\n",
    "[fpr_rf_best_grid, tpr_rf_best_grid, thr_rf_best_grid] = roc_curve(y_test, y_pred_proba_rf_best_grid)\n",
    "print('Train/Test split results:')\n",
    "print(clf_rf.__class__.__name__+\" accuracy is %2.3f\" % accuracy_score(y_test, y_pred_rf_best_grid))\n",
    "print(clf_rf.__class__.__name__+\" log_loss is %2.3f\" % log_loss(y_test, y_pred_proba_rf_best_grid))\n",
    "print(clf_rf.__class__.__name__+\" auc is %2.3f\" % auc(fpr_rf_best_grid, tpr_rf_best_grid))\n",
    "\n",
    "idx = np.min(np.where(tpr_rf_best_grid > 0.95))"
   ]
  },
  {
   "cell_type": "code",
   "execution_count": null,
   "metadata": {},
   "outputs": [
    {
     "data": {
      "image/png": "[encoded data removed]",
      "text/plain": [
       "<Figure size 432x288 with 1 Axes>"
      ]
     },
     "metadata": {
      "needs_background": "light"
     },
     "output_type": "display_data"
    }
   ],
   "source": [
    "# grafik Roc Curve Perbandingan Pada Setiap Tuning Parameter\n",
    "\n",
    "plt.figure()\n",
    "plt.plot(fpr_rf, tpr_rf, color='coral', label='ROC curve Default (area = %0.3f)' % auc(fpr_rf, tpr_rf))\n",
    "plt.plot(fpr_rf_man_search, tpr_rf_man_search, color='blue', label='ROC curve Manual Search (area = %0.3f)' % auc(fpr_rf_man_search, tpr_rf_man_search))\n",
    "plt.plot(fpr_rf_best_grid, tpr_rf_best_grid, color='red', label='ROC curve Grid Search (area = %0.3f)' % auc(fpr_rf_best_grid, tpr_rf_best_grid))\n",
    "plt.plot(fpr_rf_rfrndm, tpr_rf_rfrndm, color='green', label='ROC curve Random Search(area = %0.3f)' % auc(fpr_rf_rfrndm, tpr_rf_rfrndm))\n",
    "plt.plot([0, 1], [0, 1], 'k--')\n",
    "plt.xlim([0.0, 1.0])\n",
    "plt.ylim([0.0, 1.05])\n",
    "plt.xlabel('False Positive Rate (1 - specificity)', fontsize=14)\n",
    "plt.ylabel('True Positive Rate (recall)', fontsize=14)\n",
    "plt.title('Receiver operating characteristic (ROC) curve')\n",
    "plt.legend(loc=\"lower right\")\n",
    "plt.show()"
   ]
  },
  {
   "cell_type": "code",
   "execution_count": null,
   "metadata": {},
   "outputs": [
    {
     "name": "stdout",
     "output_type": "stream",
     "text": [
      "f1-score Default :  0.8977900855920212\n",
      "f1-score Manual Search :  0.8906216760955479\n",
      "f1-score Grid Search :  0.894448161711374\n",
      "f1-score Random Search :  0.8947938632645317\n"
     ]
    }
   ],
   "source": [
    "print('f1-score Default : ', f1_score(y_test, y_pred_rf, average='weighted'))\n",
    "print('f1-score Manual Search : ', f1_score(y_test, y_pred_man_search, average='weighted'))\n",
    "print('f1-score Grid Search : ', f1_score(y_test,y_pred_clf_best_grid, average='weighted'))\n",
    "print('f1-score Random Search : ', f1_score(y_test,y_pred_clf_rfrndm, average='weighted'))"
   ]
  },
  {
   "cell_type": "markdown",
   "metadata": {},
   "source": [
    "- Pada pemilihan model random forest dengan tunning parameter berbeda saya memfokuskan pada nilai f1-score seluruh label dan nilai auc atau roc curvenya untuk dijadikan pemilihan model terbaik. Ada 3 model yang nilai f-scorenya tinggi dimana pada model default didapatkan nilai f1-score sebesar 89.78% dengan roc curve sebesar 94.2%, model grid search didapatkan nilai f1-score sebesar 89.445% dengan roc curve sebesar 94.6%, dan pada model random search didapatkan nilai f1-score sebesar 89.47% dengan roc curve sebesar 94.6%. Dari nilai didapat saya memilih 2 model yang memiliki nilai auc tertinggi yaitu grid search dan random search karena nilai aucnya sama, setelah itu dibandingkan nilai f1-scorenya. Dan didapatkan nilai terbaik asumsi saya untuk model random forest ini adalah model dengan tunning parameter Grid Search."
   ]
  },
  {
   "cell_type": "markdown",
   "metadata": {},
   "source": [
    "# viii. MODEL INFERENCE"
   ]
  },
  {
   "cell_type": "markdown",
   "metadata": {},
   "source": [
    "SETELAH TERPILIHNYA MODEL RANDOM FOREST DENGAN TUNING PARAMETER RANDOM SEARCH, SAYA COBA UNTUK DI APLIKASIKAN KE DATASET ORIGINAL"
   ]
  },
  {
   "cell_type": "code",
   "execution_count": null,
   "metadata": {},
   "outputs": [
    {
     "data": {
      "text/html": [
       "<div>\n",
       "<style scoped>\n",
       "    .dataframe tbody tr th:only-of-type {\n",
       "        vertical-align: middle;\n",
       "    }\n",
       "\n",
       "    .dataframe tbody tr th {\n",
       "        vertical-align: top;\n",
       "    }\n",
       "\n",
       "    .dataframe thead th {\n",
       "        text-align: right;\n",
       "    }\n",
       "</style>\n",
       "<table border=\"1\" class=\"dataframe\">\n",
       "  <thead>\n",
       "    <tr style=\"text-align: right;\">\n",
       "      <th></th>\n",
       "      <th>age</th>\n",
       "      <th>job</th>\n",
       "      <th>marital</th>\n",
       "      <th>education</th>\n",
       "      <th>default</th>\n",
       "      <th>housing</th>\n",
       "      <th>loan</th>\n",
       "      <th>contact</th>\n",
       "      <th>month</th>\n",
       "      <th>day_of_week</th>\n",
       "      <th>...</th>\n",
       "      <th>campaign</th>\n",
       "      <th>pdays</th>\n",
       "      <th>previous</th>\n",
       "      <th>poutcome</th>\n",
       "      <th>emp.var.rate</th>\n",
       "      <th>cons.price.idx</th>\n",
       "      <th>cons.conf.idx</th>\n",
       "      <th>euribor3m</th>\n",
       "      <th>nr.employed</th>\n",
       "      <th>y</th>\n",
       "    </tr>\n",
       "  </thead>\n",
       "  <tbody>\n",
       "    <tr>\n",
       "      <th>0</th>\n",
       "      <td>56</td>\n",
       "      <td>housemaid</td>\n",
       "      <td>married</td>\n",
       "      <td>basic.4y</td>\n",
       "      <td>no</td>\n",
       "      <td>no</td>\n",
       "      <td>no</td>\n",
       "      <td>telephone</td>\n",
       "      <td>may</td>\n",
       "      <td>mon</td>\n",
       "      <td>...</td>\n",
       "      <td>1</td>\n",
       "      <td>999</td>\n",
       "      <td>0</td>\n",
       "      <td>nonexistent</td>\n",
       "      <td>1.1</td>\n",
       "      <td>93.994</td>\n",
       "      <td>-36.4</td>\n",
       "      <td>4.857</td>\n",
       "      <td>5191.0</td>\n",
       "      <td>no</td>\n",
       "    </tr>\n",
       "    <tr>\n",
       "      <th>1</th>\n",
       "      <td>57</td>\n",
       "      <td>services</td>\n",
       "      <td>married</td>\n",
       "      <td>high.school</td>\n",
       "      <td>unknown</td>\n",
       "      <td>no</td>\n",
       "      <td>no</td>\n",
       "      <td>telephone</td>\n",
       "      <td>may</td>\n",
       "      <td>mon</td>\n",
       "      <td>...</td>\n",
       "      <td>1</td>\n",
       "      <td>999</td>\n",
       "      <td>0</td>\n",
       "      <td>nonexistent</td>\n",
       "      <td>1.1</td>\n",
       "      <td>93.994</td>\n",
       "      <td>-36.4</td>\n",
       "      <td>4.857</td>\n",
       "      <td>5191.0</td>\n",
       "      <td>no</td>\n",
       "    </tr>\n",
       "    <tr>\n",
       "      <th>2</th>\n",
       "      <td>37</td>\n",
       "      <td>services</td>\n",
       "      <td>married</td>\n",
       "      <td>high.school</td>\n",
       "      <td>no</td>\n",
       "      <td>yes</td>\n",
       "      <td>no</td>\n",
       "      <td>telephone</td>\n",
       "      <td>may</td>\n",
       "      <td>mon</td>\n",
       "      <td>...</td>\n",
       "      <td>1</td>\n",
       "      <td>999</td>\n",
       "      <td>0</td>\n",
       "      <td>nonexistent</td>\n",
       "      <td>1.1</td>\n",
       "      <td>93.994</td>\n",
       "      <td>-36.4</td>\n",
       "      <td>4.857</td>\n",
       "      <td>5191.0</td>\n",
       "      <td>no</td>\n",
       "    </tr>\n",
       "  </tbody>\n",
       "</table>\n",
       "<p>3 rows × 21 columns</p>\n",
       "</div>"
      ],
      "text/plain": [
       "   age        job  marital    education  default housing loan    contact  \\\n",
       "0   56  housemaid  married     basic.4y       no      no   no  telephone   \n",
       "1   57   services  married  high.school  unknown      no   no  telephone   \n",
       "2   37   services  married  high.school       no     yes   no  telephone   \n",
       "\n",
       "  month day_of_week  ...  campaign  pdays  previous     poutcome emp.var.rate  \\\n",
       "0   may         mon  ...         1    999         0  nonexistent          1.1   \n",
       "1   may         mon  ...         1    999         0  nonexistent          1.1   \n",
       "2   may         mon  ...         1    999         0  nonexistent          1.1   \n",
       "\n",
       "   cons.price.idx  cons.conf.idx  euribor3m  nr.employed   y  \n",
       "0          93.994          -36.4      4.857       5191.0  no  \n",
       "1          93.994          -36.4      4.857       5191.0  no  \n",
       "2          93.994          -36.4      4.857       5191.0  no  \n",
       "\n",
       "[3 rows x 21 columns]"
      ]
     },
     "execution_count": 160,
     "metadata": {},
     "output_type": "execute_result"
    }
   ],
   "source": [
    "new_data = df.copy()\n",
    "new_data.head(3)"
   ]
  },
  {
   "cell_type": "code",
   "execution_count": null,
   "metadata": {},
   "outputs": [],
   "source": [
    "# Data original yang dihapus kolom target dan feature yang tidak terpilih pasa saat di EDA\n",
    "new_data = new_data.drop(['y', 'pdays'], axis=1)"
   ]
  },
  {
   "cell_type": "code",
   "execution_count": null,
   "metadata": {},
   "outputs": [],
   "source": [
    "# Mengambil sample acak dari dataset original\n",
    "bank_forcast_subscribe = new_data.sample(5)"
   ]
  },
  {
   "cell_type": "code",
   "execution_count": null,
   "metadata": {},
   "outputs": [
    {
     "data": {
      "text/html": [
       "<div>\n",
       "<style scoped>\n",
       "    .dataframe tbody tr th:only-of-type {\n",
       "        vertical-align: middle;\n",
       "    }\n",
       "\n",
       "    .dataframe tbody tr th {\n",
       "        vertical-align: top;\n",
       "    }\n",
       "\n",
       "    .dataframe thead th {\n",
       "        text-align: right;\n",
       "    }\n",
       "</style>\n",
       "<table border=\"1\" class=\"dataframe\">\n",
       "  <thead>\n",
       "    <tr style=\"text-align: right;\">\n",
       "      <th></th>\n",
       "      <th>age</th>\n",
       "      <th>job</th>\n",
       "      <th>marital</th>\n",
       "      <th>education</th>\n",
       "      <th>default</th>\n",
       "      <th>housing</th>\n",
       "      <th>loan</th>\n",
       "      <th>contact</th>\n",
       "      <th>month</th>\n",
       "      <th>day_of_week</th>\n",
       "      <th>duration</th>\n",
       "      <th>campaign</th>\n",
       "      <th>previous</th>\n",
       "      <th>poutcome</th>\n",
       "      <th>emp.var.rate</th>\n",
       "      <th>cons.price.idx</th>\n",
       "      <th>cons.conf.idx</th>\n",
       "      <th>euribor3m</th>\n",
       "      <th>nr.employed</th>\n",
       "    </tr>\n",
       "  </thead>\n",
       "  <tbody>\n",
       "    <tr>\n",
       "      <th>25323</th>\n",
       "      <td>40</td>\n",
       "      <td>blue-collar</td>\n",
       "      <td>single</td>\n",
       "      <td>high.school</td>\n",
       "      <td>no</td>\n",
       "      <td>yes</td>\n",
       "      <td>no</td>\n",
       "      <td>cellular</td>\n",
       "      <td>nov</td>\n",
       "      <td>tue</td>\n",
       "      <td>139</td>\n",
       "      <td>2</td>\n",
       "      <td>0</td>\n",
       "      <td>nonexistent</td>\n",
       "      <td>-0.1</td>\n",
       "      <td>93.2</td>\n",
       "      <td>-42.0</td>\n",
       "      <td>4.153</td>\n",
       "      <td>5195.8</td>\n",
       "    </tr>\n",
       "  </tbody>\n",
       "</table>\n",
       "</div>"
      ],
      "text/plain": [
       "       age          job marital    education default housing loan   contact  \\\n",
       "25323   40  blue-collar  single  high.school      no     yes   no  cellular   \n",
       "\n",
       "      month day_of_week  duration  campaign  previous     poutcome  \\\n",
       "25323   nov         tue       139         2         0  nonexistent   \n",
       "\n",
       "       emp.var.rate  cons.price.idx  cons.conf.idx  euribor3m  nr.employed  \n",
       "25323          -0.1            93.2          -42.0      4.153       5195.8  "
      ]
     },
     "execution_count": 163,
     "metadata": {},
     "output_type": "execute_result"
    }
   ],
   "source": [
    "bank_forcast_subscribe"
   ]
  },
  {
   "cell_type": "code",
   "execution_count": null,
   "metadata": {},
   "outputs": [],
   "source": [
    "# Label Encoder Untuk Model Inference\n",
    "\n",
    "bank_forcast_subscribe['job'] = labelencoder.transform(bank_forcast_subscribe['job'])\n",
    "bank_forcast_subscribe['marital'] = labelencoder.transform(bank_forcast_subscribe['marital'])\n",
    "bank_forcast_subscribe['education'] = labelencoder.transform(bank_forcast_subscribe['education'])\n",
    "bank_forcast_subscribe['default'] = labelencoder.transform(bank_forcast_subscribe['default'])\n",
    "bank_forcast_subscribe['housing'] = labelencoder.transform(bank_forcast_subscribe['housing'])\n",
    "bank_forcast_subscribe['loan'] = labelencoder.transform(bank_forcast_subscribe['loan'])\n",
    "bank_forcast_subscribe['contact'] = labelencoder.transform(bank_forcast_subscribe['contact'])\n",
    "bank_forcast_subscribe['poutcome'] = labelencoder.transform(bank_forcast_subscribe['poutcome'])\n",
    "bank_forcast_subscribe['day_of_week'] = labelencoder.transform(bank_forcast_subscribe['day_of_week'])\n",
    "bank_forcast_subscribe['month'] = labelencoder.transform(bank_forcast_subscribe['month'])"
   ]
  },
  {
   "cell_type": "code",
   "execution_count": null,
   "metadata": {},
   "outputs": [
    {
     "name": "stdout",
     "output_type": "stream",
     "text": [
      "Client Will Not be Subscribe a Term Deposit at Our Bank\n"
     ]
    }
   ],
   "source": [
    "# Dari data sample acak akan diprediksi apakan customer yang dihubungi akan subscribe ke bank kita\n",
    "\n",
    "result = clf_rf_best_random.predict(scaler.transform(bank_forcast_subscribe))\n",
    "if(result==1):\n",
    "    print('Client Will be Subscribe a Term Deposit at Our Bank') \n",
    "else:\n",
    "    print('Client Will Not be Subscribe a Term Deposit at Our Bank')"
   ]
  },
  {
   "cell_type": "code",
   "execution_count": null,
   "metadata": {},
   "outputs": [
    {
     "data": {
      "text/html": [
       "<div>\n",
       "<style scoped>\n",
       "    .dataframe tbody tr th:only-of-type {\n",
       "        vertical-align: middle;\n",
       "    }\n",
       "\n",
       "    .dataframe tbody tr th {\n",
       "        vertical-align: top;\n",
       "    }\n",
       "\n",
       "    .dataframe thead th {\n",
       "        text-align: right;\n",
       "    }\n",
       "</style>\n",
       "<table border=\"1\" class=\"dataframe\">\n",
       "  <thead>\n",
       "    <tr style=\"text-align: right;\">\n",
       "      <th></th>\n",
       "      <th>Actual</th>\n",
       "      <th>Predict</th>\n",
       "    </tr>\n",
       "  </thead>\n",
       "  <tbody>\n",
       "    <tr>\n",
       "      <th>40323</th>\n",
       "      <td>0</td>\n",
       "      <td>0</td>\n",
       "    </tr>\n",
       "    <tr>\n",
       "      <th>13710</th>\n",
       "      <td>1</td>\n",
       "      <td>0</td>\n",
       "    </tr>\n",
       "    <tr>\n",
       "      <th>34594</th>\n",
       "      <td>0</td>\n",
       "      <td>0</td>\n",
       "    </tr>\n",
       "    <tr>\n",
       "      <th>39329</th>\n",
       "      <td>1</td>\n",
       "      <td>0</td>\n",
       "    </tr>\n",
       "    <tr>\n",
       "      <th>14158</th>\n",
       "      <td>0</td>\n",
       "      <td>0</td>\n",
       "    </tr>\n",
       "    <tr>\n",
       "      <th>...</th>\n",
       "      <td>...</td>\n",
       "      <td>...</td>\n",
       "    </tr>\n",
       "    <tr>\n",
       "      <th>443</th>\n",
       "      <td>0</td>\n",
       "      <td>0</td>\n",
       "    </tr>\n",
       "    <tr>\n",
       "      <th>20398</th>\n",
       "      <td>0</td>\n",
       "      <td>0</td>\n",
       "    </tr>\n",
       "    <tr>\n",
       "      <th>40234</th>\n",
       "      <td>1</td>\n",
       "      <td>0</td>\n",
       "    </tr>\n",
       "    <tr>\n",
       "      <th>15206</th>\n",
       "      <td>0</td>\n",
       "      <td>0</td>\n",
       "    </tr>\n",
       "    <tr>\n",
       "      <th>1476</th>\n",
       "      <td>0</td>\n",
       "      <td>0</td>\n",
       "    </tr>\n",
       "  </tbody>\n",
       "</table>\n",
       "<p>16476 rows × 2 columns</p>\n",
       "</div>"
      ],
      "text/plain": [
       "       Actual  Predict\n",
       "40323       0        0\n",
       "13710       1        0\n",
       "34594       0        0\n",
       "39329       1        0\n",
       "14158       0        0\n",
       "...       ...      ...\n",
       "443         0        0\n",
       "20398       0        0\n",
       "40234       1        0\n",
       "15206       0        0\n",
       "1476        0        0\n",
       "\n",
       "[16476 rows x 2 columns]"
      ]
     },
     "execution_count": 168,
     "metadata": {},
     "output_type": "execute_result"
    }
   ],
   "source": [
    "# Disini untuk melihat hasil prediksi dari model Random Forest \n",
    "# Dimana saya mendapatkan model dengan tunning parameter menggunakan random search yang akurasinya tinggi dan model learningnya yang tinnggi juga\n",
    "# Dan melihat hasil prediksi kita banyak yang benar atau banyak yang salah\n",
    "\n",
    "result_rf_random = clf_rf_best_random.predict(X_test)\n",
    "\n",
    "pd.DataFrame({'Actual':y_test, 'Predict':result_rf_random})"
   ]
  },
  {
   "cell_type": "markdown",
   "metadata": {},
   "source": [
    "# ix. CONCLUSION"
   ]
  },
  {
   "cell_type": "markdown",
   "metadata": {},
   "source": [
    "- Kesimpulan untuk pihak marketing bank bisa fokus kepada client yang memiliki bidang pekerjaan Retired, Entrepreneur, Manajemen untuk difokuskan. Karena indeks kepercayaan konsumen dari ketiga bidang pekerjaan itu lebih berani menggunakan harta atau uang mereka mereka untuk melakukan investai.\n",
    "\n",
    "- Dataset yang didapatkan adalah dataset dari bank untuk mencari client baru untuk mendeposit uangnya ke bank tersebut, dimana dataset ini terdiri dari 41.188 baris dan 21 kolom yang dimana 20 kolomnya ada feature dan untuk targetnya dengan nama kolom 'y'. Didataset ini tidak ditemukannya missing value pada setiap kolom tetapi ada beberapa outlier yang perlu diperhatikan pada kolom numeriknya. Dan bentuk distribusi pada feature ini cukup lengkap, ada yang normal distribusinya ada juga yang tidak normal positif dan negatif atau bisa disebut juga skewed positif dan negatif. Jadi untuk feature yang distribusinya normal, untuk angka trasholdnya saya gunakan 3 kali standar deviasi dan untuk skewed distribusi saya menentukan nilai trasholdnya 1.5 kali dari nilai IQR.\n",
    "\n",
    "- Untuk eksplorasi pada data set yang cukup penting dilihat adalah perbandingan antar label pada kolom target, yang dimana setelah dilihat perbandingannya didapatkan adanya ketidak seimbangan antara kedua label pada kolom target. Jadi bisa dibilang dataset ini inbalance. Dan saya juga melakukan beberapa eksplorasi untuk mendapatkan gambaran tentang dataset ini seperti perbandingan status penikahan pada setiap bidang pekerjaan yang dimana didapatkan orang yang single dan divorce tertinggi terdapat pada bidang pekerjaan admin. Setelah itu saya bandingkan lagi tingkat pendidikan dengan bidang pekerjaannya, dan juga saya membandingkan index kepercayaan konsumen dalam mengeluarkan uang untuk membeli kebutuhan, investasi, dll. Dan saya dapatkan bahwa orang yang kepercayaan cukup baik untu mengeluarkan uang ada pada bidang pekerjaan enterpreneur, management, dan juga orang yang sudah pensiun.\n",
    "\n",
    "- Untuk EDA pada feature yang terdapat pada dataset, didapatkan beberapa feature yang memiliki nilai yang cukup korelasinya antara feature dengan targetnya walapun tidak signifikan. Dan juga saya mengecek nilai vif untuk menditeksi multicollinearity yang dimana ada beberapa feature yang mendapatkan nilai VIF yang cukup tinggi, yang dapat diartikan bahwa feature tersebut memiliki korelasi/ hubungan terhadap feature lainnya. Tetapi saya tetap membawa feature tersebut untuk di uji coba ke model algoritma. Setelah itu saya split data dan handling outlier yang ada pada setiap feature dan ketika data x_train sudah bersih dari outlier dan missing value, saya scaling dataset menggunakan MinMaXScaler yang dimana menurut saya cukup baik digunakan untuk model data classification.\n",
    "\n",
    "- Setelah itu saya uji coba dataset yang sudah discaling tersebut dengan menggunakan tujuh model yaitu, logistic regression, svm, random forest, decision tree, KNN, Naive Bayes, dan SGD. \n",
    "\n",
    "- Pada model Logistic Regression didapatkan nilai accuracy sebesar 0.904 dan nilai auc sebesar 0.929. Yang dapat diartikan bahwa nilai akurasi untuk memprediksi hasil target dari dataset yang berisi feature, akurasi kebenaran dari prediksi model tersebut sebesar 90.4% dan untuk auc didapatkan nilai sebesar 92.9% yang dapat diartikan bahwa model dapat belajar untuk memprediksi data baru yang masuk dengan tingkat learning model tersebut sebesar 92.9%. Dan yang penting untuk perbandingan model adalah nilai f1-score seluruh label yang dimana pada model ini didapatkan nilai f1-score sebesar 89.514%. \n",
    "\n",
    "- Pada model Support Vector Machine didapatkan nilai accuracy sebesar 0.90. Yang dapat diartikan bahwa nilai akurasi untuk memprediksi hasil target dari dataset yang berisi feature, akurasi kebenaran dari prediksi model tersebut sebesar 90.4%. Dan yang penting untuk perbandingan model adalah nilai f1-score seluruh label yang dimana pada model ini didapatkan nilai f1-score sebesar 87.013%. \n",
    "\n",
    "- Pada model Random Forest didapatkan nilai accuracy sebesar 0.907 dan nilai auc sebesar 0.942. Yang dapat diartikan bahwa nilai akurasi untuk memprediksi hasil target dari dataset yang berisi feature, akurasi kebenaran dari prediksi model tersebut sebesar 90.7% dan untuk auc didapatkan nilai sebesar 94.2% yang dapat diartikan bahwa model dapat belajar untuk memprediksi data baru yang masuk dengan tingkat learning model tersebut sebesar 94.2%. Dan yang penting untuk perbandingan model adalah nilai f1-score seluruh label yang dimana pada model ini didapatkan nilai f1-score sebesar 89.778%.\n",
    "\n",
    "- Pada model Decision Tree didapatkan nilai accuracy sebesar 0.887 dan nilai auc sebesar 0.708. Yang dapat diartikan bahwa nilai akurasi untuk memprediksi hasil target dari dataset yang berisi feature, akurasi kebenaran dari prediksi model tersebut sebesar 88.7% dan untuk auc didapatkan nilai sebesar 70.8% yang dapat diartikan bahwa model dapat belajar untuk memprediksi data baru yang masuk dengan tingkat learning model tersebut sebesar 70.8%. Dan yang penting untuk perbandingan model adalah nilai f1-score seluruh label yang dimana pada model ini didapatkan nilai f1-score sebesar 88.564%.\n",
    "\n",
    "- Pada model KNN didapatkan nilai accuracy sebesar 0.895 dan nilai auc sebesar 0.837. Yang dapat diartikan bahwa nilai akurasi untuk memprediksi hasil target dari dataset yang berisi feature, akurasi kebenaran dari prediksi model tersebut sebesar 89.5% dan untuk auc didapatkan nilai sebesar 83.7% yang dapat diartikan bahwa model dapat belajar untuk memprediksi data baru yang masuk dengan tingkat learning model tersebut sebesar 83.7%. Dan yang penting untuk perbandingan model adalah nilai f1-score seluruh label yang dimana pada model ini didapatkan nilai f1-score sebesar 87.817%.\n",
    "\n",
    "- Pada model Gaussian Naive Bayes didapatkan nilai accuracy sebesar 0.808 dan nilai auc sebesar 0.877. Yang dapat diartikan bahwa nilai akurasi untuk memprediksi hasil target dari dataset yang berisi feature, akurasi kebenaran dari prediksi model tersebut sebesar 80.8% dan untuk auc didapatkan nilai sebesar 87.7% yang dapat diartikan bahwa model dapat belajar untuk memprediksi data baru yang masuk dengan tingkat learning model tersebut sebesar 87.7%. Dan yang penting untuk perbandingan model adalah nilai f1-score seluruh label yang dimana pada model ini didapatkan nilai f1-score sebesar 83.729%.\n",
    "\n",
    "- Pada model Stochastic Gradient Descent didapatkan nilai accuracy sebesar 0.8967. Yang dapat diartikan bahwa nilai akurasi untuk memprediksi hasil target dari dataset yang berisi feature, akurasi kebenaran dari prediksi model tersebut sebesar 89.92%. Dan yang penting untuk perbandingan model adalah nilai f1-score seluruh label yang dimana pada model ini didapatkan nilai f1-score sebesar 87.794%. \n",
    "\n",
    "- Setelah dibandingkan ketujuh model tersebut didapatkan nilai f1-score label tertinggi adalah model Random Forest yang dimana model itu saya pilih dan setelah saya ditunning parameter model random forest menggunakan 3 cara yaitu manual search, random search, grid search, dan juga default/ basic parameter. Dan didapatkan Ada 3 model yang nilai f-scorenya tinggi dimana pada model default didapatkan nilai f1-score sebesar 89.78% dengan roc curve sebesar 94.2%, model grid search didapatkan nilai f1-score sebesar 89.445% dengan roc curve sebesar 94.6%, dan pada model random search didapatkan nilai f1-score sebesar 89.47% dengan roc curve sebesar 94.6%. Dari nilai didapat saya memilih 2 model yang memiliki nilai auc tertinggi yaitu grid search dan random search karena nilai aucnya sama, setelah itu dibandingkan nilai f1-scorenya. Dan didapatkan nilai terbaik asumsi saya untuk model random forest ini adalah model dengan tunning parameter Random Search. Dan terakhir saya coba test model terbaik dengan parameter tunning terbaik untuk diuji coba ke model inference, dan model tersebut dapat memprediksi dataset dengan baik."
   ]
  }
 ],
 "metadata": {
  "interpreter": {
   "hash": "c95fb2c3b49b93e6df1d18a2c8970dda38ee56994d34957b449c9ac2d522c736"
  },
  "kernelspec": {
   "display_name": "Python 3.10.1 64-bit",
   "language": "python",
   "name": "python3"
  },
  "language_info": {
   "codemirror_mode": {
    "name": "ipython",
    "version": 3
   },
   "file_extension": ".py",
   "mimetype": "text/x-python",
   "name": "python",
   "nbconvert_exporter": "python",
   "pygments_lexer": "ipython3",
   "version": "3.10.1"
  },
  "orig_nbformat": 4
 },
 "nbformat": 4,
 "nbformat_minor": 2
}
